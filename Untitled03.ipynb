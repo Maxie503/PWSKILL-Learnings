{
 "cells": [
  {
   "cell_type": "code",
   "execution_count": 4,
   "id": "418e06a8-bfee-4c62-923d-8a7fae0bc7be",
   "metadata": {},
   "outputs": [
    {
     "name": "stdin",
     "output_type": "stream",
     "text": [
      "Enter a keyword:  nozzle\n"
     ]
    },
    {
     "name": "stdout",
     "output_type": "stream",
     "text": [
      "nozzle\n",
      "No synonyms found for 'nozzle'.\n"
     ]
    }
   ],
   "source": [
    "import requests\n",
    "from bs4 import BeautifulSoup\n",
    "\n",
    "def fetch_synonyms(keyword):\n",
    "    url = f'https://www.thesaurus.com/browse/{keyword}'\n",
    "    \n",
    "    try:\n",
    "        print(keyword)\n",
    "        response = requests.get(url)\n",
    "        response.raise_for_status()\n",
    "        \n",
    "        soup = BeautifulSoup(response.text, 'html.parser')\n",
    "        \n",
    "        synonyms = []\n",
    "        synonyms_section = soup.find('section', class_='css-1j58y96 e1w12l2p1')\n",
    "        \n",
    "        if synonyms_section:\n",
    "            synonym_elements = synonyms_section.find_all('a', class_='css-1k1cm6i')\n",
    "            \n",
    "            for synonym_element in synonym_elements:\n",
    "                synonyms.append(synonym_element.text.strip())\n",
    "        \n",
    "        return synonyms\n",
    "    \n",
    "    except requests.exceptions.HTTPError as e:\n",
    "        print(f\"HTTP error occurred: {e}\")\n",
    "        return []\n",
    "    except Exception as e:\n",
    "        print(f\"An error occurred: {e}\")\n",
    "        return []\n",
    "\n",
    "if __name__ == \"__main__\":\n",
    "    keyword = input(\"Enter a keyword: \")\n",
    "    synonyms = fetch_synonyms(keyword)\n",
    "    \n",
    "    if synonyms:\n",
    "        print(f\"Synonyms for '{keyword}':\")\n",
    "        for synonym in synonyms:\n",
    "            print(synonym)\n",
    "    else:\n",
    "        print(f\"No synonyms found for '{keyword}'.\")\n"
   ]
  },
  {
   "cell_type": "code",
   "execution_count": null,
   "id": "90bbde65-2ddb-446f-8beb-d2032d32e6dd",
   "metadata": {},
   "outputs": [],
   "source": []
  }
 ],
 "metadata": {
  "kernelspec": {
   "display_name": "Python 3 (ipykernel)",
   "language": "python",
   "name": "python3"
  },
  "language_info": {
   "codemirror_mode": {
    "name": "ipython",
    "version": 3
   },
   "file_extension": ".py",
   "mimetype": "text/x-python",
   "name": "python",
   "nbconvert_exporter": "python",
   "pygments_lexer": "ipython3",
   "version": "3.10.8"
  }
 },
 "nbformat": 4,
 "nbformat_minor": 5
}
