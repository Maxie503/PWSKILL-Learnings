{
 "cells": [
  {
   "cell_type": "markdown",
   "id": "20bbee95-ea8c-47a5-8888-92e0c7b6ae69",
   "metadata": {},
   "source": [
    "# Class 25 Function Pt. 1"
   ]
  },
  {
   "cell_type": "code",
   "execution_count": 19,
   "id": "4234c7e2-fce3-4642-8d8e-420178567357",
   "metadata": {},
   "outputs": [],
   "source": [
    "def test():\n",
    "    return ('1st Fn')"
   ]
  },
  {
   "cell_type": "code",
   "execution_count": 20,
   "id": "00158fb5-463b-4f59-b7d1-7bb7dbfc4ee3",
   "metadata": {},
   "outputs": [
    {
     "data": {
      "text/plain": [
       "'1st Fn'"
      ]
     },
     "execution_count": 20,
     "metadata": {},
     "output_type": "execute_result"
    }
   ],
   "source": [
    "test()"
   ]
  },
  {
   "cell_type": "code",
   "execution_count": 21,
   "id": "8ac2e171-84e9-4f31-a549-bcad080e6b6d",
   "metadata": {},
   "outputs": [
    {
     "data": {
      "text/plain": [
       "'1st FnFrom Umais'"
      ]
     },
     "execution_count": 21,
     "metadata": {},
     "output_type": "execute_result"
    }
   ],
   "source": [
    "test() + 'From Umais'"
   ]
  },
  {
   "cell_type": "code",
   "execution_count": 22,
   "id": "86022af1-ba46-4a5e-b2bf-68badbdb2f7f",
   "metadata": {},
   "outputs": [
    {
     "data": {
      "text/plain": [
       "str"
      ]
     },
     "execution_count": 22,
     "metadata": {},
     "output_type": "execute_result"
    }
   ],
   "source": [
    "type(test() )"
   ]
  },
  {
   "cell_type": "code",
   "execution_count": 1,
   "id": "fba05d3d-6b92-4cda-9c87-58567780d1ef",
   "metadata": {},
   "outputs": [],
   "source": [
    "def test3():\n",
    "    return 1,4,'Pwskill',34.15"
   ]
  },
  {
   "cell_type": "code",
   "execution_count": 2,
   "id": "c8d43e4b-d7dc-418b-8e80-a78790e213ee",
   "metadata": {},
   "outputs": [
    {
     "data": {
      "text/plain": [
       "(1, 4, 'Pwskill', 34.15)"
      ]
     },
     "execution_count": 2,
     "metadata": {},
     "output_type": "execute_result"
    }
   ],
   "source": [
    "test3()"
   ]
  },
  {
   "cell_type": "code",
   "execution_count": 3,
   "id": "688faab5-814c-477a-8bc6-edb1dab86a2b",
   "metadata": {},
   "outputs": [
    {
     "data": {
      "text/plain": [
       "function"
      ]
     },
     "execution_count": 3,
     "metadata": {},
     "output_type": "execute_result"
    }
   ],
   "source": [
    "type(test3)"
   ]
  },
  {
   "cell_type": "code",
   "execution_count": 4,
   "id": "7fb06265-6cd5-4e2a-a945-94f902b36e40",
   "metadata": {},
   "outputs": [],
   "source": [
    "a = 1,2,3,4,5"
   ]
  },
  {
   "cell_type": "code",
   "execution_count": 5,
   "id": "0d7a1d3a-b5af-4bf6-9c00-ff382a744e5f",
   "metadata": {},
   "outputs": [
    {
     "data": {
      "text/plain": [
       "tuple"
      ]
     },
     "execution_count": 5,
     "metadata": {},
     "output_type": "execute_result"
    }
   ],
   "source": [
    "type(a)"
   ]
  },
  {
   "cell_type": "code",
   "execution_count": 6,
   "id": "2dc0fadc-790a-467b-8ab1-1ffe1d7ea50f",
   "metadata": {},
   "outputs": [
    {
     "data": {
      "text/plain": [
       "34.15"
      ]
     },
     "execution_count": 6,
     "metadata": {},
     "output_type": "execute_result"
    }
   ],
   "source": [
    "test3()[3]"
   ]
  },
  {
   "cell_type": "code",
   "execution_count": 7,
   "id": "a7eaaeaf-88d9-4fab-b2fe-c7b6fbc9e177",
   "metadata": {},
   "outputs": [
    {
     "data": {
      "text/plain": [
       "(1, 4, 'Pwskill', 34.15)"
      ]
     },
     "execution_count": 7,
     "metadata": {},
     "output_type": "execute_result"
    }
   ],
   "source": [
    "test3()"
   ]
  },
  {
   "cell_type": "code",
   "execution_count": 8,
   "id": "a92f8281-409d-4b9c-a953-ce43fd8bbd4d",
   "metadata": {},
   "outputs": [],
   "source": [
    "a,b,c,d = test3()"
   ]
  },
  {
   "cell_type": "code",
   "execution_count": 9,
   "id": "93d4d8b6-defe-4ec6-8b05-16fc8f329c1b",
   "metadata": {},
   "outputs": [
    {
     "data": {
      "text/plain": [
       "34.15"
      ]
     },
     "execution_count": 9,
     "metadata": {},
     "output_type": "execute_result"
    }
   ],
   "source": [
    "d"
   ]
  },
  {
   "cell_type": "code",
   "execution_count": 10,
   "id": "3a395452-f6ec-4938-9b51-76cb62a32bc7",
   "metadata": {},
   "outputs": [],
   "source": [
    "def test4():\n",
    "    a= 3*4+5\n",
    "    return a"
   ]
  },
  {
   "cell_type": "code",
   "execution_count": 11,
   "id": "bc230125-197b-405f-9f79-9d79dd71a334",
   "metadata": {},
   "outputs": [
    {
     "data": {
      "text/plain": [
       "17"
      ]
     },
     "execution_count": 11,
     "metadata": {},
     "output_type": "execute_result"
    }
   ],
   "source": [
    "test4()"
   ]
  },
  {
   "cell_type": "code",
   "execution_count": 12,
   "id": "0c553c8a-7bbf-4dc1-99db-bb4c5e60d2f7",
   "metadata": {},
   "outputs": [
    {
     "data": {
      "text/plain": [
       "int"
      ]
     },
     "execution_count": 12,
     "metadata": {},
     "output_type": "execute_result"
    }
   ],
   "source": [
    "type(test4())"
   ]
  },
  {
   "cell_type": "code",
   "execution_count": 13,
   "id": "7f2862ff-33c4-4714-a784-8f8735a09f43",
   "metadata": {},
   "outputs": [],
   "source": [
    "def test5(a,b):\n",
    "    return a+b"
   ]
  },
  {
   "cell_type": "code",
   "execution_count": 17,
   "id": "76d4c638-8a68-4b7a-80c1-eb6eaaf16a04",
   "metadata": {},
   "outputs": [
    {
     "ename": "TypeError",
     "evalue": "test5() missing 2 required positional arguments: 'a' and 'b'",
     "output_type": "error",
     "traceback": [
      "\u001b[0;31m---------------------------------------------------------------------------\u001b[0m",
      "\u001b[0;31mTypeError\u001b[0m                                 Traceback (most recent call last)",
      "Cell \u001b[0;32mIn[17], line 1\u001b[0m\n\u001b[0;32m----> 1\u001b[0m \u001b[43mtest5\u001b[49m\u001b[43m(\u001b[49m\u001b[43m)\u001b[49m\n",
      "\u001b[0;31mTypeError\u001b[0m: test5() missing 2 required positional arguments: 'a' and 'b'"
     ]
    }
   ],
   "source": [
    "test5()"
   ]
  },
  {
   "cell_type": "code",
   "execution_count": 18,
   "id": "7d17c85d-44ae-4786-baea-43bbf5e663d6",
   "metadata": {},
   "outputs": [
    {
     "data": {
      "text/plain": [
       "'um'"
      ]
     },
     "execution_count": 18,
     "metadata": {},
     "output_type": "execute_result"
    }
   ],
   "source": [
    "test5('u','m')"
   ]
  },
  {
   "cell_type": "code",
   "execution_count": 22,
   "id": "8c76db4f-1a81-4e0f-8b5d-f535a5d260b2",
   "metadata": {},
   "outputs": [
    {
     "ename": "NameError",
     "evalue": "name 'test' is not defined",
     "output_type": "error",
     "traceback": [
      "\u001b[0;31m---------------------------------------------------------------------------\u001b[0m",
      "\u001b[0;31mNameError\u001b[0m                                 Traceback (most recent call last)",
      "Cell \u001b[0;32mIn[22], line 1\u001b[0m\n\u001b[0;32m----> 1\u001b[0m \u001b[43mtest\u001b[49m(\u001b[38;5;241m1\u001b[39m,\u001b[38;5;124m'\u001b[39m\u001b[38;5;124mu\u001b[39m\u001b[38;5;124m'\u001b[39m)\n",
      "\u001b[0;31mNameError\u001b[0m: name 'test' is not defined"
     ]
    }
   ],
   "source": [
    "test(1,'u')"
   ]
  },
  {
   "cell_type": "code",
   "execution_count": 23,
   "id": "959372d8-5b2a-47cd-b814-444e9e2808e4",
   "metadata": {},
   "outputs": [
    {
     "data": {
      "text/plain": [
       "[1, 2, 3, 4, 5, 6]"
      ]
     },
     "execution_count": 23,
     "metadata": {},
     "output_type": "execute_result"
    }
   ],
   "source": [
    "test5([1,2,3],[4,5,6])"
   ]
  },
  {
   "cell_type": "code",
   "execution_count": 25,
   "id": "e3545e27-3665-4ca0-a74f-8331a99abafb",
   "metadata": {},
   "outputs": [
    {
     "data": {
      "text/plain": [
       "'farooqiumais'"
      ]
     },
     "execution_count": 25,
     "metadata": {},
     "output_type": "execute_result"
    }
   ],
   "source": [
    "test5(b='umais',a='farooqi')"
   ]
  },
  {
   "cell_type": "code",
   "execution_count": 52,
   "id": "74b287e9-fb4a-4b4c-b03a-6279f749239d",
   "metadata": {},
   "outputs": [],
   "source": [
    "lst = [1,2,3,4,5,'umais','faroowi',[12,23,34,45,'abc']]"
   ]
  },
  {
   "cell_type": "code",
   "execution_count": 66,
   "id": "14c29d07-39c8-48dc-acb8-6c832f185ea3",
   "metadata": {},
   "outputs": [],
   "source": [
    "def test6(a):\n",
    "    n=[]\n",
    "    for i in a:\n",
    "        if type(i) == int or type(i)== float:\n",
    "            n.append(i)\n",
    "        elif type(i) == list:\n",
    "                n.append(test6(i))\n",
    "    return n"
   ]
  },
  {
   "cell_type": "code",
   "execution_count": 67,
   "id": "a7b61cbc-ff91-40d9-86cf-fcd661a5260c",
   "metadata": {},
   "outputs": [
    {
     "data": {
      "text/plain": [
       "[1, 2, 3, 4, 5, [12, 23, 34, 45]]"
      ]
     },
     "execution_count": 67,
     "metadata": {},
     "output_type": "execute_result"
    }
   ],
   "source": [
    "test6(lst)"
   ]
  },
  {
   "cell_type": "code",
   "execution_count": 49,
   "id": "bd87e7b5-1f5a-4c9c-91d1-368114789b73",
   "metadata": {},
   "outputs": [],
   "source": [
    "lst2= lst.copy()"
   ]
  },
  {
   "cell_type": "code",
   "execution_count": 68,
   "id": "94d9a5d5-751e-4966-80d5-3be326a80980",
   "metadata": {},
   "outputs": [
    {
     "data": {
      "text/plain": [
       "[1, 2, 3, 4, 5, 'umais', 'faroowi', [12, 23, 34, 45]]"
      ]
     },
     "execution_count": 68,
     "metadata": {},
     "output_type": "execute_result"
    }
   ],
   "source": [
    "lst2"
   ]
  },
  {
   "cell_type": "markdown",
   "id": "a38a9baf-1787-486c-956e-7df874419306",
   "metadata": {},
   "source": [
    "# Class 26 Function Pt. 2"
   ]
  },
  {
   "cell_type": "code",
   "execution_count": 72,
   "id": "eb739828-9a66-41ca-b9ac-9f811e99569d",
   "metadata": {},
   "outputs": [],
   "source": [
    "def test21(*a1):\n",
    "    return a1"
   ]
  },
  {
   "cell_type": "code",
   "execution_count": 73,
   "id": "5a64835f-3607-4c24-bb05-5f4ecc87bd51",
   "metadata": {},
   "outputs": [
    {
     "data": {
      "text/plain": [
       "(1, 2, 3, 4, 'umais')"
      ]
     },
     "execution_count": 73,
     "metadata": {},
     "output_type": "execute_result"
    }
   ],
   "source": [
    "test21(1,2,3,4,'umais')"
   ]
  },
  {
   "cell_type": "code",
   "execution_count": 76,
   "id": "d3a7044e-156a-46f7-a316-d201c7dfab93",
   "metadata": {},
   "outputs": [],
   "source": [
    "def test23(*a1,a):\n",
    "    return a1,a"
   ]
  },
  {
   "cell_type": "code",
   "execution_count": 80,
   "id": "83fff397-a9e4-4cd0-919b-60f3b5eb9f1d",
   "metadata": {},
   "outputs": [
    {
     "data": {
      "text/plain": [
       "(('umais', 'faroowi'), 1)"
      ]
     },
     "execution_count": 80,
     "metadata": {},
     "output_type": "execute_result"
    }
   ],
   "source": [
    "test23('umais','faroowi',a=1)"
   ]
  },
  {
   "cell_type": "code",
   "execution_count": 81,
   "id": "156b77ce-2496-4c67-bd58-32419b5d1dd8",
   "metadata": {},
   "outputs": [
    {
     "ename": "TypeError",
     "evalue": "test23() missing 1 required keyword-only argument: 'a'",
     "output_type": "error",
     "traceback": [
      "\u001b[0;31m---------------------------------------------------------------------------\u001b[0m",
      "\u001b[0;31mTypeError\u001b[0m                                 Traceback (most recent call last)",
      "Cell \u001b[0;32mIn[81], line 1\u001b[0m\n\u001b[0;32m----> 1\u001b[0m \u001b[43mtest23\u001b[49m\u001b[43m(\u001b[49m\u001b[38;5;241;43m1\u001b[39;49m\u001b[43m)\u001b[49m\n",
      "\u001b[0;31mTypeError\u001b[0m: test23() missing 1 required keyword-only argument: 'a'"
     ]
    }
   ],
   "source": [
    "test23(1)"
   ]
  },
  {
   "cell_type": "code",
   "execution_count": 85,
   "id": "06a944a7-5ae5-4fbb-9ff4-bdf38af62050",
   "metadata": {},
   "outputs": [],
   "source": [
    "def test24(*ar):\n",
    "    l =[]\n",
    "    for i in ar:\n",
    "        if type(i)== list:\n",
    "            l.append(i)\n",
    "    return l"
   ]
  },
  {
   "cell_type": "code",
   "execution_count": 87,
   "id": "f4c67011-63fa-41dd-a803-24019939ea40",
   "metadata": {},
   "outputs": [
    {
     "data": {
      "text/plain": [
       "[[1, 2, 3, 4, 4], [2, 3, 4, 5]]"
      ]
     },
     "execution_count": 87,
     "metadata": {},
     "output_type": "execute_result"
    }
   ],
   "source": [
    "test24(1,2,3,[1,2,3,4,4],(1,2,3,4,4),'Umais',[2,3,4,5])"
   ]
  },
  {
   "cell_type": "code",
   "execution_count": 90,
   "id": "52a126fe-e4f0-4ad0-bec8-9ade94fe717c",
   "metadata": {},
   "outputs": [],
   "source": [
    "def test25(**kwarg):\n",
    "    return kwarg"
   ]
  },
  {
   "cell_type": "code",
   "execution_count": 92,
   "id": "fb7cf69f-6dbc-4701-a584-f5aef018080f",
   "metadata": {},
   "outputs": [
    {
     "data": {
      "text/plain": [
       "dict"
      ]
     },
     "execution_count": 92,
     "metadata": {},
     "output_type": "execute_result"
    }
   ],
   "source": [
    "type(test25())"
   ]
  },
  {
   "cell_type": "code",
   "execution_count": 111,
   "id": "dfd2504d-1257-4dbc-ad07-0a496526296f",
   "metadata": {},
   "outputs": [],
   "source": [
    "a=test25(a=34,b=75)"
   ]
  },
  {
   "cell_type": "code",
   "execution_count": 112,
   "id": "28858156-0a41-421f-9d34-6c1e6201982e",
   "metadata": {},
   "outputs": [
    {
     "data": {
      "text/plain": [
       "{'a': 34, 'b': 75}"
      ]
     },
     "execution_count": 112,
     "metadata": {},
     "output_type": "execute_result"
    }
   ],
   "source": [
    "a"
   ]
  },
  {
   "cell_type": "code",
   "execution_count": 119,
   "id": "45b2b80d-7e41-42e3-9583-d56d9e748297",
   "metadata": {},
   "outputs": [],
   "source": [
    "def test26(**kwarg):\n",
    "    for i in kwarg.keys():\n",
    "        if type(kwarg[i])== list:\n",
    "            return i,kwarg[i]\n",
    "    "
   ]
  },
  {
   "cell_type": "code",
   "execution_count": 120,
   "id": "7f6b682b-1d6f-41b6-8246-8721e115d543",
   "metadata": {},
   "outputs": [
    {
     "data": {
      "text/plain": [
       "('c', [1, 2, 3, 4])"
      ]
     },
     "execution_count": 120,
     "metadata": {},
     "output_type": "execute_result"
    }
   ],
   "source": [
    "test26(a=34,b=23,c=[1,2,3,4],d=('umais','far'))"
   ]
  },
  {
   "cell_type": "code",
   "execution_count": 121,
   "id": "77abc54e-614c-481d-bae5-c88328b44697",
   "metadata": {},
   "outputs": [],
   "source": [
    "def test27(*arg,**krg):\n",
    "    return arg, krg"
   ]
  },
  {
   "cell_type": "code",
   "execution_count": 123,
   "id": "92cc9ec6-e547-4d77-bb7e-2875008dc225",
   "metadata": {},
   "outputs": [
    {
     "data": {
      "text/plain": [
       "((2, 3, 4, 5), {'a': 1, 'b': 2})"
      ]
     },
     "execution_count": 123,
     "metadata": {},
     "output_type": "execute_result"
    }
   ],
   "source": [
    "test27(2,3,4,5,a=1,b=2)"
   ]
  },
  {
   "cell_type": "markdown",
   "id": "64ca3b02-0b86-4df9-ade6-3cd9cafc2728",
   "metadata": {},
   "source": [
    "# Class 27 Generator Function"
   ]
  },
  {
   "cell_type": "code",
   "execution_count": 125,
   "id": "8f5a142f-e1c8-438e-bd22-4dd51307174e",
   "metadata": {},
   "outputs": [
    {
     "data": {
      "text/plain": [
       "range(1, 2)"
      ]
     },
     "execution_count": 125,
     "metadata": {},
     "output_type": "execute_result"
    }
   ],
   "source": [
    "range(1,2)"
   ]
  },
  {
   "cell_type": "code",
   "execution_count": 130,
   "id": "0d0acc69-2bf6-4c6e-970c-403943982561",
   "metadata": {},
   "outputs": [],
   "source": [
    "# fib numbers\n",
    "\n",
    "def test_fib(n):\n",
    "    a,b=0,1\n",
    "    for i in range(n):\n",
    "        yield a # this is running while generating.. YIELD is important for generator function\n",
    "        a,b= b, a+b"
   ]
  },
  {
   "cell_type": "code",
   "execution_count": 138,
   "id": "8c44b380-dbdc-48b0-9aa5-a8b08277f3fb",
   "metadata": {},
   "outputs": [
    {
     "name": "stdout",
     "output_type": "stream",
     "text": [
      "0\n",
      "1\n",
      "1\n",
      "2\n",
      "3\n",
      "5\n",
      "8\n",
      "13\n",
      "21\n",
      "34\n"
     ]
    }
   ],
   "source": [
    "for i in test_fib(10):\n",
    "    print(i,end='\\n')"
   ]
  },
  {
   "cell_type": "markdown",
   "id": "0c7a77f3-65b4-4b73-83c2-1a260c6fda55",
   "metadata": {},
   "source": [
    "# Class 28 Lambda Fn"
   ]
  },
  {
   "cell_type": "code",
   "execution_count": 139,
   "id": "c731d9c3-5d71-4e33-be50-49ad0d0f9d09",
   "metadata": {},
   "outputs": [],
   "source": [
    "def pfn(n,p):\n",
    "    return n**p"
   ]
  },
  {
   "cell_type": "code",
   "execution_count": 140,
   "id": "ced34fb5-63b8-4b7a-86b2-ac8041af31d8",
   "metadata": {},
   "outputs": [
    {
     "data": {
      "text/plain": [
       "8"
      ]
     },
     "execution_count": 140,
     "metadata": {},
     "output_type": "execute_result"
    }
   ],
   "source": [
    "pfn(2,3)"
   ]
  },
  {
   "cell_type": "code",
   "execution_count": 143,
   "id": "29a7c1d5-d1eb-49b7-bdf6-fe0b2cd315c8",
   "metadata": {},
   "outputs": [],
   "source": [
    "a = lambda n,p: n**p"
   ]
  },
  {
   "cell_type": "code",
   "execution_count": 144,
   "id": "ec32f865-b874-40af-a5ae-fd46989e491c",
   "metadata": {},
   "outputs": [
    {
     "data": {
      "text/plain": [
       "8"
      ]
     },
     "execution_count": 144,
     "metadata": {},
     "output_type": "execute_result"
    }
   ],
   "source": [
    "a(2,3)"
   ]
  },
  {
   "cell_type": "code",
   "execution_count": 145,
   "id": "0fa87ad8-c813-4244-bbcf-1cf360e52e73",
   "metadata": {},
   "outputs": [],
   "source": [
    "add = lambda x,y: x+y"
   ]
  },
  {
   "cell_type": "code",
   "execution_count": 146,
   "id": "27d4458f-9222-46b5-aad7-fdd3332d908b",
   "metadata": {},
   "outputs": [
    {
     "data": {
      "text/plain": [
       "4"
      ]
     },
     "execution_count": 146,
     "metadata": {},
     "output_type": "execute_result"
    }
   ],
   "source": [
    "add(2,2)"
   ]
  },
  {
   "cell_type": "code",
   "execution_count": 157,
   "id": "1660612f-b05b-4349-b458-491baf76679f",
   "metadata": {},
   "outputs": [],
   "source": [
    "c_to_f = lambda c: (9/5)*c+32"
   ]
  },
  {
   "cell_type": "code",
   "execution_count": 156,
   "id": "4ff32757-62b5-4f07-bb74-55e87c9009bb",
   "metadata": {},
   "outputs": [
    {
     "data": {
      "text/plain": [
       "118.8"
      ]
     },
     "execution_count": 156,
     "metadata": {},
     "output_type": "execute_result"
    }
   ],
   "source": [
    "c_to_f(34)"
   ]
  },
  {
   "cell_type": "code",
   "execution_count": 158,
   "id": "79e273b7-38ed-4c53-8321-e510d6a64e7e",
   "metadata": {},
   "outputs": [],
   "source": [
    "max_of = lambda x,y: x if x>y else y"
   ]
  },
  {
   "cell_type": "code",
   "execution_count": 159,
   "id": "81a565fb-cac6-4297-bca7-2a3d1bc7e01b",
   "metadata": {},
   "outputs": [
    {
     "data": {
      "text/plain": [
       "85"
      ]
     },
     "execution_count": 159,
     "metadata": {},
     "output_type": "execute_result"
    }
   ],
   "source": [
    "max_of(56,85)"
   ]
  },
  {
   "cell_type": "code",
   "execution_count": 163,
   "id": "890e9e94-a81a-4c8b-996e-e15a76b761e9",
   "metadata": {},
   "outputs": [],
   "source": [
    "s='pwskills'"
   ]
  },
  {
   "cell_type": "code",
   "execution_count": 164,
   "id": "f551490e-ed74-4cf3-aff2-ea1043c12928",
   "metadata": {},
   "outputs": [],
   "source": [
    "len_str = lambda s: len(s)"
   ]
  },
  {
   "cell_type": "code",
   "execution_count": 165,
   "id": "6e1763f1-fdae-4914-b2fb-f8e1a2e28703",
   "metadata": {},
   "outputs": [
    {
     "data": {
      "text/plain": [
       "8"
      ]
     },
     "execution_count": 165,
     "metadata": {},
     "output_type": "execute_result"
    }
   ],
   "source": [
    "len_str(s)"
   ]
  },
  {
   "cell_type": "markdown",
   "id": "c178365c-bcc1-49cd-8fd1-b31dd1135e84",
   "metadata": {},
   "source": [
    "# Class 29 Map, Reduce $ Filter Fn:"
   ]
  },
  {
   "cell_type": "markdown",
   "id": "ae96b7d9-946b-41f9-b926-b26ff27dae39",
   "metadata": {},
   "source": [
    "### Map"
   ]
  },
  {
   "cell_type": "code",
   "execution_count": 1,
   "id": "b03c2c68-96a1-46bb-b5e9-52cc65176069",
   "metadata": {},
   "outputs": [],
   "source": [
    "lst = [1,2,3,4,45,5]"
   ]
  },
  {
   "cell_type": "code",
   "execution_count": 2,
   "id": "5db77f71-0bef-4feb-b3d5-e103e594fe8b",
   "metadata": {},
   "outputs": [],
   "source": [
    "a = lambda x : x**x"
   ]
  },
  {
   "cell_type": "code",
   "execution_count": 5,
   "id": "c4b39d77-36a4-471c-98c1-1d798f91b128",
   "metadata": {},
   "outputs": [
    {
     "name": "stdout",
     "output_type": "stream",
     "text": [
      "[1, 4, 27, 256, 248063644451341145494649182395412689744530581492654164321720600128173828125, 3125]\n"
     ]
    }
   ],
   "source": [
    "print(list(map(a,lst)))"
   ]
  },
  {
   "cell_type": "code",
   "execution_count": 7,
   "id": "bace2633-e29c-498d-acce-eb5ec88341dc",
   "metadata": {},
   "outputs": [],
   "source": [
    "def sq(x):\n",
    "    return x**2"
   ]
  },
  {
   "cell_type": "code",
   "execution_count": 9,
   "id": "e91f43d3-c07e-4630-bb38-51133d24e305",
   "metadata": {},
   "outputs": [
    {
     "data": {
      "text/plain": [
       "[1, 4, 9, 16, 2025, 25]"
      ]
     },
     "execution_count": 9,
     "metadata": {},
     "output_type": "execute_result"
    }
   ],
   "source": [
    "list(map(sq,lst))"
   ]
  },
  {
   "cell_type": "code",
   "execution_count": 14,
   "id": "f0ac736e-a399-4d36-86d7-fea0c9ffa9a7",
   "metadata": {},
   "outputs": [
    {
     "data": {
      "text/plain": [
       "[11, 12, 13, 14, 55, 15]"
      ]
     },
     "execution_count": 14,
     "metadata": {},
     "output_type": "execute_result"
    }
   ],
   "source": [
    "list(map(lambda a: a+10,lst))"
   ]
  },
  {
   "cell_type": "code",
   "execution_count": 15,
   "id": "f4bf400f-8f6d-4694-a4e4-726165c536b6",
   "metadata": {},
   "outputs": [
    {
     "data": {
      "text/plain": [
       "['1', '2', '3', '4', '45', '5']"
      ]
     },
     "execution_count": 15,
     "metadata": {},
     "output_type": "execute_result"
    }
   ],
   "source": [
    "list(map(lambda a: str(a),lst))"
   ]
  },
  {
   "cell_type": "code",
   "execution_count": 16,
   "id": "f539a66a-aa41-4b3c-aa73-fce65f2efc0b",
   "metadata": {},
   "outputs": [],
   "source": [
    "l1 = [1,2,3,4,5]\n",
    "l2 = [6,7,8,9,10]"
   ]
  },
  {
   "cell_type": "code",
   "execution_count": 18,
   "id": "037db8bd-23e4-47e6-adc7-e45d6f06a74d",
   "metadata": {},
   "outputs": [
    {
     "data": {
      "text/plain": [
       "[7, 9, 11, 13, 15]"
      ]
     },
     "execution_count": 18,
     "metadata": {},
     "output_type": "execute_result"
    }
   ],
   "source": [
    "list(map((lambda x,y: x+y),l1,l2))"
   ]
  },
  {
   "cell_type": "code",
   "execution_count": 19,
   "id": "9e427849-e1ff-471e-a73c-4a858aa13e7d",
   "metadata": {},
   "outputs": [],
   "source": [
    "s= 'pwskills'"
   ]
  },
  {
   "cell_type": "code",
   "execution_count": 20,
   "id": "bd48c89e-b90c-4a79-b13c-c134491620a6",
   "metadata": {},
   "outputs": [
    {
     "data": {
      "text/plain": [
       "['P', 'W', 'S', 'K', 'I', 'L', 'L', 'S']"
      ]
     },
     "execution_count": 20,
     "metadata": {},
     "output_type": "execute_result"
    }
   ],
   "source": [
    "list(map((lambda x:x.upper()),s))"
   ]
  },
  {
   "cell_type": "markdown",
   "id": "6582b6d7-30cf-49f1-b0c9-40ca5c4d232d",
   "metadata": {},
   "source": [
    "### Reduce"
   ]
  },
  {
   "cell_type": "code",
   "execution_count": 24,
   "id": "0411e1e0-c984-4d0d-870f-59a25a39977d",
   "metadata": {},
   "outputs": [],
   "source": [
    "from functools import reduce"
   ]
  },
  {
   "cell_type": "code",
   "execution_count": 30,
   "id": "65a552b1-cb6c-4331-a89a-7f1fa07ab9eb",
   "metadata": {},
   "outputs": [
    {
     "data": {
      "text/plain": [
       "40"
      ]
     },
     "execution_count": 30,
     "metadata": {},
     "output_type": "execute_result"
    }
   ],
   "source": [
    "reduce((lambda x,y: x+y),l2)"
   ]
  },
  {
   "cell_type": "code",
   "execution_count": 31,
   "id": "152d76b8-60a4-4786-9664-8ed5ce0c642e",
   "metadata": {},
   "outputs": [
    {
     "data": {
      "text/plain": [
       "15"
      ]
     },
     "execution_count": 31,
     "metadata": {},
     "output_type": "execute_result"
    }
   ],
   "source": [
    "reduce((lambda x,y: x+y),l1)"
   ]
  },
  {
   "cell_type": "code",
   "execution_count": 32,
   "id": "5ac6121d-9001-43f9-bb69-be22c46ce6f0",
   "metadata": {},
   "outputs": [
    {
     "ename": "NameError",
     "evalue": "name 'z' is not defined",
     "output_type": "error",
     "traceback": [
      "\u001b[0;31m---------------------------------------------------------------------------\u001b[0m",
      "\u001b[0;31mNameError\u001b[0m                                 Traceback (most recent call last)",
      "Cell \u001b[0;32mIn[32], line 1\u001b[0m\n\u001b[0;32m----> 1\u001b[0m \u001b[43mreduce\u001b[49m\u001b[43m(\u001b[49m\u001b[43m(\u001b[49m\u001b[38;5;28;43;01mlambda\u001b[39;49;00m\u001b[43m \u001b[49m\u001b[43mx\u001b[49m\u001b[43m,\u001b[49m\u001b[43my\u001b[49m\u001b[43m,\u001b[49m\u001b[43m:\u001b[49m\u001b[43m \u001b[49m\u001b[43mx\u001b[49m\u001b[38;5;241;43m+\u001b[39;49m\u001b[43my\u001b[49m\u001b[38;5;241;43m+\u001b[39;49m\u001b[43mz\u001b[49m\u001b[43m)\u001b[49m\u001b[43m,\u001b[49m\u001b[43ml1\u001b[49m\u001b[43m)\u001b[49m\n",
      "Cell \u001b[0;32mIn[32], line 1\u001b[0m, in \u001b[0;36m<lambda>\u001b[0;34m(x, y)\u001b[0m\n\u001b[0;32m----> 1\u001b[0m reduce((\u001b[38;5;28;01mlambda\u001b[39;00m x,y,: x\u001b[38;5;241m+\u001b[39my\u001b[38;5;241m+\u001b[39m\u001b[43mz\u001b[49m),l1)\n",
      "\u001b[0;31mNameError\u001b[0m: name 'z' is not defined"
     ]
    }
   ],
   "source": [
    "reduce((lambda x,y,: x+y+z),l1)"
   ]
  },
  {
   "cell_type": "code",
   "execution_count": 34,
   "id": "1909f34c-4855-427f-83f7-7c4b6dd7b62a",
   "metadata": {},
   "outputs": [
    {
     "data": {
      "text/plain": [
       "1"
      ]
     },
     "execution_count": 34,
     "metadata": {},
     "output_type": "execute_result"
    }
   ],
   "source": [
    "reduce((lambda x,y,: x+y+z),[1])"
   ]
  },
  {
   "cell_type": "code",
   "execution_count": 35,
   "id": "ab6b8378-ac36-489c-a6f9-0a4f5b243fcc",
   "metadata": {},
   "outputs": [],
   "source": [
    "l=[1,2,3,4,5,4]"
   ]
  },
  {
   "cell_type": "code",
   "execution_count": 36,
   "id": "dc515f4c-3335-4f47-914a-faf8a50223da",
   "metadata": {},
   "outputs": [
    {
     "data": {
      "text/plain": [
       "5"
      ]
     },
     "execution_count": 36,
     "metadata": {},
     "output_type": "execute_result"
    }
   ],
   "source": [
    "reduce((lambda x,y: x if x>y else y),l)"
   ]
  },
  {
   "cell_type": "markdown",
   "id": "902925d6-05d0-4a6a-9065-45af0e73cc8f",
   "metadata": {},
   "source": [
    "### Filter Fn"
   ]
  },
  {
   "cell_type": "code",
   "execution_count": 37,
   "id": "450836bf-24e9-4b81-ad6b-a82af062b63a",
   "metadata": {},
   "outputs": [
    {
     "data": {
      "text/plain": [
       "[1, 2, 3, 4, 5, 4]"
      ]
     },
     "execution_count": 37,
     "metadata": {},
     "output_type": "execute_result"
    }
   ],
   "source": [
    "l "
   ]
  },
  {
   "cell_type": "code",
   "execution_count": 49,
   "id": "9c5aa4c0-b723-4580-96c7-be7dbb23591d",
   "metadata": {},
   "outputs": [
    {
     "data": {
      "text/plain": [
       "[2, 4, 4]"
      ]
     },
     "execution_count": 49,
     "metadata": {},
     "output_type": "execute_result"
    }
   ],
   "source": [
    "list(filter((lambda x: x if x%2==0 else None),l))"
   ]
  },
  {
   "cell_type": "code",
   "execution_count": 51,
   "id": "a5eadc7c-6c89-498e-9ac1-4f7828442725",
   "metadata": {},
   "outputs": [
    {
     "data": {
      "text/plain": [
       "[2, 4, 4]"
      ]
     },
     "execution_count": 51,
     "metadata": {},
     "output_type": "execute_result"
    }
   ],
   "source": [
    "list(filter((lambda x: x%2==0 ),l))"
   ]
  },
  {
   "cell_type": "code",
   "execution_count": 55,
   "id": "5cca9ae3-4523-4ee0-8d51-ae5ab44e5f74",
   "metadata": {},
   "outputs": [],
   "source": [
    "l2=[-2,-3,4,1,8,-10]"
   ]
  },
  {
   "cell_type": "code",
   "execution_count": 56,
   "id": "af018bfe-fc5d-4dcb-9f21-b2f85e07d25e",
   "metadata": {},
   "outputs": [
    {
     "data": {
      "text/plain": [
       "[-2, -3, -10]"
      ]
     },
     "execution_count": 56,
     "metadata": {},
     "output_type": "execute_result"
    }
   ],
   "source": [
    "list(filter((lambda x:x<0),l2))"
   ]
  },
  {
   "cell_type": "code",
   "execution_count": 60,
   "id": "dbecdcd9-f883-43de-8c30-1999483794aa",
   "metadata": {},
   "outputs": [],
   "source": [
    "l3=['umais','pwskils','farooqi','1234']"
   ]
  },
  {
   "cell_type": "code",
   "execution_count": 61,
   "id": "51f67933-114b-4dc2-947a-9641ead8a628",
   "metadata": {},
   "outputs": [
    {
     "data": {
      "text/plain": [
       "['umais', '1234']"
      ]
     },
     "execution_count": 61,
     "metadata": {},
     "output_type": "execute_result"
    }
   ],
   "source": [
    "list(filter((lambda x: len(x)<6),l3))"
   ]
  },
  {
   "cell_type": "code",
   "execution_count": null,
   "id": "05ec2023-0988-4d20-8fce-e8772bde30d9",
   "metadata": {},
   "outputs": [],
   "source": []
  }
 ],
 "metadata": {
  "kernelspec": {
   "display_name": "Python 3 (ipykernel)",
   "language": "python",
   "name": "python3"
  },
  "language_info": {
   "codemirror_mode": {
    "name": "ipython",
    "version": 3
   },
   "file_extension": ".py",
   "mimetype": "text/x-python",
   "name": "python",
   "nbconvert_exporter": "python",
   "pygments_lexer": "ipython3",
   "version": "3.10.8"
  }
 },
 "nbformat": 4,
 "nbformat_minor": 5
}
