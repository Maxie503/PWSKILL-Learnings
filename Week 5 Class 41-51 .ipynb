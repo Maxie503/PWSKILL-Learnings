{
 "cells": [
  {
   "cell_type": "markdown",
   "id": "07e0bcfc-0913-4d83-b78c-ee15b4b44f78",
   "metadata": {},
   "source": [
    "# Class 42: Working With Files"
   ]
  },
  {
   "cell_type": "code",
   "execution_count": 1,
   "id": "68a0f823-79ea-44a3-8dfc-199a9a3fb1ad",
   "metadata": {},
   "outputs": [
    {
     "data": {
      "text/plain": [
       "'/home/jovyan/work'"
      ]
     },
     "execution_count": 1,
     "metadata": {},
     "output_type": "execute_result"
    }
   ],
   "source": [
    "pwd"
   ]
  },
  {
   "cell_type": "code",
   "execution_count": 4,
   "id": "3fe7f70d-8ff2-4d3f-93b9-321661c080a1",
   "metadata": {},
   "outputs": [
    {
     "name": "stdout",
     "output_type": "stream",
     "text": [
      "'My first PW practice.ipynb'  'Week 3 Class 25-29.ipynb'\n",
      " README.md                    'Week 4 Class30-39.ipynb'\n",
      " \u001b[0m\u001b[01;34mResourse\u001b[0m/                    'Week 5 Class 41-51 .ipynb'\n"
     ]
    }
   ],
   "source": [
    "ls"
   ]
  },
  {
   "cell_type": "code",
   "execution_count": 36,
   "id": "0d145d9f-5e66-4ec8-98f1-7eca6f5e5c71",
   "metadata": {},
   "outputs": [],
   "source": [
    "f =open('test.txt','w')"
   ]
  },
  {
   "cell_type": "code",
   "execution_count": 37,
   "id": "080cc238-5199-4734-a815-41eb763d2e89",
   "metadata": {},
   "outputs": [
    {
     "name": "stdout",
     "output_type": "stream",
     "text": [
      "'My first PW practice.ipynb'  'Week 3 Class 25-29.ipynb'\n",
      " README.md                    'Week 4 Class30-39.ipynb'\n",
      " \u001b[0m\u001b[01;34mResourse\u001b[0m/                    'Week 5 Class 41-51 .ipynb'\n",
      " test.txt\n"
     ]
    }
   ],
   "source": [
    "ls"
   ]
  },
  {
   "cell_type": "code",
   "execution_count": 38,
   "id": "b976046b-853f-4261-be51-72ed016c9d5e",
   "metadata": {},
   "outputs": [
    {
     "data": {
      "text/plain": [
       "22"
      ]
     },
     "execution_count": 38,
     "metadata": {},
     "output_type": "execute_result"
    }
   ],
   "source": [
    "f.write('this is my first write')"
   ]
  },
  {
   "cell_type": "code",
   "execution_count": 39,
   "id": "5f32eeca-52c1-4c00-a161-cfe229476d90",
   "metadata": {},
   "outputs": [
    {
     "data": {
      "text/plain": [
       "26"
      ]
     },
     "execution_count": 39,
     "metadata": {},
     "output_type": "execute_result"
    }
   ],
   "source": [
    "f.write(f'\\n this is my first write 2')"
   ]
  },
  {
   "cell_type": "code",
   "execution_count": 40,
   "id": "043c9446-8674-4bd1-9063-960036c806f7",
   "metadata": {},
   "outputs": [],
   "source": [
    "f.close()"
   ]
  },
  {
   "cell_type": "code",
   "execution_count": 41,
   "id": "feb0853f-5d0d-488d-a695-aa37e7484cd1",
   "metadata": {},
   "outputs": [],
   "source": [
    "f =open('test.txt','a')"
   ]
  },
  {
   "cell_type": "code",
   "execution_count": 42,
   "id": "a7aab21a-e7e3-41b8-a38d-5699ff6abddb",
   "metadata": {},
   "outputs": [
    {
     "data": {
      "text/plain": [
       "21"
      ]
     },
     "execution_count": 42,
     "metadata": {},
     "output_type": "execute_result"
    }
   ],
   "source": [
    "f.write(f'\\n\\n this is my 3 write')"
   ]
  },
  {
   "cell_type": "code",
   "execution_count": 43,
   "id": "db9ab86b-421c-40a8-8aac-dcca95200241",
   "metadata": {},
   "outputs": [],
   "source": [
    "f.close()"
   ]
  },
  {
   "cell_type": "code",
   "execution_count": 44,
   "id": "d040d367-7735-40ef-b4ee-9427ca29d856",
   "metadata": {},
   "outputs": [],
   "source": [
    "f =open('test.txt','a')"
   ]
  },
  {
   "cell_type": "code",
   "execution_count": 45,
   "id": "29194865-4caa-4a74-98c1-282b1c94f497",
   "metadata": {},
   "outputs": [
    {
     "data": {
      "text/plain": [
       "356"
      ]
     },
     "execution_count": 45,
     "metadata": {},
     "output_type": "execute_result"
    }
   ],
   "source": [
    "f.write('Object-oriented programming is an approach or a programming sample where the packages are structured around objects rather than functions and logic. It makes the data partitioned into memory areas, i.e., data and functions, and helps make the code flexible and modular. The four pillars of OOPS are Inheritance, Polymorphism, Encapsulation and Abstraction.')"
   ]
  },
  {
   "cell_type": "code",
   "execution_count": 47,
   "id": "91415548-19eb-4432-83da-07099d2d79f0",
   "metadata": {},
   "outputs": [],
   "source": [
    "f.close()"
   ]
  },
  {
   "cell_type": "code",
   "execution_count": 48,
   "id": "fd174bc0-6fa5-4a99-bbc8-6bf4bebe9e35",
   "metadata": {},
   "outputs": [],
   "source": [
    "f =open('test.txt','r')"
   ]
  },
  {
   "cell_type": "code",
   "execution_count": 49,
   "id": "5b9ebc1b-e337-4214-9264-838cca561f8d",
   "metadata": {},
   "outputs": [
    {
     "data": {
      "text/plain": [
       "'this is my first write\\n this is my first write 2\\n\\n this is my 3 writeObject-oriented programming is an approach or a programming sample where the packages are structured around objects rather than functions and logic. It makes the data partitioned into memory areas, i.e., data and functions, and helps make the code flexible and modular. The four pillars of OOPS are Inheritance, Polymorphism, Encapsulation and Abstraction.'"
      ]
     },
     "execution_count": 49,
     "metadata": {},
     "output_type": "execute_result"
    }
   ],
   "source": [
    "f.read()"
   ]
  },
  {
   "cell_type": "code",
   "execution_count": 50,
   "id": "a8083abc-40e9-45a0-b2ac-cfb45ad09e7d",
   "metadata": {},
   "outputs": [
    {
     "data": {
      "text/plain": [
       "''"
      ]
     },
     "execution_count": 50,
     "metadata": {},
     "output_type": "execute_result"
    }
   ],
   "source": [
    "f.read()"
   ]
  },
  {
   "cell_type": "code",
   "execution_count": 51,
   "id": "0631d41e-f985-4914-a0e3-807468568f95",
   "metadata": {},
   "outputs": [
    {
     "data": {
      "text/plain": [
       "0"
      ]
     },
     "execution_count": 51,
     "metadata": {},
     "output_type": "execute_result"
    }
   ],
   "source": [
    "f.seek(0)"
   ]
  },
  {
   "cell_type": "code",
   "execution_count": 52,
   "id": "d302bc0c-6dd8-4ae5-b74e-5ff6ade995d1",
   "metadata": {},
   "outputs": [
    {
     "data": {
      "text/plain": [
       "'this is my first write\\n this is my first write 2\\n\\n this is my 3 writeObject-oriented programming is an approach or a programming sample where the packages are structured around objects rather than functions and logic. It makes the data partitioned into memory areas, i.e., data and functions, and helps make the code flexible and modular. The four pillars of OOPS are Inheritance, Polymorphism, Encapsulation and Abstraction.'"
      ]
     },
     "execution_count": 52,
     "metadata": {},
     "output_type": "execute_result"
    }
   ],
   "source": [
    "f.read()"
   ]
  },
  {
   "cell_type": "code",
   "execution_count": 53,
   "id": "726c0538-0919-4612-9ebd-6413589d0d9c",
   "metadata": {},
   "outputs": [
    {
     "data": {
      "text/plain": [
       "''"
      ]
     },
     "execution_count": 53,
     "metadata": {},
     "output_type": "execute_result"
    }
   ],
   "source": [
    "f.read()"
   ]
  },
  {
   "cell_type": "code",
   "execution_count": 54,
   "id": "3ca555f3-8669-44dd-a560-bee4e3323574",
   "metadata": {},
   "outputs": [],
   "source": [
    "f.close()"
   ]
  },
  {
   "cell_type": "code",
   "execution_count": 56,
   "id": "0653b38b-e8f8-40c6-8293-a0d23cfaa9a6",
   "metadata": {},
   "outputs": [],
   "source": [
    "f= open('test.txt','r')"
   ]
  },
  {
   "cell_type": "code",
   "execution_count": 57,
   "id": "cc0dfa1d-e7af-4aec-9761-af1fa918cb9b",
   "metadata": {},
   "outputs": [
    {
     "name": "stdout",
     "output_type": "stream",
     "text": [
      "this is my first write\n",
      " this is my first write 2\n",
      "\n",
      " this is my 3 writeObject-oriented programming is an approach or a programming sample where the packages are structured around objects rather than functions and logic. It makes the data partitioned into memory areas, i.e., data and functions, and helps make the code flexible and modular. The four pillars of OOPS are Inheritance, Polymorphism, Encapsulation and Abstraction."
     ]
    }
   ],
   "source": [
    "for i in f:\n",
    "    print(i, end='')"
   ]
  },
  {
   "cell_type": "code",
   "execution_count": 58,
   "id": "939c191f-24ee-40e9-9bdf-a413943cc1fc",
   "metadata": {},
   "outputs": [],
   "source": [
    "import os"
   ]
  },
  {
   "cell_type": "code",
   "execution_count": 60,
   "id": "28665337-ce88-479f-b4ca-503a4f03601f",
   "metadata": {},
   "outputs": [
    {
     "data": {
      "text/plain": [
       "425"
      ]
     },
     "execution_count": 60,
     "metadata": {},
     "output_type": "execute_result"
    }
   ],
   "source": [
    "os.path.getsize('test.txt')"
   ]
  },
  {
   "cell_type": "code",
   "execution_count": 61,
   "id": "3361ec82-71dc-412f-a618-87b6a32c1b69",
   "metadata": {},
   "outputs": [],
   "source": [
    "import shutil"
   ]
  },
  {
   "cell_type": "code",
   "execution_count": 62,
   "id": "2bd8c8c4-0959-4a0e-87b5-2f23afb1517f",
   "metadata": {},
   "outputs": [
    {
     "data": {
      "text/plain": [
       "'test1.txt'"
      ]
     },
     "execution_count": 62,
     "metadata": {},
     "output_type": "execute_result"
    }
   ],
   "source": [
    "shutil.copy('test.txt','test1.txt')"
   ]
  },
  {
   "cell_type": "code",
   "execution_count": 63,
   "id": "3dec710c-a88b-409e-bfbd-c1e59c23e807",
   "metadata": {},
   "outputs": [],
   "source": [
    "f1= open('test1.txt','r')"
   ]
  },
  {
   "cell_type": "code",
   "execution_count": 64,
   "id": "7b15bb28-bb60-4419-bee8-c95964b08e5e",
   "metadata": {},
   "outputs": [
    {
     "data": {
      "text/plain": [
       "'this is my first write\\n this is my first write 2\\n\\n this is my 3 writeObject-oriented programming is an approach or a programming sample where the packages are structured around objects rather than functions and logic. It makes the data partitioned into memory areas, i.e., data and functions, and helps make the code flexible and modular. The four pillars of OOPS are Inheritance, Polymorphism, Encapsulation and Abstraction.'"
      ]
     },
     "execution_count": 64,
     "metadata": {},
     "output_type": "execute_result"
    }
   ],
   "source": [
    "f1.read()"
   ]
  },
  {
   "cell_type": "code",
   "execution_count": 65,
   "id": "f0a37496-a1ca-4207-8000-5092defeb38f",
   "metadata": {},
   "outputs": [],
   "source": [
    "f1.close()"
   ]
  },
  {
   "cell_type": "code",
   "execution_count": 66,
   "id": "7d9cd6dc-e722-4176-b385-91fefc98afdf",
   "metadata": {},
   "outputs": [],
   "source": [
    "os.remove('test1.txt')"
   ]
  },
  {
   "cell_type": "code",
   "execution_count": 71,
   "id": "fdf6c572-6d85-47cf-8f1b-945f3f58e1dc",
   "metadata": {},
   "outputs": [
    {
     "name": "stdout",
     "output_type": "stream",
     "text": [
      "this is my first write\n",
      " this is my first write 2\n",
      "\n",
      " this is my 3 writeObject-oriented programming is an approach or a programming sample where the packages are structured around objects rather than functions and logic. It makes the data partitioned into memory areas, i.e., data and functions, and helps make the code flexible and modular. The four pillars of OOPS are Inheritance, Polymorphism, Encapsulation and Abstraction.\n"
     ]
    }
   ],
   "source": [
    "with open('test.txt','r') as f :\n",
    "    print(f.read())"
   ]
  },
  {
   "cell_type": "markdown",
   "id": "ed36ee07-def8-4f26-876c-5f14491e8bc5",
   "metadata": {},
   "source": [
    "# Class 43: Reading And Writing Files"
   ]
  },
  {
   "cell_type": "markdown",
   "id": "e93b0280-a90f-4576-b2ff-af64f0789a18",
   "metadata": {},
   "source": [
    "# JASON"
   ]
  },
  {
   "cell_type": "code",
   "execution_count": 12,
   "id": "ece6e819-1682-4ba6-b248-9a25ab631e9b",
   "metadata": {},
   "outputs": [],
   "source": [
    "data = {\n",
    "    'name' : 'umais',\n",
    "    'email' : 'ab@ab.com',\n",
    "    'mobile' : 9844563221,\n",
    "    'subject' : ['DS', 'bigdata','Data A']\n",
    "}"
   ]
  },
  {
   "cell_type": "code",
   "execution_count": 13,
   "id": "dba29265-40a1-4ac5-9936-bdf193c0a050",
   "metadata": {},
   "outputs": [],
   "source": [
    "import json"
   ]
  },
  {
   "cell_type": "code",
   "execution_count": 14,
   "id": "eecc7c7e-e35b-4395-b51c-f04aadbe3ac2",
   "metadata": {},
   "outputs": [],
   "source": [
    "with open('test1.json','w') as f:\n",
    "    json.dump(data,f)\n",
    "    "
   ]
  },
  {
   "cell_type": "code",
   "execution_count": 17,
   "id": "f22708e4-5d13-456a-93b1-339278f634e6",
   "metadata": {},
   "outputs": [],
   "source": [
    "with open('test1.json','r') as f:\n",
    "    jdata= json.load(f)\n",
    "    "
   ]
  },
  {
   "cell_type": "code",
   "execution_count": 19,
   "id": "563f1604-402b-43bb-9285-882f68d56b93",
   "metadata": {},
   "outputs": [
    {
     "data": {
      "text/plain": [
       "{'name': 'umais',\n",
       " 'email': 'ab@ab.com',\n",
       " 'mobile': 9844563221,\n",
       " 'subject': ['DS', 'bigdata', 'Data A']}"
      ]
     },
     "execution_count": 19,
     "metadata": {},
     "output_type": "execute_result"
    }
   ],
   "source": [
    "jdata"
   ]
  },
  {
   "cell_type": "code",
   "execution_count": 21,
   "id": "7dfad5db-5bb0-4bbb-8a97-969705ab1e26",
   "metadata": {},
   "outputs": [
    {
     "data": {
      "text/plain": [
       "['DS', 'bigdata', 'Data A']"
      ]
     },
     "execution_count": 21,
     "metadata": {},
     "output_type": "execute_result"
    }
   ],
   "source": [
    "jdata['subject']"
   ]
  },
  {
   "cell_type": "markdown",
   "id": "c89fd5e6-6dc6-4c79-9f32-948155be1e17",
   "metadata": {},
   "source": [
    "# CSV"
   ]
  },
  {
   "cell_type": "code",
   "execution_count": 26,
   "id": "ee10bf04-f0ef-4bf5-9c56-1c464cfc61ef",
   "metadata": {},
   "outputs": [],
   "source": [
    "data = [['name', 'email','number'],\n",
    "        ['sudh','sudh@gmail',98745],\n",
    "        ['krish','sr@gmail',987456]\n",
    "       ]"
   ]
  },
  {
   "cell_type": "code",
   "execution_count": 27,
   "id": "5ed35e8e-07ec-4b56-ac8c-d6d45b7a62dc",
   "metadata": {},
   "outputs": [],
   "source": [
    "import csv"
   ]
  },
  {
   "cell_type": "code",
   "execution_count": 28,
   "id": "7449be92-979c-4613-aa3a-1968f622d292",
   "metadata": {},
   "outputs": [],
   "source": [
    "with open('test2.csv','w') as f:\n",
    "    w = csv.writer(f)\n",
    "    for i in data:\n",
    "        w.writerow(i)\n",
    "        "
   ]
  },
  {
   "cell_type": "code",
   "execution_count": 30,
   "id": "3a346ff6-1c40-4982-88df-ddcb42686efd",
   "metadata": {},
   "outputs": [
    {
     "name": "stdout",
     "output_type": "stream",
     "text": [
      "['name', 'email', 'number']\n",
      "['sudh', 'sudh@gmail', '98745']\n",
      "['krish', 'sr@gmail', '987456']\n"
     ]
    }
   ],
   "source": [
    "with open('test2.csv','r') as f:\n",
    "    read = csv.reader(f)\n",
    "    for i in read:\n",
    "        print(i)"
   ]
  },
  {
   "cell_type": "markdown",
   "id": "5386f945-0b32-437e-88d6-576a8768aa40",
   "metadata": {},
   "source": [
    "# BINARY"
   ]
  },
  {
   "cell_type": "markdown",
   "id": "2bf3a958-50c3-452c-b452-3723706c1123",
   "metadata": {},
   "source": [
    "# Seems Not Relevant:\\\n"
   ]
  },
  {
   "cell_type": "code",
   "execution_count": null,
   "id": "35940f3a-4b94-428c-af97-d05d9ea16e34",
   "metadata": {},
   "outputs": [],
   "source": []
  },
  {
   "cell_type": "markdown",
   "id": "645387b6-b2c7-4302-9d1e-30ee2ca87472",
   "metadata": {},
   "source": [
    "# Class 44 : Buffered Read And Write Other File Methods"
   ]
  },
  {
   "cell_type": "code",
   "execution_count": 1,
   "id": "4da4640b-7a40-4a16-814b-d41a8b22dbab",
   "metadata": {},
   "outputs": [],
   "source": [
    "import io"
   ]
  },
  {
   "cell_type": "code",
   "execution_count": 2,
   "id": "866e0507-0798-44e7-bbff-126996358afc",
   "metadata": {},
   "outputs": [],
   "source": [
    "# Write Buffered file\n",
    "with open('testb.txt','wb') as f:\n",
    "    file = io.BufferedWriter(f)\n",
    "    file.write(b'this is my buffer write -1 \\n')\n",
    "    file.write(b'this is my buffer write -2 \\n')\n",
    "    file.flush()"
   ]
  },
  {
   "cell_type": "code",
   "execution_count": 4,
   "id": "fdb02571-3e45-49d2-ac15-1953f540e76c",
   "metadata": {},
   "outputs": [
    {
     "name": "stdout",
     "output_type": "stream",
     "text": [
      "b'this is my buffer write -1 \\nthis is my buffer write -2 \\n'\n"
     ]
    }
   ],
   "source": [
    "# Reaad Buffered file\n",
    "with open('testb.txt','rb') as f:\n",
    "    file2 = io.BufferedReader(f)\n",
    "    data = file2.read()\n",
    "    print(data)"
   ]
  },
  {
   "cell_type": "markdown",
   "id": "36fb0a50-9f14-4664-b16d-fbd31d39f241",
   "metadata": {},
   "source": [
    "# Class 45 : Logging Debugger"
   ]
  },
  {
   "cell_type": "code",
   "execution_count": 2,
   "id": "e115e1d0-25f4-4b72-8e69-cfdcf730a5a2",
   "metadata": {},
   "outputs": [],
   "source": [
    "import logging"
   ]
  },
  {
   "cell_type": "code",
   "execution_count": 11,
   "id": "a8197772-57a8-437a-a446-fa72bc933b42",
   "metadata": {},
   "outputs": [],
   "source": [
    "logging.basicConfig(filename='log.log', level=logging.INFO)"
   ]
  },
  {
   "cell_type": "code",
   "execution_count": 12,
   "id": "78d06351-a8bb-4458-8ca2-a110cef46afd",
   "metadata": {},
   "outputs": [],
   "source": [
    "logging.info('This is info line')"
   ]
  },
  {
   "cell_type": "code",
   "execution_count": 13,
   "id": "4660053b-7418-47ea-af73-079bc41d8155",
   "metadata": {},
   "outputs": [],
   "source": [
    "logging.warning('This is war line')"
   ]
  },
  {
   "cell_type": "code",
   "execution_count": 14,
   "id": "37627c2a-3163-4d35-9359-7ea2e822a1fe",
   "metadata": {},
   "outputs": [],
   "source": [
    "logging.error('This is error line')"
   ]
  },
  {
   "cell_type": "code",
   "execution_count": 15,
   "id": "610a2cbb-6f78-4a2d-b073-de0f8b907eb0",
   "metadata": {},
   "outputs": [],
   "source": [
    "logging.critical('this is critical')"
   ]
  },
  {
   "cell_type": "code",
   "execution_count": 16,
   "id": "469cae98-3776-458b-bdb0-d1ffe5c84551",
   "metadata": {},
   "outputs": [],
   "source": [
    "logging.debug('this is debig')"
   ]
  },
  {
   "cell_type": "code",
   "execution_count": 2,
   "id": "476f98e9-12a9-40b7-b153-b094ddce6393",
   "metadata": {},
   "outputs": [],
   "source": [
    "logging.shutdown()"
   ]
  },
  {
   "cell_type": "code",
   "execution_count": 10,
   "id": "7e481852-61e8-4e18-89b8-621c0e3efb9f",
   "metadata": {},
   "outputs": [],
   "source": [
    "logging.basicConfig(filename='log1.log',level=logging.DEBUG,format='%(asctime)s %(message)s')"
   ]
  },
  {
   "cell_type": "code",
   "execution_count": 4,
   "id": "e75a6ed6-9a1d-4aeb-bd06-943c0d422cdf",
   "metadata": {},
   "outputs": [],
   "source": [
    "logging.info('This is info line')"
   ]
  },
  {
   "cell_type": "code",
   "execution_count": 5,
   "id": "06d89b69-e4a2-4abf-9396-d793ec648741",
   "metadata": {},
   "outputs": [],
   "source": [
    "logging.warning('This is war line')"
   ]
  },
  {
   "cell_type": "code",
   "execution_count": 6,
   "id": "80bd8c4c-3bc7-421a-a259-5c98d4dc89c6",
   "metadata": {},
   "outputs": [],
   "source": [
    "logging.debug('this is debig')"
   ]
  },
  {
   "cell_type": "code",
   "execution_count": 11,
   "id": "974a28ba-0f11-4ab9-b038-dfe7a2fd9781",
   "metadata": {},
   "outputs": [],
   "source": [
    "logging.shutdown()"
   ]
  },
  {
   "cell_type": "code",
   "execution_count": 3,
   "id": "72e816d0-2ac8-48fe-9c62-ba18e1d3db89",
   "metadata": {},
   "outputs": [],
   "source": [
    "logging.basicConfig(filename='log2.log',level=logging.DEBUG,format='%(asctime)s %(name)s %(message)s')"
   ]
  },
  {
   "cell_type": "code",
   "execution_count": 4,
   "id": "bb5f056c-345c-4f85-b172-e9745892f2d7",
   "metadata": {},
   "outputs": [],
   "source": [
    "logging.info('This is info line')"
   ]
  },
  {
   "cell_type": "code",
   "execution_count": 5,
   "id": "aaa74b15-a26e-481e-baff-9f458fadb483",
   "metadata": {},
   "outputs": [],
   "source": [
    "logging.info('This is info line')"
   ]
  },
  {
   "cell_type": "markdown",
   "id": "3a0b465b-6173-4f08-941f-37ba1d157f56",
   "metadata": {},
   "source": [
    "# CLASS 47: Exceptions Handling With Try Except"
   ]
  },
  {
   "cell_type": "code",
   "execution_count": 2,
   "id": "13785be6-457b-4429-8d52-35473c41d7c4",
   "metadata": {},
   "outputs": [],
   "source": [
    "a=10"
   ]
  },
  {
   "cell_type": "code",
   "execution_count": 3,
   "id": "3f922139-591f-4a13-b758-73dcdfef2e18",
   "metadata": {},
   "outputs": [
    {
     "ename": "ZeroDivisionError",
     "evalue": "division by zero",
     "output_type": "error",
     "traceback": [
      "\u001b[0;31m---------------------------------------------------------------------------\u001b[0m",
      "\u001b[0;31mZeroDivisionError\u001b[0m                         Traceback (most recent call last)",
      "Cell \u001b[0;32mIn[3], line 1\u001b[0m\n\u001b[0;32m----> 1\u001b[0m \u001b[43ma\u001b[49m\u001b[38;5;241;43m/\u001b[39;49m\u001b[38;5;241;43m0\u001b[39;49m\n",
      "\u001b[0;31mZeroDivisionError\u001b[0m: division by zero"
     ]
    }
   ],
   "source": [
    "a/0"
   ]
  },
  {
   "cell_type": "code",
   "execution_count": 4,
   "id": "5643ba79-895a-43d3-8682-15560d41e062",
   "metadata": {},
   "outputs": [
    {
     "ename": "FileNotFoundError",
     "evalue": "[Errno 2] No such file or directory: 'abd.txt'",
     "output_type": "error",
     "traceback": [
      "\u001b[0;31m---------------------------------------------------------------------------\u001b[0m",
      "\u001b[0;31mFileNotFoundError\u001b[0m                         Traceback (most recent call last)",
      "Cell \u001b[0;32mIn[4], line 1\u001b[0m\n\u001b[0;32m----> 1\u001b[0m f \u001b[38;5;241m=\u001b[39m \u001b[38;5;28;43mopen\u001b[39;49m\u001b[43m \u001b[49m\u001b[43m(\u001b[49m\u001b[38;5;124;43m'\u001b[39;49m\u001b[38;5;124;43mabd.txt\u001b[39;49m\u001b[38;5;124;43m'\u001b[39;49m\u001b[43m,\u001b[49m\u001b[38;5;124;43m'\u001b[39;49m\u001b[38;5;124;43mr\u001b[39;49m\u001b[38;5;124;43m'\u001b[39;49m\u001b[43m)\u001b[49m\n\u001b[1;32m      2\u001b[0m \u001b[38;5;28mprint\u001b[39m(\u001b[38;5;124m'\u001b[39m\u001b[38;5;124mprimnt\u001b[39m\u001b[38;5;124m'\u001b[39m)\n",
      "File \u001b[0;32m/opt/conda/lib/python3.10/site-packages/IPython/core/interactiveshell.py:282\u001b[0m, in \u001b[0;36m_modified_open\u001b[0;34m(file, *args, **kwargs)\u001b[0m\n\u001b[1;32m    275\u001b[0m \u001b[38;5;28;01mif\u001b[39;00m file \u001b[38;5;129;01min\u001b[39;00m {\u001b[38;5;241m0\u001b[39m, \u001b[38;5;241m1\u001b[39m, \u001b[38;5;241m2\u001b[39m}:\n\u001b[1;32m    276\u001b[0m     \u001b[38;5;28;01mraise\u001b[39;00m \u001b[38;5;167;01mValueError\u001b[39;00m(\n\u001b[1;32m    277\u001b[0m         \u001b[38;5;124mf\u001b[39m\u001b[38;5;124m\"\u001b[39m\u001b[38;5;124mIPython won\u001b[39m\u001b[38;5;124m'\u001b[39m\u001b[38;5;124mt let you open fd=\u001b[39m\u001b[38;5;132;01m{\u001b[39;00mfile\u001b[38;5;132;01m}\u001b[39;00m\u001b[38;5;124m by default \u001b[39m\u001b[38;5;124m\"\u001b[39m\n\u001b[1;32m    278\u001b[0m         \u001b[38;5;124m\"\u001b[39m\u001b[38;5;124mas it is likely to crash IPython. If you know what you are doing, \u001b[39m\u001b[38;5;124m\"\u001b[39m\n\u001b[1;32m    279\u001b[0m         \u001b[38;5;124m\"\u001b[39m\u001b[38;5;124myou can use builtins\u001b[39m\u001b[38;5;124m'\u001b[39m\u001b[38;5;124m open.\u001b[39m\u001b[38;5;124m\"\u001b[39m\n\u001b[1;32m    280\u001b[0m     )\n\u001b[0;32m--> 282\u001b[0m \u001b[38;5;28;01mreturn\u001b[39;00m \u001b[43mio_open\u001b[49m\u001b[43m(\u001b[49m\u001b[43mfile\u001b[49m\u001b[43m,\u001b[49m\u001b[43m \u001b[49m\u001b[38;5;241;43m*\u001b[39;49m\u001b[43margs\u001b[49m\u001b[43m,\u001b[49m\u001b[43m \u001b[49m\u001b[38;5;241;43m*\u001b[39;49m\u001b[38;5;241;43m*\u001b[39;49m\u001b[43mkwargs\u001b[49m\u001b[43m)\u001b[49m\n",
      "\u001b[0;31mFileNotFoundError\u001b[0m: [Errno 2] No such file or directory: 'abd.txt'"
     ]
    }
   ],
   "source": [
    "f = open ('abd.txt','r')\n",
    "print('primnt')"
   ]
  },
  {
   "cell_type": "code",
   "execution_count": 7,
   "id": "412b45d8-169c-49a5-97e4-df01a68f0141",
   "metadata": {},
   "outputs": [
    {
     "name": "stdout",
     "output_type": "stream",
     "text": [
      "Ops [Errno 2] No such file or directory: 'abd.txt'\n"
     ]
    }
   ],
   "source": [
    "try:\n",
    "    f = open ('abd.txt','r')\n",
    "    print('primnt')\n",
    "\n",
    "except Exception as e:\n",
    "    print('Ops', e)\n",
    "    "
   ]
  },
  {
   "cell_type": "code",
   "execution_count": 8,
   "id": "f2453e9b-eec8-42af-b1aa-252f35059cf8",
   "metadata": {},
   "outputs": [
    {
     "name": "stdout",
     "output_type": "stream",
     "text": [
      "Ops [Errno 2] No such file or directory: 'abd.txt'\n",
      "this will exexute alsways\n"
     ]
    }
   ],
   "source": [
    "try:\n",
    "    f = open ('abd.txt','r')\n",
    "    print('primnt')\n",
    "\n",
    "except Exception as e:\n",
    "    print('Ops', e)\n",
    "\n",
    "else:\n",
    "    print('this is else')\n",
    "    \n",
    "finally:\n",
    "    print('this will exexute alsways')"
   ]
  },
  {
   "cell_type": "markdown",
   "id": "aa18b026-0e8b-4378-812e-d5046a592c66",
   "metadata": {},
   "source": [
    "# Class 48 : Custom Exception Handling"
   ]
  },
  {
   "cell_type": "code",
   "execution_count": 20,
   "id": "0e157af1-00a9-4310-8905-0b586b254c4b",
   "metadata": {},
   "outputs": [],
   "source": [
    "class customeage(Exception):\n",
    "    def __init__(self):\n",
    "        print('age Cant be 0')\n",
    "    pass"
   ]
  },
  {
   "cell_type": "code",
   "execution_count": 22,
   "id": "98684099-2460-411a-a592-73d204788330",
   "metadata": {},
   "outputs": [
    {
     "name": "stdin",
     "output_type": "stream",
     "text": [
      "Enter your age 0\n"
     ]
    },
    {
     "name": "stdout",
     "output_type": "stream",
     "text": [
      "age Cant be 0\n",
      "\n"
     ]
    }
   ],
   "source": [
    "try:\n",
    "    age= int(input('Enter your age'))\n",
    "    if(age<=0):\n",
    "        raise customeage\n",
    "except (customeage) as f:\n",
    "    print(f)\n",
    "    "
   ]
  },
  {
   "cell_type": "markdown",
   "id": "adbfc652-0c6f-4424-b4f0-adb32717e1d0",
   "metadata": {},
   "source": [
    "# Class 49 : List Of General Use Exceptions"
   ]
  },
  {
   "cell_type": "code",
   "execution_count": 25,
   "id": "9179ef30-3bca-47f4-bc99-10102610294b",
   "metadata": {},
   "outputs": [
    {
     "name": "stdout",
     "output_type": "stream",
     "text": [
      "division by zero\n"
     ]
    }
   ],
   "source": [
    "try:\n",
    "    1/0\n",
    "    \n",
    "except ZeroDivisionError as e:\n",
    "    print(e)\n",
    "    "
   ]
  },
  {
   "cell_type": "code",
   "execution_count": 26,
   "id": "4d25d2e6-94fe-4575-b82c-3b1a839ebe5d",
   "metadata": {},
   "outputs": [
    {
     "ename": "ZeroDivisionError",
     "evalue": "division by zero",
     "output_type": "error",
     "traceback": [
      "\u001b[0;31m---------------------------------------------------------------------------\u001b[0m",
      "\u001b[0;31mZeroDivisionError\u001b[0m                         Traceback (most recent call last)",
      "Cell \u001b[0;32mIn[26], line 1\u001b[0m\n\u001b[0;32m----> 1\u001b[0m \u001b[38;5;241;43m1\u001b[39;49m\u001b[38;5;241;43m/\u001b[39;49m\u001b[38;5;241;43m0\u001b[39;49m\n",
      "\u001b[0;31mZeroDivisionError\u001b[0m: division by zero"
     ]
    }
   ],
   "source": [
    "1/0"
   ]
  },
  {
   "cell_type": "code",
   "execution_count": 27,
   "id": "2b0d9be5-7f8e-45a9-816b-7b7efe900bfc",
   "metadata": {},
   "outputs": [
    {
     "name": "stdout",
     "output_type": "stream",
     "text": [
      "invalid literal for int() with base 10: 'sudh'\n"
     ]
    }
   ],
   "source": [
    "try:\n",
    "    int('sudh')\n",
    "except(ValueError,TypeError) as e:\n",
    "    print(e)"
   ]
  },
  {
   "cell_type": "code",
   "execution_count": 28,
   "id": "8de07608-ccb2-483a-917c-06697b3427ee",
   "metadata": {},
   "outputs": [
    {
     "name": "stdout",
     "output_type": "stream",
     "text": [
      "its an eror\n"
     ]
    }
   ],
   "source": [
    "try:\n",
    "    int('sudh')\n",
    "except:\n",
    "    print('its an eror')"
   ]
  },
  {
   "cell_type": "code",
   "execution_count": 29,
   "id": "3fb2086b-f5b3-4ad9-bcf4-0ddc4c4c18f1",
   "metadata": {},
   "outputs": [
    {
     "name": "stdout",
     "output_type": "stream",
     "text": [
      "No module named 'sudh'\n"
     ]
    }
   ],
   "source": [
    "try:\n",
    "    import sudh\n",
    "except ImportError as e:\n",
    "    print(e)"
   ]
  },
  {
   "cell_type": "code",
   "execution_count": 19,
   "id": "ec2ffc98-5fa3-4022-b958-03753a1d9991",
   "metadata": {},
   "outputs": [
    {
     "ename": "IndentationError",
     "evalue": "unexpected indent (2322393090.py, line 2)",
     "output_type": "error",
     "traceback": [
      "\u001b[0;36m  Cell \u001b[0;32mIn[19], line 2\u001b[0;36m\u001b[0m\n\u001b[0;31m    d[\"key10\"]\u001b[0m\n\u001b[0m    ^\u001b[0m\n\u001b[0;31mIndentationError\u001b[0m\u001b[0;31m:\u001b[0m unexpected indent\n"
     ]
    }
   ],
   "source": [
    "  d= {1:[2,3,4],'key':'sudh'}\n",
    "    d[\"key10\"]"
   ]
  },
  {
   "cell_type": "code",
   "execution_count": 56,
   "id": "a56f934e-4148-4b5d-bd17-4ca23089974d",
   "metadata": {},
   "outputs": [
    {
     "ename": "IndentationError",
     "evalue": "unexpected indent (388796644.py, line 3)",
     "output_type": "error",
     "traceback": [
      "\u001b[0;36m  Cell \u001b[0;32mIn[56], line 3\u001b[0;36m\u001b[0m\n\u001b[0;31m    d[\"key10\"]\u001b[0m\n\u001b[0m    ^\u001b[0m\n\u001b[0;31mIndentationError\u001b[0m\u001b[0;31m:\u001b[0m unexpected indent\n"
     ]
    }
   ],
   "source": [
    "try:\n",
    "    d= {1:[2,3,4],'key':'sudh'}\n",
    "            d[\"key10\"]\n",
    "except IndentationError as e:\n",
    "    print(e)"
   ]
  },
  {
   "cell_type": "code",
   "execution_count": 20,
   "id": "d8c47e34-c59a-44ae-98c9-4053c19e72b6",
   "metadata": {},
   "outputs": [
    {
     "name": "stdout",
     "output_type": "stream",
     "text": [
      "'key10'\n"
     ]
    }
   ],
   "source": [
    "try:\n",
    "    d= {1:[2,3,4],'key':'sudh'}\n",
    "    d[\"key10\"]\n",
    "except KeyError as e:\n",
    "    print(e)"
   ]
  },
  {
   "cell_type": "code",
   "execution_count": 26,
   "id": "9d7c6c05-6f59-4f23-b53e-477533d103fd",
   "metadata": {},
   "outputs": [
    {
     "name": "stdout",
     "output_type": "stream",
     "text": [
      "'str' object has no attribute 'test'\n"
     ]
    }
   ],
   "source": [
    "try:\n",
    "    'sudh'.test()\n",
    "    \n",
    "except AttributeError as e:\n",
    "    print(e)"
   ]
  },
  {
   "cell_type": "code",
   "execution_count": 27,
   "id": "c8fdaaea-ebff-43cb-b020-f11dfe8f29a4",
   "metadata": {},
   "outputs": [
    {
     "name": "stdout",
     "output_type": "stream",
     "text": [
      "list index out of range\n"
     ]
    }
   ],
   "source": [
    "try:\n",
    "    l = [1,2,3]\n",
    "    l[10]\n",
    "except IndexError  as e:\n",
    "    print(e)"
   ]
  },
  {
   "cell_type": "code",
   "execution_count": 42,
   "id": "71cc987d-d61a-4278-b9cb-6fbad11d8aa1",
   "metadata": {},
   "outputs": [
    {
     "name": "stdout",
     "output_type": "stream",
     "text": [
      "unsupported operand type(s) for +: 'int' and 'list'\n"
     ]
    }
   ],
   "source": [
    "try:\n",
    "    123 + [1,2,3]\n",
    "\n",
    "except (TypeError) as e:\n",
    "    print(e)                       "
   ]
  },
  {
   "cell_type": "code",
   "execution_count": 57,
   "id": "8be16d15-ee6f-418a-ba40-9514fcb4c1a5",
   "metadata": {},
   "outputs": [
    {
     "ename": "FileNotFoundError",
     "evalue": "[Errno 2] No such file or directory: 'file1.txt'",
     "output_type": "error",
     "traceback": [
      "\u001b[0;31m---------------------------------------------------------------------------\u001b[0m",
      "\u001b[0;31mFileNotFoundError\u001b[0m                         Traceback (most recent call last)",
      "Cell \u001b[0;32mIn[57], line 1\u001b[0m\n\u001b[0;32m----> 1\u001b[0m \u001b[38;5;28;01mwith\u001b[39;00m \u001b[38;5;28;43mopen\u001b[39;49m\u001b[43m \u001b[49m\u001b[43m(\u001b[49m\u001b[38;5;124;43m'\u001b[39;49m\u001b[38;5;124;43mfile1.txt\u001b[39;49m\u001b[38;5;124;43m'\u001b[39;49m\u001b[43m,\u001b[49m\u001b[38;5;124;43m'\u001b[39;49m\u001b[38;5;124;43mr\u001b[39;49m\u001b[38;5;124;43m'\u001b[39;49m\u001b[43m)\u001b[49m \u001b[38;5;28;01mas\u001b[39;00m f:\n\u001b[1;32m      2\u001b[0m     f\u001b[38;5;241m.\u001b[39mread()\n",
      "File \u001b[0;32m/opt/conda/lib/python3.10/site-packages/IPython/core/interactiveshell.py:282\u001b[0m, in \u001b[0;36m_modified_open\u001b[0;34m(file, *args, **kwargs)\u001b[0m\n\u001b[1;32m    275\u001b[0m \u001b[38;5;28;01mif\u001b[39;00m file \u001b[38;5;129;01min\u001b[39;00m {\u001b[38;5;241m0\u001b[39m, \u001b[38;5;241m1\u001b[39m, \u001b[38;5;241m2\u001b[39m}:\n\u001b[1;32m    276\u001b[0m     \u001b[38;5;28;01mraise\u001b[39;00m \u001b[38;5;167;01mValueError\u001b[39;00m(\n\u001b[1;32m    277\u001b[0m         \u001b[38;5;124mf\u001b[39m\u001b[38;5;124m\"\u001b[39m\u001b[38;5;124mIPython won\u001b[39m\u001b[38;5;124m'\u001b[39m\u001b[38;5;124mt let you open fd=\u001b[39m\u001b[38;5;132;01m{\u001b[39;00mfile\u001b[38;5;132;01m}\u001b[39;00m\u001b[38;5;124m by default \u001b[39m\u001b[38;5;124m\"\u001b[39m\n\u001b[1;32m    278\u001b[0m         \u001b[38;5;124m\"\u001b[39m\u001b[38;5;124mas it is likely to crash IPython. If you know what you are doing, \u001b[39m\u001b[38;5;124m\"\u001b[39m\n\u001b[1;32m    279\u001b[0m         \u001b[38;5;124m\"\u001b[39m\u001b[38;5;124myou can use builtins\u001b[39m\u001b[38;5;124m'\u001b[39m\u001b[38;5;124m open.\u001b[39m\u001b[38;5;124m\"\u001b[39m\n\u001b[1;32m    280\u001b[0m     )\n\u001b[0;32m--> 282\u001b[0m \u001b[38;5;28;01mreturn\u001b[39;00m \u001b[43mio_open\u001b[49m\u001b[43m(\u001b[49m\u001b[43mfile\u001b[49m\u001b[43m,\u001b[49m\u001b[43m \u001b[49m\u001b[38;5;241;43m*\u001b[39;49m\u001b[43margs\u001b[49m\u001b[43m,\u001b[49m\u001b[43m \u001b[49m\u001b[38;5;241;43m*\u001b[39;49m\u001b[38;5;241;43m*\u001b[39;49m\u001b[43mkwargs\u001b[49m\u001b[43m)\u001b[49m\n",
      "\u001b[0;31mFileNotFoundError\u001b[0m: [Errno 2] No such file or directory: 'file1.txt'"
     ]
    }
   ],
   "source": [
    "with open ('file1.txt','r') as f:\n",
    "    f.read()"
   ]
  },
  {
   "cell_type": "code",
   "execution_count": 49,
   "id": "62a084a1-f3ab-4083-9405-9701480a6468",
   "metadata": {},
   "outputs": [
    {
     "name": "stdout",
     "output_type": "stream",
     "text": [
      "[Errno 2] No such file or directory: 'file1.txt'\n"
     ]
    }
   ],
   "source": [
    "try:\n",
    "    with open ('file1.txt','r') as f:\n",
    "        f.read()\n",
    "except Exception as e:\n",
    "    print(e)\n",
    "except FileNotFoundError as e:\n",
    "    print('File not found')"
   ]
  },
  {
   "cell_type": "code",
   "execution_count": 50,
   "id": "ac775139-b617-4ec7-b208-2c3819ea0af4",
   "metadata": {},
   "outputs": [
    {
     "name": "stdout",
     "output_type": "stream",
     "text": [
      "File not found\n"
     ]
    }
   ],
   "source": [
    "try:\n",
    "    with open ('file1.txt','r') as f:\n",
    "        f.read()\n",
    "\n",
    "except FileNotFoundError as e:\n",
    "    print('File not found')"
   ]
  },
  {
   "cell_type": "markdown",
   "id": "374d22e1-7cfe-4ae2-86ed-e93b421894f8",
   "metadata": {},
   "source": [
    "# Class 50: Best Practice Exception Handling"
   ]
  },
  {
   "cell_type": "code",
   "execution_count": 3,
   "id": "f52b1a19-0905-48c5-bfe6-65c7799af8c3",
   "metadata": {},
   "outputs": [],
   "source": [
    "import threading"
   ]
  },
  {
   "cell_type": "code",
   "execution_count": 24,
   "id": "69b60e42-3155-4df6-bb9f-fd9a44ce6684",
   "metadata": {},
   "outputs": [],
   "source": [
    "import time\n",
    "def test(id):\n",
    "    print('this is my test id %d'%id)\n",
    "    time.sleep(4)"
   ]
  },
  {
   "cell_type": "code",
   "execution_count": 27,
   "id": "2d1b309b-bd91-4501-baa5-afa94649e47c",
   "metadata": {},
   "outputs": [
    {
     "name": "stdout",
     "output_type": "stream",
     "text": [
      "this is my test id 10\n"
     ]
    }
   ],
   "source": [
    "test(10)"
   ]
  },
  {
   "cell_type": "code",
   "execution_count": 20,
   "id": "b3817e37-b6a4-43b7-b0fb-3b6dd0330648",
   "metadata": {},
   "outputs": [
    {
     "name": "stdout",
     "output_type": "stream",
     "text": [
      "this is my test id 1\n"
     ]
    }
   ],
   "source": [
    "test(1)"
   ]
  },
  {
   "cell_type": "code",
   "execution_count": 21,
   "id": "31f973ed-dd87-40fe-94ee-9f12b79206ea",
   "metadata": {},
   "outputs": [
    {
     "name": "stdout",
     "output_type": "stream",
     "text": [
      "this is my test id 3\n"
     ]
    }
   ],
   "source": [
    "test(3)"
   ]
  },
  {
   "cell_type": "code",
   "execution_count": 29,
   "id": "38aa99d7-e108-420f-909d-ce6e43eecd70",
   "metadata": {},
   "outputs": [],
   "source": [
    "thred = [threading.Thread(target=test, args = (i)) for i in [10,1,3]]\n"
   ]
  },
  {
   "cell_type": "code",
   "execution_count": 30,
   "id": "913b1e3d-6429-4c45-9c18-76aa5527f51a",
   "metadata": {},
   "outputs": [
    {
     "data": {
      "text/plain": [
       "[<Thread(Thread-20 (test), initial)>,\n",
       " <Thread(Thread-21 (test), initial)>,\n",
       " <Thread(Thread-22 (test), initial)>]"
      ]
     },
     "execution_count": 30,
     "metadata": {},
     "output_type": "execute_result"
    }
   ],
   "source": [
    "thred"
   ]
  },
  {
   "cell_type": "code",
   "execution_count": 31,
   "id": "c14906dc-55d0-459d-b5cd-b538b0af3a63",
   "metadata": {},
   "outputs": [],
   "source": [
    "thred = [threading.Thread(target=test, args = (i,)) for i in [10,1,3]]"
   ]
  },
  {
   "cell_type": "code",
   "execution_count": 32,
   "id": "1c190e4d-9bb6-4de1-a2cc-5c42144f8519",
   "metadata": {},
   "outputs": [
    {
     "data": {
      "text/plain": [
       "[<Thread(Thread-23 (test), initial)>,\n",
       " <Thread(Thread-24 (test), initial)>,\n",
       " <Thread(Thread-25 (test), initial)>]"
      ]
     },
     "execution_count": 32,
     "metadata": {},
     "output_type": "execute_result"
    }
   ],
   "source": [
    "thred"
   ]
  },
  {
   "cell_type": "code",
   "execution_count": 26,
   "id": "20c65b06-351a-4387-a1ad-b8ac0e57305b",
   "metadata": {},
   "outputs": [
    {
     "name": "stdout",
     "output_type": "stream",
     "text": [
      "this is my test id 10\n",
      "this is my test id 1\n",
      "this is my test id 3\n"
     ]
    }
   ],
   "source": [
    "for t in thred:\n",
    "    t.start()"
   ]
  },
  {
   "cell_type": "code",
   "execution_count": 34,
   "id": "363c32e5-26f7-4e9a-969b-66ee4c9f82e6",
   "metadata": {},
   "outputs": [],
   "source": [
    "import urllib.request"
   ]
  },
  {
   "cell_type": "code",
   "execution_count": 37,
   "id": "82ec7315-404f-4cae-9b99-a1a839269c6c",
   "metadata": {},
   "outputs": [],
   "source": [
    "def file_dwld(url, fname):\n",
    "    urllib.request.urlretrieve(url, fname)"
   ]
  },
  {
   "cell_type": "code",
   "execution_count": 38,
   "id": "a5f01686-dc78-4343-be7a-235ce6cc55c5",
   "metadata": {},
   "outputs": [],
   "source": [
    "file_dwld('https://raw.githubusercontent.com/itsfoss/text-files/master/agatha.txt','threadtest.txt')"
   ]
  },
  {
   "cell_type": "code",
   "execution_count": 39,
   "id": "00c06ad4-6c56-4ecd-8013-9ceaee6eb797",
   "metadata": {},
   "outputs": [],
   "source": [
    "urls = ['https://raw.githubusercontent.com/itsfoss/text-files/master/agatha.txt' , 'https://raw.githubusercontent.com/itsfoss/text-files/master/sherlock.txt' ,'https://raw.githubusercontent.com/itsfoss/text-files/master/sample_log_file.txt' ]"
   ]
  },
  {
   "cell_type": "code",
   "execution_count": 41,
   "id": "f2915d58-1e15-47e1-a8b2-b4f55cc4dfb0",
   "metadata": {},
   "outputs": [
    {
     "data": {
      "text/plain": [
       "['https://raw.githubusercontent.com/itsfoss/text-files/master/agatha.txt',\n",
       " 'https://raw.githubusercontent.com/itsfoss/text-files/master/sherlock.txt',\n",
       " 'https://raw.githubusercontent.com/itsfoss/text-files/master/sample_log_file.txt']"
      ]
     },
     "execution_count": 41,
     "metadata": {},
     "output_type": "execute_result"
    }
   ],
   "source": [
    "urls"
   ]
  },
  {
   "cell_type": "code",
   "execution_count": 46,
   "id": "97a2fbfa-9d52-4e38-a712-2bb0c9161b31",
   "metadata": {},
   "outputs": [],
   "source": [
    "data=['data1.txt','data2.txt','data3.txt']"
   ]
  },
  {
   "cell_type": "code",
   "execution_count": 62,
   "id": "28aaee21-913b-463a-b343-2b06fe040aa7",
   "metadata": {},
   "outputs": [],
   "source": [
    "thread2 = [threading.Thread(target=file_dwld, args=(urls[i],data[i])) for i in range(len(urls))]"
   ]
  },
  {
   "cell_type": "code",
   "execution_count": 63,
   "id": "f827e96f-7f11-40ef-ad4f-8d18905c826b",
   "metadata": {},
   "outputs": [
    {
     "data": {
      "text/plain": [
       "[<Thread(Thread-32 (file_dwld), initial)>,\n",
       " <Thread(Thread-33 (file_dwld), initial)>,\n",
       " <Thread(Thread-34 (file_dwld), initial)>]"
      ]
     },
     "execution_count": 63,
     "metadata": {},
     "output_type": "execute_result"
    }
   ],
   "source": [
    "thread2"
   ]
  },
  {
   "cell_type": "code",
   "execution_count": 64,
   "id": "254e76d9-a09f-4c18-9097-4b3f61f15133",
   "metadata": {},
   "outputs": [],
   "source": [
    "for t in thread2:\n",
    "    t.start()"
   ]
  },
  {
   "cell_type": "code",
   "execution_count": 6,
   "id": "7fe38c11-694a-4997-a1de-d72a2aff1796",
   "metadata": {},
   "outputs": [],
   "source": [
    "import threading\n",
    "import time\n",
    "shared_var=0\n",
    "lock_var=threading.Lock()\n",
    "\n",
    "def test12(x):\n",
    "    global shared_var\n",
    "    with lock_var:\n",
    "        shared_var = shared_var +1\n",
    "        print('value of x= %d and value of shared var= %d'%(x,shared_var))\n",
    "        time.sleep(1)"
   ]
  },
  {
   "cell_type": "code",
   "execution_count": 9,
   "id": "c469659b-4ae9-4217-a4e3-e84acccd873f",
   "metadata": {},
   "outputs": [
    {
     "name": "stdout",
     "output_type": "stream",
     "text": [
      "value of x= 12 and value of shared var= 1\n"
     ]
    }
   ],
   "source": [
    "test12(12)"
   ]
  },
  {
   "cell_type": "code",
   "execution_count": 10,
   "id": "918c66c9-77d4-473f-af28-494a5f56ac3f",
   "metadata": {},
   "outputs": [
    {
     "name": "stdout",
     "output_type": "stream",
     "text": [
      "value of x= 1 and value of shared var= 2\n"
     ]
    }
   ],
   "source": [
    "test12(1)"
   ]
  },
  {
   "cell_type": "code",
   "execution_count": 12,
   "id": "06f0330d-3fc4-447d-9fde-32cc7e894ae3",
   "metadata": {},
   "outputs": [
    {
     "name": "stdout",
     "output_type": "stream",
     "text": [
      "value of x= 11 and value of shared var= 3\n"
     ]
    }
   ],
   "source": [
    "test12(11)"
   ]
  },
  {
   "cell_type": "code",
   "execution_count": 13,
   "id": "9cfe3cb9-01a6-425e-b598-0e0e706496bb",
   "metadata": {},
   "outputs": [
    {
     "name": "stdout",
     "output_type": "stream",
     "text": [
      "value of x= 13 and value of shared var= 4\n"
     ]
    }
   ],
   "source": [
    "test12(13)"
   ]
  },
  {
   "cell_type": "code",
   "execution_count": 14,
   "id": "2ed7e558-f41c-4e0f-81d3-a74f020ca085",
   "metadata": {},
   "outputs": [],
   "source": [
    "thread12 = [threading.Thread(target=test12, args=(i,)) for i in [1,2,3,4,5]]"
   ]
  },
  {
   "cell_type": "code",
   "execution_count": 15,
   "id": "45e3fe59-495e-4fd3-9847-72e7299bb37a",
   "metadata": {},
   "outputs": [
    {
     "data": {
      "text/plain": [
       "[<Thread(Thread-15 (test12), initial)>,\n",
       " <Thread(Thread-16 (test12), initial)>,\n",
       " <Thread(Thread-17 (test12), initial)>,\n",
       " <Thread(Thread-18 (test12), initial)>,\n",
       " <Thread(Thread-19 (test12), initial)>]"
      ]
     },
     "execution_count": 15,
     "metadata": {},
     "output_type": "execute_result"
    }
   ],
   "source": [
    "thread12"
   ]
  },
  {
   "cell_type": "code",
   "execution_count": 16,
   "id": "0ac673d3-e2d4-47e5-b9d7-46956cb6b848",
   "metadata": {},
   "outputs": [
    {
     "name": "stdout",
     "output_type": "stream",
     "text": [
      "value of x= 1 and value of shared var= 5\n",
      "value of x= 2 and value of shared var= 6\n",
      "value of x= 3 and value of shared var= 7\n",
      "value of x= 4 and value of shared var= 8\n",
      "value of x= 5 and value of shared var= 9\n"
     ]
    }
   ],
   "source": [
    "for i in thread12:\n",
    "    i.start()"
   ]
  },
  {
   "cell_type": "markdown",
   "id": "cb68d4fc-028e-46da-908e-289ade889bba",
   "metadata": {},
   "source": [
    "# Non Video Example:"
   ]
  },
  {
   "cell_type": "code",
   "execution_count": 68,
   "id": "8bb34f05-056e-47ce-b044-6ca88a05efe2",
   "metadata": {},
   "outputs": [],
   "source": [
    "from threading import Thread\n",
    "from time import sleep\n",
    "\n",
    "class umais(Thread):\n",
    "    def run(self):\n",
    "        for i in range(5):\n",
    "            print('umais')\n",
    "            sleep(1)\n",
    "\n",
    "class farooqi(Thread):\n",
    "    def run(self):\n",
    "        for i in range(5):\n",
    "            print('farooqi')\n",
    "            sleep(1)"
   ]
  },
  {
   "cell_type": "code",
   "execution_count": 69,
   "id": "183937c8-d227-4ba9-835c-1cec79a1cafe",
   "metadata": {},
   "outputs": [],
   "source": [
    "u = umais()\n",
    "f= farooqi()"
   ]
  },
  {
   "cell_type": "code",
   "execution_count": 50,
   "id": "35a3547c-a0f1-4ea2-b93f-0e9069a78dcc",
   "metadata": {},
   "outputs": [
    {
     "name": "stdout",
     "output_type": "stream",
     "text": [
      "umais\n",
      "umais\n",
      "umais\n",
      "umais\n",
      "umais\n"
     ]
    }
   ],
   "source": [
    "u.run()"
   ]
  },
  {
   "cell_type": "code",
   "execution_count": 43,
   "id": "2472d33a-6bc6-494b-9def-43a66745a87a",
   "metadata": {},
   "outputs": [
    {
     "name": "stdout",
     "output_type": "stream",
     "text": [
      "farooqi\n",
      "farooqi\n",
      "farooqi\n",
      "farooqi\n",
      "farooqi\n"
     ]
    }
   ],
   "source": [
    "f.run()"
   ]
  },
  {
   "cell_type": "code",
   "execution_count": 71,
   "id": "de4c74ee-0fa7-4ec8-bb5d-dab8f1d2b0ad",
   "metadata": {},
   "outputs": [
    {
     "ename": "RuntimeError",
     "evalue": "threads can only be started once",
     "output_type": "error",
     "traceback": [
      "\u001b[0;31m---------------------------------------------------------------------------\u001b[0m",
      "\u001b[0;31mRuntimeError\u001b[0m                              Traceback (most recent call last)",
      "Cell \u001b[0;32mIn[71], line 2\u001b[0m\n\u001b[1;32m      1\u001b[0m \u001b[38;5;28;01mimport\u001b[39;00m \u001b[38;5;21;01msys\u001b[39;00m\n\u001b[0;32m----> 2\u001b[0m \u001b[43mu\u001b[49m\u001b[38;5;241;43m.\u001b[39;49m\u001b[43mstart\u001b[49m\u001b[43m(\u001b[49m\u001b[43m)\u001b[49m\n\u001b[1;32m      3\u001b[0m f\u001b[38;5;241m.\u001b[39mstart()\n\u001b[1;32m      5\u001b[0m sys\u001b[38;5;241m.\u001b[39mexit()\n",
      "File \u001b[0;32m/opt/conda/lib/python3.10/threading.py:930\u001b[0m, in \u001b[0;36mThread.start\u001b[0;34m(self)\u001b[0m\n\u001b[1;32m    927\u001b[0m     \u001b[38;5;28;01mraise\u001b[39;00m \u001b[38;5;167;01mRuntimeError\u001b[39;00m(\u001b[38;5;124m\"\u001b[39m\u001b[38;5;124mthread.__init__() not called\u001b[39m\u001b[38;5;124m\"\u001b[39m)\n\u001b[1;32m    929\u001b[0m \u001b[38;5;28;01mif\u001b[39;00m \u001b[38;5;28mself\u001b[39m\u001b[38;5;241m.\u001b[39m_started\u001b[38;5;241m.\u001b[39mis_set():\n\u001b[0;32m--> 930\u001b[0m     \u001b[38;5;28;01mraise\u001b[39;00m \u001b[38;5;167;01mRuntimeError\u001b[39;00m(\u001b[38;5;124m\"\u001b[39m\u001b[38;5;124mthreads can only be started once\u001b[39m\u001b[38;5;124m\"\u001b[39m)\n\u001b[1;32m    932\u001b[0m \u001b[38;5;28;01mwith\u001b[39;00m _active_limbo_lock:\n\u001b[1;32m    933\u001b[0m     _limbo[\u001b[38;5;28mself\u001b[39m] \u001b[38;5;241m=\u001b[39m \u001b[38;5;28mself\u001b[39m\n",
      "\u001b[0;31mRuntimeError\u001b[0m: threads can only be started once"
     ]
    }
   ],
   "source": [
    "import sys\n",
    "u.start()\n",
    "f.start()\n",
    "\n",
    "sys.exit()"
   ]
  },
  {
   "cell_type": "code",
   "execution_count": null,
   "id": "92b5df50-03a5-4bfb-9c54-12c586dbf19d",
   "metadata": {},
   "outputs": [],
   "source": []
  }
 ],
 "metadata": {
  "kernelspec": {
   "display_name": "Python 3 (ipykernel)",
   "language": "python",
   "name": "python3"
  },
  "language_info": {
   "codemirror_mode": {
    "name": "ipython",
    "version": 3
   },
   "file_extension": ".py",
   "mimetype": "text/x-python",
   "name": "python",
   "nbconvert_exporter": "python",
   "pygments_lexer": "ipython3",
   "version": "3.10.8"
  }
 },
 "nbformat": 4,
 "nbformat_minor": 5
}
