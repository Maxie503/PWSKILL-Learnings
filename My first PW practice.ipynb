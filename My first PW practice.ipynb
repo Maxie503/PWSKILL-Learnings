{
 "cells": [
  {
   "cell_type": "code",
   "execution_count": 47,
   "id": "b6708717-8eae-4022-8693-4f4b174275cf",
   "metadata": {},
   "outputs": [
    {
     "name": "stdout",
     "output_type": "stream",
     "text": [
      "Hello World\n"
     ]
    }
   ],
   "source": [
    "print('Hello World')"
   ]
  },
  {
   "cell_type": "code",
   "execution_count": 48,
   "id": "4e462275-244a-409d-9925-d696a3cf806c",
   "metadata": {},
   "outputs": [],
   "source": [
    "#class 7,8,9"
   ]
  },
  {
   "cell_type": "code",
   "execution_count": 6,
   "id": "9b111bfa-0643-4ab8-a47c-f984378fd499",
   "metadata": {},
   "outputs": [],
   "source": [
    "a =10"
   ]
  },
  {
   "cell_type": "code",
   "execution_count": 9,
   "id": "91b4ce34-6714-4ad7-bada-646167e631ae",
   "metadata": {},
   "outputs": [
    {
     "data": {
      "text/plain": [
       "10"
      ]
     },
     "execution_count": 9,
     "metadata": {},
     "output_type": "execute_result"
    }
   ],
   "source": [
    "a"
   ]
  },
  {
   "cell_type": "code",
   "execution_count": 15,
   "id": "9b937ce8-beec-4978-93df-793fc9f38c38",
   "metadata": {},
   "outputs": [],
   "source": [
    "a=0.0"
   ]
  },
  {
   "cell_type": "code",
   "execution_count": 16,
   "id": "8547381b-0dbb-4136-a3ec-1a63d4499c6d",
   "metadata": {},
   "outputs": [
    {
     "data": {
      "text/plain": [
       "float"
      ]
     },
     "execution_count": 16,
     "metadata": {},
     "output_type": "execute_result"
    }
   ],
   "source": [
    "type(a)"
   ]
  },
  {
   "cell_type": "code",
   "execution_count": 18,
   "id": "c529ee26-b916-4245-acda-a9f549f11b40",
   "metadata": {},
   "outputs": [],
   "source": [
    "c=\"umais\""
   ]
  },
  {
   "cell_type": "code",
   "execution_count": 19,
   "id": "ded0613b-8058-4b63-a033-245263433f68",
   "metadata": {},
   "outputs": [
    {
     "data": {
      "text/plain": [
       "'umais'"
      ]
     },
     "execution_count": 19,
     "metadata": {},
     "output_type": "execute_result"
    }
   ],
   "source": [
    "c"
   ]
  },
  {
   "cell_type": "code",
   "execution_count": 20,
   "id": "9d53b9d9-8fbe-4127-b60c-f3f98c284f17",
   "metadata": {},
   "outputs": [
    {
     "data": {
      "text/plain": [
       "str"
      ]
     },
     "execution_count": 20,
     "metadata": {},
     "output_type": "execute_result"
    }
   ],
   "source": [
    "type(c)"
   ]
  },
  {
   "cell_type": "code",
   "execution_count": 21,
   "id": "8f0814a1-5639-4421-98c7-313a31c8d223",
   "metadata": {},
   "outputs": [],
   "source": [
    "d = True"
   ]
  },
  {
   "cell_type": "code",
   "execution_count": 22,
   "id": "8ab686b3-ae01-4457-926f-aa1b53ace35a",
   "metadata": {},
   "outputs": [
    {
     "data": {
      "text/plain": [
       "bool"
      ]
     },
     "execution_count": 22,
     "metadata": {},
     "output_type": "execute_result"
    }
   ],
   "source": [
    "type(d)"
   ]
  },
  {
   "cell_type": "code",
   "execution_count": 23,
   "id": "b293d810-59df-4844-9e92-6d78b5ee422c",
   "metadata": {},
   "outputs": [
    {
     "data": {
      "text/plain": [
       "2"
      ]
     },
     "execution_count": 23,
     "metadata": {},
     "output_type": "execute_result"
    }
   ],
   "source": [
    "True + True"
   ]
  },
  {
   "cell_type": "code",
   "execution_count": 24,
   "id": "14cf152d-87a4-4415-82cd-f612bc0c5136",
   "metadata": {},
   "outputs": [],
   "source": [
    "e = 1+7j"
   ]
  },
  {
   "cell_type": "code",
   "execution_count": 25,
   "id": "d33a01c6-6cdf-46c0-a4d6-a7abdca131bd",
   "metadata": {},
   "outputs": [
    {
     "data": {
      "text/plain": [
       "complex"
      ]
     },
     "execution_count": 25,
     "metadata": {},
     "output_type": "execute_result"
    }
   ],
   "source": [
    "type(e)"
   ]
  },
  {
   "cell_type": "code",
   "execution_count": 26,
   "id": "f7760675-0e9b-423f-80aa-0e7869dd13da",
   "metadata": {},
   "outputs": [
    {
     "data": {
      "text/plain": [
       "(1-7j)"
      ]
     },
     "execution_count": 26,
     "metadata": {},
     "output_type": "execute_result"
    }
   ],
   "source": [
    "e.conjugate()"
   ]
  },
  {
   "cell_type": "code",
   "execution_count": 28,
   "id": "c0735384-e838-47ed-8a84-909f81f1781b",
   "metadata": {},
   "outputs": [
    {
     "data": {
      "text/plain": [
       "(1-7j)"
      ]
     },
     "execution_count": 28,
     "metadata": {},
     "output_type": "execute_result"
    }
   ],
   "source": [
    "e.conjugate()"
   ]
  },
  {
   "cell_type": "code",
   "execution_count": 29,
   "id": "ef93c478-d559-4a32-9792-05143163538d",
   "metadata": {},
   "outputs": [],
   "source": [
    "#this is extracting a image"
   ]
  },
  {
   "cell_type": "code",
   "execution_count": 31,
   "id": "2ad5577a-d20a-4bbe-a9a2-f3e4236c2d85",
   "metadata": {},
   "outputs": [
    {
     "ename": "SyntaxError",
     "evalue": "invalid decimal literal (1586800744.py, line 1)",
     "output_type": "error",
     "traceback": [
      "\u001b[0;36m  Cell \u001b[0;32mIn[31], line 1\u001b[0;36m\u001b[0m\n\u001b[0;31m    1_a = 2\u001b[0m\n\u001b[0m     ^\u001b[0m\n\u001b[0;31mSyntaxError\u001b[0m\u001b[0;31m:\u001b[0m invalid decimal literal\n"
     ]
    }
   ],
   "source": [
    "1_a = 2"
   ]
  },
  {
   "cell_type": "code",
   "execution_count": 32,
   "id": "eaa7044c-f191-4f8e-8d31-484cd76f45c5",
   "metadata": {},
   "outputs": [],
   "source": [
    "a1 = \"umais\""
   ]
  },
  {
   "cell_type": "code",
   "execution_count": 33,
   "id": "56f2f8dc-14fc-42b3-9ebb-4448f4d93e78",
   "metadata": {},
   "outputs": [],
   "source": [
    "b1= 10"
   ]
  },
  {
   "cell_type": "code",
   "execution_count": 35,
   "id": "6be85d64-0e08-4b5d-82b0-88553e86e098",
   "metadata": {},
   "outputs": [
    {
     "data": {
      "text/plain": [
       "'umais10'"
      ]
     },
     "execution_count": 35,
     "metadata": {},
     "output_type": "execute_result"
    }
   ],
   "source": [
    "a1 + str(b1)"
   ]
  },
  {
   "cell_type": "code",
   "execution_count": 36,
   "id": "bc67657a-3713-4a19-8bc4-d77af8d5d00e",
   "metadata": {},
   "outputs": [
    {
     "name": "stdin",
     "output_type": "stream",
     "text": [
      "enter value 20\n"
     ]
    }
   ],
   "source": [
    "b2=input('enter value')"
   ]
  },
  {
   "cell_type": "code",
   "execution_count": 37,
   "id": "100655f3-9058-4b60-949a-4d87039d5cbb",
   "metadata": {},
   "outputs": [
    {
     "data": {
      "text/plain": [
       "'20'"
      ]
     },
     "execution_count": 37,
     "metadata": {},
     "output_type": "execute_result"
    }
   ],
   "source": [
    "b2"
   ]
  },
  {
   "cell_type": "code",
   "execution_count": 39,
   "id": "ab9119cd-1378-45b9-a982-d0abfdbd76f4",
   "metadata": {},
   "outputs": [],
   "source": [
    "b3='sudh'"
   ]
  },
  {
   "cell_type": "code",
   "execution_count": 41,
   "id": "e9f2df65-1de4-47a5-8b7d-d6416f146f77",
   "metadata": {},
   "outputs": [
    {
     "data": {
      "text/plain": [
       "'s'"
      ]
     },
     "execution_count": 41,
     "metadata": {},
     "output_type": "execute_result"
    }
   ],
   "source": [
    "b3[0]"
   ]
  },
  {
   "cell_type": "code",
   "execution_count": 42,
   "id": "cde24f53-1d7f-4ff8-97a2-653592221ade",
   "metadata": {},
   "outputs": [],
   "source": [
    "li = [1,2,3,4,5,67,889,6,43,'umais']"
   ]
  },
  {
   "cell_type": "code",
   "execution_count": 45,
   "id": "4ce713d4-2820-42ad-803a-ee7776336780",
   "metadata": {},
   "outputs": [
    {
     "data": {
      "text/plain": [
       "'umais'"
      ]
     },
     "execution_count": 45,
     "metadata": {},
     "output_type": "execute_result"
    }
   ],
   "source": [
    "li[-1]"
   ]
  },
  {
   "cell_type": "code",
   "execution_count": 46,
   "id": "3ce34421-58fb-4857-9a03-eecd76318015",
   "metadata": {},
   "outputs": [],
   "source": [
    "#class 10"
   ]
  },
  {
   "cell_type": "code",
   "execution_count": 49,
   "id": "26eb5118-416d-4420-b29c-8437621e5a2a",
   "metadata": {},
   "outputs": [
    {
     "data": {
      "text/plain": [
       "False"
      ]
     },
     "execution_count": 49,
     "metadata": {},
     "output_type": "execute_result"
    }
   ],
   "source": [
    "1>2"
   ]
  },
  {
   "cell_type": "code",
   "execution_count": 50,
   "id": "f5656f19-c820-4318-8fa7-9fb632b27fb4",
   "metadata": {},
   "outputs": [
    {
     "data": {
      "text/plain": [
       "True"
      ]
     },
     "execution_count": 50,
     "metadata": {},
     "output_type": "execute_result"
    }
   ],
   "source": [
    "2<3"
   ]
  },
  {
   "cell_type": "code",
   "execution_count": 53,
   "id": "5736257b-8beb-4d2e-855b-5f028536c5ff",
   "metadata": {},
   "outputs": [
    {
     "data": {
      "text/plain": [
       "False"
      ]
     },
     "execution_count": 53,
     "metadata": {},
     "output_type": "execute_result"
    }
   ],
   "source": [
    "1!=1"
   ]
  },
  {
   "cell_type": "code",
   "execution_count": 55,
   "id": "b19655c9-aa11-417d-835c-47e35463231f",
   "metadata": {},
   "outputs": [
    {
     "data": {
      "text/plain": [
       "True"
      ]
     },
     "execution_count": 55,
     "metadata": {},
     "output_type": "execute_result"
    }
   ],
   "source": [
    "2!=3"
   ]
  },
  {
   "cell_type": "code",
   "execution_count": 56,
   "id": "37db2c00-d991-455c-be51-711b2a008620",
   "metadata": {},
   "outputs": [
    {
     "data": {
      "text/plain": [
       "False"
      ]
     },
     "execution_count": 56,
     "metadata": {},
     "output_type": "execute_result"
    }
   ],
   "source": [
    "2>=3"
   ]
  },
  {
   "cell_type": "code",
   "execution_count": 58,
   "id": "3838f844-57da-4381-84a8-01e80a9158cf",
   "metadata": {},
   "outputs": [
    {
     "data": {
      "text/plain": [
       "False"
      ]
     },
     "execution_count": 58,
     "metadata": {},
     "output_type": "execute_result"
    }
   ],
   "source": [
    "True and False"
   ]
  },
  {
   "cell_type": "code",
   "execution_count": 59,
   "id": "07e77bc6-97b1-498c-8aa3-be358c5ce2e1",
   "metadata": {},
   "outputs": [
    {
     "data": {
      "text/plain": [
       "True"
      ]
     },
     "execution_count": 59,
     "metadata": {},
     "output_type": "execute_result"
    }
   ],
   "source": [
    "True or False"
   ]
  },
  {
   "cell_type": "code",
   "execution_count": 60,
   "id": "5f9af45b-5b30-4958-be2a-da2bea84fe05",
   "metadata": {},
   "outputs": [
    {
     "data": {
      "text/plain": [
       "3"
      ]
     },
     "execution_count": 60,
     "metadata": {},
     "output_type": "execute_result"
    }
   ],
   "source": [
    "2 and 3"
   ]
  },
  {
   "cell_type": "code",
   "execution_count": 61,
   "id": "fd0423ba-a413-4609-87a7-4d1cc4ffe57b",
   "metadata": {},
   "outputs": [
    {
     "data": {
      "text/plain": [
       "0"
      ]
     },
     "execution_count": 61,
     "metadata": {},
     "output_type": "execute_result"
    }
   ],
   "source": [
    "0 and 3"
   ]
  },
  {
   "cell_type": "code",
   "execution_count": 62,
   "id": "ec2afa2a-cca1-40cd-ad82-11cc136be614",
   "metadata": {},
   "outputs": [
    {
     "data": {
      "text/plain": [
       "0"
      ]
     },
     "execution_count": 62,
     "metadata": {},
     "output_type": "execute_result"
    }
   ],
   "source": [
    "# bitwise\n",
    "0 & 3"
   ]
  },
  {
   "cell_type": "code",
   "execution_count": 64,
   "id": "fc557894-1bac-4eb3-8e7c-e1cb9451cdd8",
   "metadata": {},
   "outputs": [
    {
     "data": {
      "text/plain": [
       "3"
      ]
     },
     "execution_count": 64,
     "metadata": {},
     "output_type": "execute_result"
    }
   ],
   "source": [
    "1|3"
   ]
  },
  {
   "cell_type": "code",
   "execution_count": 67,
   "id": "037a00d0-727b-41be-9d1e-7568b5092b5b",
   "metadata": {},
   "outputs": [
    {
     "data": {
      "text/plain": [
       "-37"
      ]
     },
     "execution_count": 67,
     "metadata": {},
     "output_type": "execute_result"
    }
   ],
   "source": [
    "#tillda\n",
    "~36"
   ]
  },
  {
   "cell_type": "code",
   "execution_count": 68,
   "id": "865872d0-fa51-4064-94ad-d929bd97df55",
   "metadata": {},
   "outputs": [
    {
     "data": {
      "text/plain": [
       "-56"
      ]
     },
     "execution_count": 68,
     "metadata": {},
     "output_type": "execute_result"
    }
   ],
   "source": [
    "~55"
   ]
  },
  {
   "cell_type": "code",
   "execution_count": 69,
   "id": "43b07414-d7ea-480d-a96b-f4624c8a2200",
   "metadata": {},
   "outputs": [
    {
     "data": {
      "text/plain": [
       "('0b11000', '0b11')"
      ]
     },
     "execution_count": 69,
     "metadata": {},
     "output_type": "execute_result"
    }
   ],
   "source": [
    "bin(24),bin(3)"
   ]
  },
  {
   "cell_type": "code",
   "execution_count": 70,
   "id": "4a153cdd-a793-4a79-916b-4f4442c1724f",
   "metadata": {},
   "outputs": [
    {
     "data": {
      "text/plain": [
       "12"
      ]
     },
     "execution_count": 70,
     "metadata": {},
     "output_type": "execute_result"
    }
   ],
   "source": [
    "#Right shift operator delete rightmost element remaining element id againg converted into\n",
    "24>>1"
   ]
  },
  {
   "cell_type": "code",
   "execution_count": 77,
   "id": "600e3769-bff7-4e46-b40d-f61e41cdc41f",
   "metadata": {},
   "outputs": [
    {
     "data": {
      "text/plain": [
       "96"
      ]
     },
     "execution_count": 77,
     "metadata": {},
     "output_type": "execute_result"
    }
   ],
   "source": [
    "#left shift \n",
    "24<<2"
   ]
  },
  {
   "cell_type": "code",
   "execution_count": 78,
   "id": "ede43dcf-0250-4760-ad85-49da31340d8d",
   "metadata": {},
   "outputs": [],
   "source": [
    "#CLASS11 CONDITIONS"
   ]
  },
  {
   "cell_type": "code",
   "execution_count": 12,
   "id": "c2511f1a-fc7f-45b5-9832-0d8ec93f5adf",
   "metadata": {},
   "outputs": [
    {
     "name": "stdin",
     "output_type": "stream",
     "text": [
      "Enter a value 10\n"
     ]
    },
    {
     "name": "stdout",
     "output_type": "stream",
     "text": [
      "bye\n"
     ]
    }
   ],
   "source": [
    "a=int(input('Enter a value'))\n",
    "if a>10:\n",
    "    print('hi')\n",
    "elif a<10:\n",
    "    print('Hie')\n",
    "else:\n",
    "    print('bye')\n",
    "        "
   ]
  },
  {
   "cell_type": "code",
   "execution_count": 18,
   "id": "0020295b-e740-4171-807e-e1101ea4a424",
   "metadata": {},
   "outputs": [
    {
     "name": "stdout",
     "output_type": "stream",
     "text": [
      "0\n",
      "1\n",
      "2\n",
      "3\n",
      "4\n"
     ]
    }
   ],
   "source": [
    "al=0\n",
    "il=10\n",
    "\n",
    "while al<il:\n",
    "    print(al)\n",
    "    al +=1\n",
    "    if al == 5:\n",
    "        break\n",
    "else:\n",
    "    print('Loop ends')\n",
    "    "
   ]
  },
  {
   "cell_type": "code",
   "execution_count": 19,
   "id": "c100b01c-9767-4446-893d-ba3d6414eae8",
   "metadata": {},
   "outputs": [
    {
     "name": "stdout",
     "output_type": "stream",
     "text": [
      "U\n",
      "m\n",
      "a\n",
      "i\n",
      "s\n"
     ]
    }
   ],
   "source": [
    "alf = 'Umais'\n",
    "\n",
    "for i in alf :\n",
    "    print(i)"
   ]
  },
  {
   "cell_type": "code",
   "execution_count": 36,
   "id": "e0b87777-0a05-4580-bf4e-442d692ced25",
   "metadata": {},
   "outputs": [
    {
     "name": "stdout",
     "output_type": "stream",
     "text": [
      "umais <class 'str'>\n",
      "farooai <class 'str'>\n",
      "10 <class 'int'>\n",
      "(3+4j) <class 'complex'>\n",
      "20 <class 'int'>\n",
      "3.14 <class 'float'>\n",
      "Pi <class 'str'>\n",
      "True <class 'bool'>\n",
      "False <class 'bool'>\n",
      "loop ends\n"
     ]
    }
   ],
   "source": [
    "lis = ['umais','farooai',10,3+4j,20,3.14,'Pi', True, False]\n",
    "\n",
    "for i in lis:\n",
    "    print(i,type(i))\n",
    "else: print('loop ends')"
   ]
  },
  {
   "cell_type": "markdown",
   "id": "ae510285-d4ae-4ea6-8018-5aac505fca22",
   "metadata": {},
   "source": [
    "# Week 2\n",
    " Class 12"
   ]
  },
  {
   "cell_type": "code",
   "execution_count": 1,
   "id": "5cd9beaa-5768-4fe6-9a6d-b40e1bf491eb",
   "metadata": {},
   "outputs": [],
   "source": [
    "#class 13"
   ]
  },
  {
   "cell_type": "code",
   "execution_count": 2,
   "id": "274c49f5-5ba4-4368-94bc-1584a797220d",
   "metadata": {},
   "outputs": [
    {
     "ename": "SyntaxError",
     "evalue": "invalid syntax (3193057967.py, line 1)",
     "output_type": "error",
     "traceback": [
      "\u001b[0;36m  Cell \u001b[0;32mIn[2], line 1\u001b[0;36m\u001b[0m\n\u001b[0;31m    for\u001b[0m\n\u001b[0m       ^\u001b[0m\n\u001b[0;31mSyntaxError\u001b[0m\u001b[0;31m:\u001b[0m invalid syntax\n"
     ]
    }
   ],
   "source": []
  },
  {
   "cell_type": "code",
   "execution_count": 7,
   "id": "98f54c18-2981-4224-ae4c-26932fc09fc4",
   "metadata": {},
   "outputs": [
    {
     "name": "stdin",
     "output_type": "stream",
     "text": [
      "Enter your age 15\n"
     ]
    },
    {
     "name": "stdout",
     "output_type": "stream",
     "text": [
      "No Blood\n"
     ]
    }
   ],
   "source": [
    "age = int(input('Enter your age'))\n",
    "if age>= 18 and age<=45:\n",
    "    print(' Young Blood')\n",
    "else:\n",
    "    print('No Blood')"
   ]
  },
  {
   "cell_type": "code",
   "execution_count": 12,
   "id": "265fc457-cd54-4617-ba81-98dcd1264e83",
   "metadata": {},
   "outputs": [
    {
     "name": "stdout",
     "output_type": "stream",
     "text": [
      "My name is Uma, aged 15\n"
     ]
    }
   ],
   "source": [
    "a=32\n",
    "name='Uma'\n",
    "print('My name is {n1}, aged {ag}'.format(n1=name,ag=age))"
   ]
  },
  {
   "cell_type": "code",
   "execution_count": 14,
   "id": "71647e04-21b2-4430-bd61-6e74be3aad6a",
   "metadata": {},
   "outputs": [
    {
     "name": "stdin",
     "output_type": "stream",
     "text": [
      "Enter the product price 1200\n"
     ]
    },
    {
     "name": "stdout",
     "output_type": "stream",
     "text": [
      "The discounted price is =  960.0\n"
     ]
    }
   ],
   "source": [
    "pprice= int(input('Enter the product price'))\n",
    "\n",
    "if pprice>=1000:\n",
    "    print('The discounted price is = ', pprice*.8)\n",
    "else:\n",
    "     print('The discounted price is = ', pprice*.7)\n"
   ]
  },
  {
   "cell_type": "code",
   "execution_count": 1,
   "id": "efb47950-edc9-4d03-8ef1-446af938ebfa",
   "metadata": {},
   "outputs": [
    {
     "ename": "SyntaxError",
     "evalue": "incomplete input (1896809457.py, line 3)",
     "output_type": "error",
     "traceback": [
      "\u001b[0;36m  Cell \u001b[0;32mIn[1], line 3\u001b[0;36m\u001b[0m\n\u001b[0;31m    \u001b[0m\n\u001b[0m    ^\u001b[0m\n\u001b[0;31mSyntaxError\u001b[0m\u001b[0;31m:\u001b[0m incomplete input\n"
     ]
    }
   ],
   "source": [
    "val = 10000\n",
    "if(val<1000\n",
    "   "
   ]
  },
  {
   "cell_type": "code",
   "execution_count": 16,
   "id": "c041a323-fe5e-4904-8758-5a5a72a066c6",
   "metadata": {},
   "outputs": [
    {
     "name": "stdout",
     "output_type": "stream",
     "text": [
      "\n",
      "\n",
      "*\n",
      "\n",
      "**\n",
      "\n",
      "***\n",
      "\n",
      "****\n",
      "\n",
      "*****\n",
      "\n",
      "******\n",
      "\n"
     ]
    }
   ],
   "source": [
    "import time\n",
    "n=7\n",
    "for i in range(0,n):\n",
    "    for j in range(0,i):\n",
    "        print('*',end=\"\")\n",
    "    time.sleep(1)\n",
    "    print('\\n')"
   ]
  },
  {
   "cell_type": "code",
   "execution_count": 1,
   "id": "bbeb8fa6-4db4-4fe6-87d4-645b1cb919a6",
   "metadata": {},
   "outputs": [],
   "source": [
    "a=25\n",
    "b=101\n"
   ]
  },
  {
   "cell_type": "code",
   "execution_count": 2,
   "id": "f90e337a-b6f4-4b8f-b9c9-99337fed5168",
   "metadata": {},
   "outputs": [
    {
     "data": {
      "text/plain": [
       "4.04"
      ]
     },
     "execution_count": 2,
     "metadata": {},
     "output_type": "execute_result"
    }
   ],
   "source": [
    "b/a"
   ]
  },
  {
   "cell_type": "code",
   "execution_count": 3,
   "id": "498070b6-4c96-452e-b330-871c8eaa16de",
   "metadata": {},
   "outputs": [
    {
     "data": {
      "text/plain": [
       "4"
      ]
     },
     "execution_count": 3,
     "metadata": {},
     "output_type": "execute_result"
    }
   ],
   "source": [
    "b//a"
   ]
  },
  {
   "cell_type": "code",
   "execution_count": 4,
   "id": "9bf4b5ff-0a3c-4eec-9ee9-784d21a7cb60",
   "metadata": {},
   "outputs": [
    {
     "data": {
      "text/plain": [
       "1"
      ]
     },
     "execution_count": 4,
     "metadata": {},
     "output_type": "execute_result"
    }
   ],
   "source": [
    "b%a"
   ]
  },
  {
   "cell_type": "code",
   "execution_count": 6,
   "id": "cbbd4241-6170-425f-a0c1-906e95e01dd0",
   "metadata": {},
   "outputs": [
    {
     "ename": "NameError",
     "evalue": "name 'welcome' is not defined",
     "output_type": "error",
     "traceback": [
      "\u001b[0;31m---------------------------------------------------------------------------\u001b[0m",
      "\u001b[0;31mNameError\u001b[0m                                 Traceback (most recent call last)",
      "Cell \u001b[0;32mIn[6], line 1\u001b[0m\n\u001b[0;32m----> 1\u001b[0m \u001b[38;5;28mdir\u001b[39m(\u001b[43mwelcome\u001b[49m)\n",
      "\u001b[0;31mNameError\u001b[0m: name 'welcome' is not defined"
     ]
    }
   ],
   "source": [
    "dir(welcome)"
   ]
  },
  {
   "cell_type": "code",
   "execution_count": 7,
   "id": "4d055305-0b80-49b6-b6e0-582fb157f472",
   "metadata": {},
   "outputs": [],
   "source": [
    "strn='01234567'"
   ]
  },
  {
   "cell_type": "code",
   "execution_count": 11,
   "id": "11434331-9003-447c-8e24-b1e75a2f43dd",
   "metadata": {},
   "outputs": [
    {
     "data": {
      "text/plain": [
       "'76543210'"
      ]
     },
     "execution_count": 11,
     "metadata": {},
     "output_type": "execute_result"
    }
   ],
   "source": [
    "strn[7::-1]"
   ]
  },
  {
   "cell_type": "code",
   "execution_count": 12,
   "id": "2b10c187-04d4-4061-85e3-9f0ce2da832b",
   "metadata": {},
   "outputs": [],
   "source": [
    "cname = 'Data Science Masters'"
   ]
  },
  {
   "cell_type": "code",
   "execution_count": 15,
   "id": "be116620-58a9-43cc-b045-601a62177103",
   "metadata": {},
   "outputs": [
    {
     "data": {
      "text/plain": [
       "'Science'"
      ]
     },
     "execution_count": 15,
     "metadata": {},
     "output_type": "execute_result"
    }
   ],
   "source": [
    "cname[5:12]"
   ]
  },
  {
   "cell_type": "code",
   "execution_count": 27,
   "id": "8f0a8105-d4ec-4f5a-b667-f4f72fda0bfa",
   "metadata": {},
   "outputs": [
    {
     "data": {
      "text/plain": [
       "'S ataD'"
      ]
     },
     "execution_count": 27,
     "metadata": {},
     "output_type": "execute_result"
    }
   ],
   "source": [
    "cname[5:-22:-1]"
   ]
  },
  {
   "cell_type": "code",
   "execution_count": 29,
   "id": "177e564c-0e68-4c10-896e-8368e43a71aa",
   "metadata": {},
   "outputs": [],
   "source": [
    "u='umais'"
   ]
  },
  {
   "cell_type": "code",
   "execution_count": 31,
   "id": "0108cda8-335e-4c62-b423-f251cf418eae",
   "metadata": {},
   "outputs": [
    {
     "data": {
      "text/plain": [
       "6"
      ]
     },
     "execution_count": 31,
     "metadata": {},
     "output_type": "execute_result"
    }
   ],
   "source": [
    "u.count('')"
   ]
  },
  {
   "cell_type": "code",
   "execution_count": 32,
   "id": "e4f0d8f8-5946-4a5f-ab3b-929e6b0917ae",
   "metadata": {},
   "outputs": [
    {
     "data": {
      "text/plain": [
       "5"
      ]
     },
     "execution_count": 32,
     "metadata": {},
     "output_type": "execute_result"
    }
   ],
   "source": [
    "len(u)"
   ]
  },
  {
   "cell_type": "code",
   "execution_count": 33,
   "id": "fbcb58c6-1a97-45af-a8af-7d6aed9036db",
   "metadata": {},
   "outputs": [
    {
     "data": {
      "text/plain": [
       "'umais'"
      ]
     },
     "execution_count": 33,
     "metadata": {},
     "output_type": "execute_result"
    }
   ],
   "source": [
    "u"
   ]
  },
  {
   "cell_type": "code",
   "execution_count": null,
   "id": "fab7eed4-ef20-4bac-840a-bcedd2bb5446",
   "metadata": {},
   "outputs": [],
   "source": [
    "#class 17"
   ]
  },
  {
   "cell_type": "code",
   "execution_count": 39,
   "id": "e3ab3a69-fd57-4049-a7fc-261afd2f1399",
   "metadata": {},
   "outputs": [
    {
     "data": {
      "text/plain": [
       "['s', 'i', 'a', 'm', 'u']"
      ]
     },
     "execution_count": 39,
     "metadata": {},
     "output_type": "execute_result"
    }
   ],
   "source": [
    "list (reversed(u))\n"
   ]
  },
  {
   "cell_type": "code",
   "execution_count": 42,
   "id": "c58b59c1-4ec7-45da-9ee5-2bc0ead2ac98",
   "metadata": {},
   "outputs": [
    {
     "data": {
      "text/plain": [
       "'uumaismumaisaumaisiumaiss'"
      ]
     },
     "execution_count": 42,
     "metadata": {},
     "output_type": "execute_result"
    }
   ],
   "source": [
    "u.join(u)"
   ]
  },
  {
   "cell_type": "code",
   "execution_count": 3,
   "id": "a7ca2370-ee74-483d-918c-3539dc8d73f2",
   "metadata": {},
   "outputs": [
    {
     "data": {
      "text/plain": [
       "['a', 'b', 'c', 'd']"
      ]
     },
     "execution_count": 3,
     "metadata": {},
     "output_type": "execute_result"
    }
   ],
   "source": [
    "# Example 3: Create a list of only the first letters of words in a list\n",
    "words = ['apple', 'banana', 'cherry', 'date']\n",
    "[a[0] for a in words] "
   ]
  },
  {
   "cell_type": "code",
   "execution_count": 4,
   "id": "10e62d0f-cea7-4a96-b05b-a9ca13433eea",
   "metadata": {},
   "outputs": [],
   "source": [
    "# Example 5: Flatten a list of lists into a single list\n",
    "lists = [[1, 2, 3], [4, 5, 6], [7, 8, 9]]"
   ]
  },
  {
   "cell_type": "code",
   "execution_count": 5,
   "id": "0c9e368a-c3e5-4455-b80e-8cea8229f90f",
   "metadata": {},
   "outputs": [
    {
     "data": {
      "text/plain": [
       "[1, 2, 3, 4, 5, 6, 7, 8, 9]"
      ]
     },
     "execution_count": 5,
     "metadata": {},
     "output_type": "execute_result"
    }
   ],
   "source": [
    "[a for sublist in lists for a in sublist]"
   ]
  },
  {
   "cell_type": "code",
   "execution_count": 23,
   "id": "8f037355-0d19-4809-a34c-ee8c1e712165",
   "metadata": {},
   "outputs": [],
   "source": [
    "# Class 19 Tuples\n",
    "\n",
    "t=(True,0,False,1,2,3, 3+4j,'umais')"
   ]
  },
  {
   "cell_type": "code",
   "execution_count": 24,
   "id": "5f676d97-2c82-4dc8-b66a-255147c3894f",
   "metadata": {},
   "outputs": [
    {
     "data": {
      "text/plain": [
       "2"
      ]
     },
     "execution_count": 24,
     "metadata": {},
     "output_type": "execute_result"
    }
   ],
   "source": [
    "t.count(0)"
   ]
  },
  {
   "cell_type": "code",
   "execution_count": 25,
   "id": "a92232fc-bac0-47aa-bf09-7499f43443de",
   "metadata": {},
   "outputs": [
    {
     "data": {
      "text/plain": [
       "2"
      ]
     },
     "execution_count": 25,
     "metadata": {},
     "output_type": "execute_result"
    }
   ],
   "source": [
    "t.count(1)"
   ]
  },
  {
   "cell_type": "code",
   "execution_count": 28,
   "id": "01499c80-8448-47d4-b3ea-795ebb7f8bab",
   "metadata": {},
   "outputs": [
    {
     "name": "stdout",
     "output_type": "stream",
     "text": [
      "True <class 'bool'>\n",
      "0 <class 'int'>\n",
      "False <class 'bool'>\n",
      "1 <class 'int'>\n",
      "2 <class 'int'>\n",
      "3 <class 'int'>\n",
      "(3+4j) <class 'complex'>\n",
      "umais <class 'str'>\n"
     ]
    }
   ],
   "source": [
    "for i in t:\n",
    "    print(i, type(i))"
   ]
  },
  {
   "cell_type": "code",
   "execution_count": 33,
   "id": "9718a5c3-fa32-4ff3-9da0-8610b51b227b",
   "metadata": {},
   "outputs": [
    {
     "ename": "TypeError",
     "evalue": "'<' not supported between instances of 'complex' and 'int'",
     "output_type": "error",
     "traceback": [
      "\u001b[0;31m---------------------------------------------------------------------------\u001b[0m",
      "\u001b[0;31mTypeError\u001b[0m                                 Traceback (most recent call last)",
      "Cell \u001b[0;32mIn[33], line 1\u001b[0m\n\u001b[0;32m----> 1\u001b[0m \u001b[38;5;28;43mmin\u001b[39;49m\u001b[43m(\u001b[49m\u001b[43mt\u001b[49m\u001b[43m)\u001b[49m\n",
      "\u001b[0;31mTypeError\u001b[0m: '<' not supported between instances of 'complex' and 'int'"
     ]
    }
   ],
   "source": [
    "min(t)"
   ]
  },
  {
   "cell_type": "code",
   "execution_count": 40,
   "id": "a50930bf-40a2-4007-af33-623b928806fe",
   "metadata": {},
   "outputs": [],
   "source": [
    "# class 20 seets store only unique elements \n",
    "s = {1,2,3,4,1,2,3,4,0}"
   ]
  },
  {
   "cell_type": "code",
   "execution_count": 41,
   "id": "c590bba8-d6ff-48e2-bfb6-4d5a0f5e3cbf",
   "metadata": {},
   "outputs": [
    {
     "data": {
      "text/plain": [
       "{0, 1, 2, 3, 4}"
      ]
     },
     "execution_count": 41,
     "metadata": {},
     "output_type": "execute_result"
    }
   ],
   "source": [
    "s"
   ]
  },
  {
   "cell_type": "code",
   "execution_count": 38,
   "id": "42f767a9-32d5-436b-94ba-c7d71a3d6d69",
   "metadata": {},
   "outputs": [
    {
     "data": {
      "text/plain": [
       "{2, 3, 4}"
      ]
     },
     "execution_count": 38,
     "metadata": {},
     "output_type": "execute_result"
    }
   ],
   "source": [
    "s"
   ]
  },
  {
   "cell_type": "code",
   "execution_count": 42,
   "id": "6f166247-31a6-4cfc-8000-964b67b4e00b",
   "metadata": {},
   "outputs": [
    {
     "ename": "TypeError",
     "evalue": "'set' object is not subscriptable",
     "output_type": "error",
     "traceback": [
      "\u001b[0;31m---------------------------------------------------------------------------\u001b[0m",
      "\u001b[0;31mTypeError\u001b[0m                                 Traceback (most recent call last)",
      "Cell \u001b[0;32mIn[42], line 1\u001b[0m\n\u001b[0;32m----> 1\u001b[0m \u001b[43ms\u001b[49m\u001b[43m[\u001b[49m\u001b[38;5;241;43m1\u001b[39;49m\u001b[43m]\u001b[49m\n",
      "\u001b[0;31mTypeError\u001b[0m: 'set' object is not subscriptable"
     ]
    }
   ],
   "source": [
    "s[1]"
   ]
  },
  {
   "cell_type": "code",
   "execution_count": 43,
   "id": "fc4f013f-46fc-427f-893c-8d937ff0d055",
   "metadata": {},
   "outputs": [
    {
     "name": "stdout",
     "output_type": "stream",
     "text": [
      "0\n",
      "1\n",
      "2\n",
      "3\n",
      "4\n"
     ]
    }
   ],
   "source": [
    "for i in s:\n",
    "    print(i)"
   ]
  },
  {
   "cell_type": "code",
   "execution_count": 46,
   "id": "002b2606-1845-48da-a149-6ede2164cb91",
   "metadata": {},
   "outputs": [
    {
     "ename": "TypeError",
     "evalue": "set.pop() takes no arguments (1 given)",
     "output_type": "error",
     "traceback": [
      "\u001b[0;31m---------------------------------------------------------------------------\u001b[0m",
      "\u001b[0;31mTypeError\u001b[0m                                 Traceback (most recent call last)",
      "Cell \u001b[0;32mIn[46], line 1\u001b[0m\n\u001b[0;32m----> 1\u001b[0m \u001b[43ms\u001b[49m\u001b[38;5;241;43m.\u001b[39;49m\u001b[43mpop\u001b[49m\u001b[43m(\u001b[49m\u001b[38;5;241;43m0\u001b[39;49m\u001b[43m)\u001b[49m\n",
      "\u001b[0;31mTypeError\u001b[0m: set.pop() takes no arguments (1 given)"
     ]
    }
   ],
   "source": [
    "s.pop()"
   ]
  },
  {
   "cell_type": "code",
   "execution_count": 45,
   "id": "374bc8d3-a761-48d9-8de0-0a2b0f3b5a2e",
   "metadata": {},
   "outputs": [
    {
     "data": {
      "text/plain": [
       "{1, 2, 3, 4}"
      ]
     },
     "execution_count": 45,
     "metadata": {},
     "output_type": "execute_result"
    }
   ],
   "source": [
    "s"
   ]
  },
  {
   "cell_type": "code",
   "execution_count": 49,
   "id": "61e630d0-b47e-4019-b69a-5c2905061e55",
   "metadata": {},
   "outputs": [],
   "source": [
    "s1={1,2,4,3,10}"
   ]
  },
  {
   "cell_type": "code",
   "execution_count": 51,
   "id": "310bd969-41b5-4363-9325-cba177abfad6",
   "metadata": {},
   "outputs": [
    {
     "data": {
      "text/plain": [
       "{10}"
      ]
     },
     "execution_count": 51,
     "metadata": {},
     "output_type": "execute_result"
    }
   ],
   "source": [
    "s1.difference(s)"
   ]
  },
  {
   "cell_type": "code",
   "execution_count": 52,
   "id": "a73bb35d-8fd0-4b4b-98c4-234c2a2db46c",
   "metadata": {},
   "outputs": [
    {
     "data": {
      "text/plain": [
       "({1, 2, 3, 4}, {1, 2, 3, 4, 10})"
      ]
     },
     "execution_count": 52,
     "metadata": {},
     "output_type": "execute_result"
    }
   ],
   "source": [
    "s,s1"
   ]
  },
  {
   "cell_type": "code",
   "execution_count": 53,
   "id": "5b686c4a-0e34-4b3b-bb8b-739fa0e85cda",
   "metadata": {},
   "outputs": [],
   "source": [
    "# class 21 Dictionary"
   ]
  },
  {
   "cell_type": "code",
   "execution_count": 61,
   "id": "28babcf5-f382-4d60-8486-6aebe4f4464e",
   "metadata": {},
   "outputs": [],
   "source": [
    "d1={True:'Umais',False: 'Farooqi',0:'ABC'}"
   ]
  },
  {
   "cell_type": "code",
   "execution_count": 66,
   "id": "420cbc74-cab3-45d0-873e-c639fe5c140b",
   "metadata": {},
   "outputs": [
    {
     "data": {
      "text/plain": [
       "'ABC'"
      ]
     },
     "execution_count": 66,
     "metadata": {},
     "output_type": "execute_result"
    }
   ],
   "source": [
    "d1[False]"
   ]
  },
  {
   "cell_type": "code",
   "execution_count": null,
   "id": "03190461-c546-41c0-aef8-c5617f50056b",
   "metadata": {},
   "outputs": [],
   "source": []
  }
 ],
 "metadata": {
  "kernelspec": {
   "display_name": "Python 3 (ipykernel)",
   "language": "python",
   "name": "python3"
  },
  "language_info": {
   "codemirror_mode": {
    "name": "ipython",
    "version": 3
   },
   "file_extension": ".py",
   "mimetype": "text/x-python",
   "name": "python",
   "nbconvert_exporter": "python",
   "pygments_lexer": "ipython3",
   "version": "3.10.8"
  }
 },
 "nbformat": 4,
 "nbformat_minor": 5
}
