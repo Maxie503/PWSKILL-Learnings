{
 "cells": [
  {
   "cell_type": "code",
   "execution_count": 6,
   "id": "52cd500d-588f-44a7-9b24-adbf9109e651",
   "metadata": {},
   "outputs": [],
   "source": [
    "from abc import ABC,abstractmethod"
   ]
  },
  {
   "cell_type": "code",
   "execution_count": 8,
   "id": "b2ffda3c-3d38-40de-963d-e59108e037c9",
   "metadata": {},
   "outputs": [],
   "source": [
    "class car(ABC):\n",
    "    def show(self):\n",
    "        print('Four wheels')\n",
    "    @abstractmethod\n",
    "    def speed(self):\n",
    "        pass\n",
    "class maruti(car):\n",
    "    def speed(self):\n",
    "        print('100 kmph')\n",
    "\n",
    "class suzuki(car):\n",
    "    def speed(self):\n",
    "        print('150 kmph')\n",
    "        "
   ]
  },
  {
   "cell_type": "code",
   "execution_count": 10,
   "id": "df3caa78-68f1-4e25-bc9c-966a90abfe28",
   "metadata": {},
   "outputs": [],
   "source": [
    "obj1 =maruti()\n",
    "obj2=suzuki()"
   ]
  },
  {
   "cell_type": "code",
   "execution_count": 11,
   "id": "ae4c0978-70d5-4758-8f1a-c2cc7180b1f9",
   "metadata": {},
   "outputs": [
    {
     "ename": "SyntaxError",
     "evalue": "invalid syntax (1297937901.py, line 1)",
     "output_type": "error",
     "traceback": [
      "\u001b[0;36m  Cell \u001b[0;32mIn[11], line 1\u001b[0;36m\u001b[0m\n\u001b[0;31m    obj1.\u001b[0m\n\u001b[0m         ^\u001b[0m\n\u001b[0;31mSyntaxError\u001b[0m\u001b[0;31m:\u001b[0m invalid syntax\n"
     ]
    }
   ],
   "source": [
    "obj1."
   ]
  },
  {
   "cell_type": "code",
   "execution_count": 35,
   "id": "f0177fda-618f-4068-a457-006493cc20f8",
   "metadata": {},
   "outputs": [],
   "source": [
    "import time\n",
    "\n",
    "def deco(fn):\n",
    "    def inner_deco():\n",
    "        t1=time.time()\n",
    "        fn()\n",
    "        t2= time.time()\n",
    "        print('time=',t2-t1)\n",
    "    return inner_deco"
   ]
  },
  {
   "cell_type": "code",
   "execution_count": 41,
   "id": "e854c09f-0535-4369-bf3c-0b116b594f41",
   "metadata": {},
   "outputs": [],
   "source": [
    "@deco\n",
    "def mill():\n",
    "    for i in range(100000000):\n",
    "        1\n",
    "    "
   ]
  },
  {
   "cell_type": "code",
   "execution_count": 42,
   "id": "465f7ced-9593-4481-8046-72d5e12163b1",
   "metadata": {},
   "outputs": [
    {
     "name": "stdout",
     "output_type": "stream",
     "text": [
      "time= 2.7655322551727295\n"
     ]
    }
   ],
   "source": [
    "mill()"
   ]
  },
  {
   "cell_type": "code",
   "execution_count": 44,
   "id": "ba94b488-fa81-41a5-9898-4925b44291ca",
   "metadata": {},
   "outputs": [
    {
     "data": {
      "text/plain": [
       "['__abs__',\n",
       " '__add__',\n",
       " '__and__',\n",
       " '__bool__',\n",
       " '__ceil__',\n",
       " '__class__',\n",
       " '__delattr__',\n",
       " '__dir__',\n",
       " '__divmod__',\n",
       " '__doc__',\n",
       " '__eq__',\n",
       " '__float__',\n",
       " '__floor__',\n",
       " '__floordiv__',\n",
       " '__format__',\n",
       " '__ge__',\n",
       " '__getattribute__',\n",
       " '__getnewargs__',\n",
       " '__gt__',\n",
       " '__hash__',\n",
       " '__index__',\n",
       " '__init__',\n",
       " '__init_subclass__',\n",
       " '__int__',\n",
       " '__invert__',\n",
       " '__le__',\n",
       " '__lshift__',\n",
       " '__lt__',\n",
       " '__mod__',\n",
       " '__mul__',\n",
       " '__ne__',\n",
       " '__neg__',\n",
       " '__new__',\n",
       " '__or__',\n",
       " '__pos__',\n",
       " '__pow__',\n",
       " '__radd__',\n",
       " '__rand__',\n",
       " '__rdivmod__',\n",
       " '__reduce__',\n",
       " '__reduce_ex__',\n",
       " '__repr__',\n",
       " '__rfloordiv__',\n",
       " '__rlshift__',\n",
       " '__rmod__',\n",
       " '__rmul__',\n",
       " '__ror__',\n",
       " '__round__',\n",
       " '__rpow__',\n",
       " '__rrshift__',\n",
       " '__rshift__',\n",
       " '__rsub__',\n",
       " '__rtruediv__',\n",
       " '__rxor__',\n",
       " '__setattr__',\n",
       " '__sizeof__',\n",
       " '__str__',\n",
       " '__sub__',\n",
       " '__subclasshook__',\n",
       " '__truediv__',\n",
       " '__trunc__',\n",
       " '__xor__',\n",
       " 'as_integer_ratio',\n",
       " 'bit_count',\n",
       " 'bit_length',\n",
       " 'conjugate',\n",
       " 'denominator',\n",
       " 'from_bytes',\n",
       " 'imag',\n",
       " 'numerator',\n",
       " 'real',\n",
       " 'to_bytes']"
      ]
     },
     "execution_count": 44,
     "metadata": {},
     "output_type": "execute_result"
    }
   ],
   "source": [
    "dir(int)"
   ]
  },
  {
   "cell_type": "code",
   "execution_count": 52,
   "id": "a93b006e-4628-442f-8c1f-4ff749ebee0d",
   "metadata": {},
   "outputs": [],
   "source": [
    "a=1\n",
    "b=2"
   ]
  },
  {
   "cell_type": "code",
   "execution_count": 53,
   "id": "2d31699b-5203-4498-9d04-4d4286c1cf2e",
   "metadata": {},
   "outputs": [],
   "source": [
    "z=complex(a,b)"
   ]
  },
  {
   "cell_type": "code",
   "execution_count": 55,
   "id": "9da984df-fd6f-4c89-a468-885f23303f7a",
   "metadata": {},
   "outputs": [
    {
     "data": {
      "text/plain": [
       "(1+2j)"
      ]
     },
     "execution_count": 55,
     "metadata": {},
     "output_type": "execute_result"
    }
   ],
   "source": [
    "z"
   ]
  },
  {
   "cell_type": "code",
   "execution_count": null,
   "id": "8e6d3f84-bed3-4f28-af7d-63ee3f9b794c",
   "metadata": {},
   "outputs": [],
   "source": []
  }
 ],
 "metadata": {
  "kernelspec": {
   "display_name": "Python 3 (ipykernel)",
   "language": "python",
   "name": "python3"
  },
  "language_info": {
   "codemirror_mode": {
    "name": "ipython",
    "version": 3
   },
   "file_extension": ".py",
   "mimetype": "text/x-python",
   "name": "python",
   "nbconvert_exporter": "python",
   "pygments_lexer": "ipython3",
   "version": "3.10.8"
  }
 },
 "nbformat": 4,
 "nbformat_minor": 5
}
