{
  "nbformat": 4,
  "nbformat_minor": 0,
  "metadata": {
    "colab": {
      "provenance": [],
      "authorship_tag": "ABX9TyOVEPqvBryTse2SiFkqUOQm",
      "include_colab_link": true
    },
    "kernelspec": {
      "name": "python3",
      "display_name": "Python 3"
    },
    "language_info": {
      "name": "python"
    }
  },
  "cells": [
    {
      "cell_type": "markdown",
      "metadata": {
        "id": "view-in-github",
        "colab_type": "text"
      },
      "source": [
        "<a href=\"https://colab.research.google.com/github/Maxie503/PWSKILL-Learnings/blob/main/Class_324_Alexnet.ipynb\" target=\"_parent\"><img src=\"https://colab.research.google.com/assets/colab-badge.svg\" alt=\"Open In Colab\"/></a>"
      ]
    },
    {
      "cell_type": "code",
      "execution_count": 1,
      "metadata": {
        "id": "aBuCmAECsBO2"
      },
      "outputs": [],
      "source": [
        "import tensorflow as tf\n",
        "from tensorflow import keras\n",
        "from tensorflow.keras.layers import Dense, Dropout, Flatten, Conv2D, BatchNormalization, MaxPooling2D\n",
        "from tensorflow.keras import Sequential\n",
        "import numpy as np\n",
        "from tensorflow.keras.utils import to_categorical"
      ]
    },
    {
      "cell_type": "code",
      "source": [
        "m1 =Sequential()\n",
        "\n",
        "#Conv1\n",
        "m1.add(Conv2D(96, input_shape=(224,224,3),kernel_size=(11,11), strides=(4,4),padding ='valid'))\n",
        "m1.add(BatchNormalization())\n",
        "m1.add(Activation('relu'))\n",
        "\n",
        "#pool1\n",
        "m1.add(MaxPooling2D(pool_size=(3,3), strides=(2,2), padding='valid'))\n",
        "#norm1\n",
        "m1.add(BatchNormalization())\n",
        "\n",
        "#conv2\n",
        "m1.add(Conv2D(256, kernel_size=(5,5), padding='same', strides=(1,1)))\n",
        "m1.add(MaxPooling2D(pool_size=(3,3), strides=(2,2), padding='valid'))\n",
        "m1.add(BatchNormalization())\n",
        "m1.add(Activation('relu'))\n",
        "\n",
        "#conv3\n",
        "m1.add(Conv2D(384, kernel_size=(3,3), strides=(1,1), padding='same'))\n",
        "m1.add(BatchNormalization())\n",
        "m1.add(Activation('relu'))\n",
        "\n",
        "#conv4\n",
        "m1.add(Conv2D(384, kernel_size=(3,3), strides=(1,1), padding='same'))\n",
        "m1.add(BatchNormalization())\n",
        "m1.add(Activation('relu'))\n",
        "\n",
        "\n",
        "#conv5\n",
        "m1.add(Conv2D(256, kernel_size=(3,3), strides=(1,1), padding='same'))\n",
        "m1.add(MaxPooling2D(pool_size=(3,3), strides=(2,2), padding='valid'))\n",
        "m1.add(BatchNormalization())\n",
        "m1.add(Activation('relu'))\n",
        "\n",
        "\n",
        "m1.add(Flatten())\n",
        "\n",
        "m1.add(Dense(4096, activation='relu'))\n",
        "m1.add(BatchNormalization())\n",
        "m1.add(Dropout(0.5))\n",
        "\n",
        "\n",
        "m1.add(Dense(4096, activation='relu'))\n",
        "m1.add(BatchNormalization())\n",
        "m1.add(Dropout(0.5))\n",
        "\n",
        "m1.add(Dense(1000, activation='softmax'))\n",
        "m1.summary()"
      ],
      "metadata": {
        "colab": {
          "base_uri": "https://localhost:8080/",
          "height": 321
        },
        "id": "SN5VxbwSuJgF",
        "outputId": "862e62a9-deae-45a1-bcc5-29a90f559e58"
      },
      "execution_count": 15,
      "outputs": [
        {
          "output_type": "error",
          "ename": "TypeError",
          "evalue": "unsupported operand type(s) for /: 'Dimension' and 'int', please use // instead",
          "traceback": [
            "\u001b[0;31m---------------------------------------------------------------------------\u001b[0m",
            "\u001b[0;31mTypeError\u001b[0m                                 Traceback (most recent call last)",
            "\u001b[0;32m<ipython-input-15-e1a916bf9baa>\u001b[0m in \u001b[0;36m<cell line: 0>\u001b[0;34m()\u001b[0m\n\u001b[1;32m     45\u001b[0m \u001b[0;34m\u001b[0m\u001b[0m\n\u001b[1;32m     46\u001b[0m \u001b[0;34m\u001b[0m\u001b[0m\n\u001b[0;32m---> 47\u001b[0;31m \u001b[0mm1\u001b[0m\u001b[0;34m.\u001b[0m\u001b[0msummary\u001b[0m\u001b[0;34m(\u001b[0m\u001b[0;34m)\u001b[0m\u001b[0;34m\u001b[0m\u001b[0;34m\u001b[0m\u001b[0m\n\u001b[0m",
            "\u001b[0;32m/usr/local/lib/python3.11/dist-packages/keras/src/utils/traceback_utils.py\u001b[0m in \u001b[0;36merror_handler\u001b[0;34m(*args, **kwargs)\u001b[0m\n\u001b[1;32m    120\u001b[0m             \u001b[0;31m# To get the full stack trace, call:\u001b[0m\u001b[0;34m\u001b[0m\u001b[0;34m\u001b[0m\u001b[0m\n\u001b[1;32m    121\u001b[0m             \u001b[0;31m# `keras.config.disable_traceback_filtering()`\u001b[0m\u001b[0;34m\u001b[0m\u001b[0;34m\u001b[0m\u001b[0m\n\u001b[0;32m--> 122\u001b[0;31m             \u001b[0;32mraise\u001b[0m \u001b[0me\u001b[0m\u001b[0;34m.\u001b[0m\u001b[0mwith_traceback\u001b[0m\u001b[0;34m(\u001b[0m\u001b[0mfiltered_tb\u001b[0m\u001b[0;34m)\u001b[0m \u001b[0;32mfrom\u001b[0m \u001b[0;32mNone\u001b[0m\u001b[0;34m\u001b[0m\u001b[0;34m\u001b[0m\u001b[0m\n\u001b[0m\u001b[1;32m    123\u001b[0m         \u001b[0;32mfinally\u001b[0m\u001b[0;34m:\u001b[0m\u001b[0;34m\u001b[0m\u001b[0;34m\u001b[0m\u001b[0m\n\u001b[1;32m    124\u001b[0m             \u001b[0;32mdel\u001b[0m \u001b[0mfiltered_tb\u001b[0m\u001b[0;34m\u001b[0m\u001b[0;34m\u001b[0m\u001b[0m\n",
            "\u001b[0;32m/usr/local/lib/python3.11/dist-packages/tensorflow/python/framework/tensor_shape.py\u001b[0m in \u001b[0;36m__truediv__\u001b[0;34m(self, other)\u001b[0m\n\u001b[1;32m    563\u001b[0m       \u001b[0mTypeError\u001b[0m\u001b[0;34m.\u001b[0m\u001b[0;34m\u001b[0m\u001b[0;34m\u001b[0m\u001b[0m\n\u001b[1;32m    564\u001b[0m     \"\"\"\n\u001b[0;32m--> 565\u001b[0;31m     raise TypeError(\"unsupported operand type(s) for /: 'Dimension' and '{}', \"\n\u001b[0m\u001b[1;32m    566\u001b[0m                     \"please use // instead\".format(type(other).__name__))\n\u001b[1;32m    567\u001b[0m \u001b[0;34m\u001b[0m\u001b[0m\n",
            "\u001b[0;31mTypeError\u001b[0m: unsupported operand type(s) for /: 'Dimension' and 'int', please use // instead"
          ]
        }
      ]
    },
    {
      "cell_type": "code",
      "source": [],
      "metadata": {
        "id": "cgFvWRub2oRH"
      },
      "execution_count": null,
      "outputs": []
    }
  ]
}