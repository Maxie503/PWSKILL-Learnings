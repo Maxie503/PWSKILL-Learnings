{
 "cells": [
  {
   "cell_type": "code",
   "execution_count": 1,
   "id": "fe4d5e28-3e59-4758-9435-35661e6ebdb4",
   "metadata": {},
   "outputs": [],
   "source": [
    "nums = [0,1,0,3,12]"
   ]
  },
  {
   "cell_type": "code",
   "execution_count": null,
   "id": "2d05572f-18c7-4c47-8387-9b476fb44ece",
   "metadata": {},
   "outputs": [],
   "source": [
    "ls=[]\n",
    "count =0\n",
    "n = len(nums)\n",
    "for i in nums:\n",
    "    if i!=0:\n",
    "        ls.append(i)\n",
    "    else:\n",
    "        count +=1\n",
    "for j in range(count):\n",
    "    ls.append(0)\n",
    "\n",
    "\n",
    "print(ls)\n",
    "    "
   ]
  }
 ],
 "metadata": {
  "kernelspec": {
   "display_name": "Python 3 (ipykernel)",
   "language": "python",
   "name": "python3"
  },
  "language_info": {
   "codemirror_mode": {
    "name": "ipython",
    "version": 3
   },
   "file_extension": ".py",
   "mimetype": "text/x-python",
   "name": "python",
   "nbconvert_exporter": "python",
   "pygments_lexer": "ipython3",
   "version": "3.10.8"
  }
 },
 "nbformat": 4,
 "nbformat_minor": 5
}
