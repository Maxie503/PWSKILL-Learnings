{
 "cells": [
  {
   "cell_type": "markdown",
   "metadata": {
    "id": "UKxjhMqYCYmY"
   },
   "source": [
    "# Implementation of ANN using Keras:"
   ]
  },
  {
   "cell_type": "code",
   "execution_count": 1,
   "metadata": {
    "id": "8cyFiytTqQ9y"
   },
   "outputs": [
    {
     "name": "stderr",
     "output_type": "stream",
     "text": [
      "2023-11-16 18:36:18.095670: I external/local_tsl/tsl/cuda/cudart_stub.cc:31] Could not find cuda drivers on your machine, GPU will not be used.\n",
      "2023-11-16 18:36:18.161972: E external/local_xla/xla/stream_executor/cuda/cuda_dnn.cc:9261] Unable to register cuDNN factory: Attempting to register factory for plugin cuDNN when one has already been registered\n",
      "2023-11-16 18:36:18.162033: E external/local_xla/xla/stream_executor/cuda/cuda_fft.cc:607] Unable to register cuFFT factory: Attempting to register factory for plugin cuFFT when one has already been registered\n",
      "2023-11-16 18:36:18.163584: E external/local_xla/xla/stream_executor/cuda/cuda_blas.cc:1515] Unable to register cuBLAS factory: Attempting to register factory for plugin cuBLAS when one has already been registered\n",
      "2023-11-16 18:36:18.172889: I external/local_tsl/tsl/cuda/cudart_stub.cc:31] Could not find cuda drivers on your machine, GPU will not be used.\n",
      "2023-11-16 18:36:18.173588: I tensorflow/core/platform/cpu_feature_guard.cc:182] This TensorFlow binary is optimized to use available CPU instructions in performance-critical operations.\n",
      "To enable the following instructions: AVX2 FMA, in other operations, rebuild TensorFlow with the appropriate compiler flags.\n",
      "2023-11-16 18:36:19.357570: W tensorflow/compiler/tf2tensorrt/utils/py_utils.cc:38] TF-TRT Warning: Could not find TensorRT\n"
     ]
    }
   ],
   "source": [
    "# Importing Libraries\n",
    "import tensorflow as tf\n",
    "import matplotlib.pyplot as plt\n",
    "import numpy as np\n",
    "import pandas as pd\n",
    "import seaborn as sns\n",
    "import os"
   ]
  },
  {
   "cell_type": "code",
   "execution_count": 2,
   "metadata": {
    "colab": {
     "base_uri": "https://localhost:8080/"
    },
    "id": "zRzBH6nAzVe4",
    "outputId": "c45fc31b-bd9f-4f58-b661-f5319d6e5d2a"
   },
   "outputs": [
    {
     "name": "stdout",
     "output_type": "stream",
     "text": [
      "Tensorflow Version 2.15.0\n"
     ]
    },
    {
     "ename": "AttributeError",
     "evalue": "module 'keras.api._v2.keras' has no attribute '__version__'",
     "output_type": "error",
     "traceback": [
      "\u001b[0;31m---------------------------------------------------------------------------\u001b[0m",
      "\u001b[0;31mAttributeError\u001b[0m                            Traceback (most recent call last)",
      "Cell \u001b[0;32mIn[2], line 3\u001b[0m\n\u001b[1;32m      1\u001b[0m \u001b[38;5;66;03m# Checking version of Tensorflow ans Keras\u001b[39;00m\n\u001b[1;32m      2\u001b[0m \u001b[38;5;28mprint\u001b[39m(\u001b[38;5;124mf\u001b[39m\u001b[38;5;124m\"\u001b[39m\u001b[38;5;124mTensorflow Version \u001b[39m\u001b[38;5;132;01m{\u001b[39;00mtf\u001b[38;5;241m.\u001b[39m__version__\u001b[38;5;132;01m}\u001b[39;00m\u001b[38;5;124m\"\u001b[39m)\n\u001b[0;32m----> 3\u001b[0m \u001b[38;5;28mprint\u001b[39m(\u001b[38;5;124mf\u001b[39m\u001b[38;5;124m\"\u001b[39m\u001b[38;5;124mKeras Version \u001b[39m\u001b[38;5;132;01m{\u001b[39;00m\u001b[43mtf\u001b[49m\u001b[38;5;241;43m.\u001b[39;49m\u001b[43mkeras\u001b[49m\u001b[38;5;241;43m.\u001b[39;49m\u001b[43m__version__\u001b[49m\u001b[38;5;132;01m}\u001b[39;00m\u001b[38;5;124m\"\u001b[39m)\n",
      "File \u001b[0;32m/opt/conda/lib/python3.10/site-packages/tensorflow/python/util/lazy_loader.py:171\u001b[0m, in \u001b[0;36mKerasLazyLoader.__getattr__\u001b[0;34m(self, item)\u001b[0m\n\u001b[1;32m    167\u001b[0m     \u001b[38;5;28;01mraise\u001b[39;00m \u001b[38;5;167;01mAttributeError\u001b[39;00m(\n\u001b[1;32m    168\u001b[0m         \u001b[38;5;124mf\u001b[39m\u001b[38;5;124m\"\u001b[39m\u001b[38;5;124m`\u001b[39m\u001b[38;5;132;01m{\u001b[39;00mitem\u001b[38;5;132;01m}\u001b[39;00m\u001b[38;5;124m` is not available with Keras 3.\u001b[39m\u001b[38;5;124m\"\u001b[39m\n\u001b[1;32m    169\u001b[0m     )\n\u001b[1;32m    170\u001b[0m module \u001b[38;5;241m=\u001b[39m \u001b[38;5;28mself\u001b[39m\u001b[38;5;241m.\u001b[39m_load()\n\u001b[0;32m--> 171\u001b[0m \u001b[38;5;28;01mreturn\u001b[39;00m \u001b[38;5;28;43mgetattr\u001b[39;49m\u001b[43m(\u001b[49m\u001b[43mmodule\u001b[49m\u001b[43m,\u001b[49m\u001b[43m \u001b[49m\u001b[43mitem\u001b[49m\u001b[43m)\u001b[49m\n",
      "\u001b[0;31mAttributeError\u001b[0m: module 'keras.api._v2.keras' has no attribute '__version__'"
     ]
    }
   ],
   "source": [
    "# Checking version of Tensorflow ans Keras\n",
    "print(f\"Tensorflow Version {tf.__version__}\")\n",
    "print(f\"Keras Version {tf.keras.__version__}\")"
   ]
  },
  {
   "cell_type": "markdown",
   "metadata": {
    "id": "U-KWX4byz2uJ"
   },
   "source": [
    "# GPU / CPU Check"
   ]
  },
  {
   "cell_type": "code",
   "execution_count": 3,
   "metadata": {
    "colab": {
     "base_uri": "https://localhost:8080/"
    },
    "id": "toOEyljOzzju",
    "outputId": "a4059aa2-e750-4ca4-ef9e-37216019d4b8"
   },
   "outputs": [
    {
     "data": {
      "text/plain": [
       "[]"
      ]
     },
     "execution_count": 3,
     "metadata": {},
     "output_type": "execute_result"
    }
   ],
   "source": [
    "tf.config.list_physical_devices(\"GPU\")"
   ]
  },
  {
   "cell_type": "code",
   "execution_count": 4,
   "metadata": {
    "colab": {
     "base_uri": "https://localhost:8080/"
    },
    "id": "fQ7_Dy77z9ad",
    "outputId": "9657e2d7-5252-4830-c113-b48c73f28d7e"
   },
   "outputs": [
    {
     "data": {
      "text/plain": [
       "[PhysicalDevice(name='/physical_device:CPU:0', device_type='CPU')]"
      ]
     },
     "execution_count": 4,
     "metadata": {},
     "output_type": "execute_result"
    }
   ],
   "source": [
    "tf.config.list_physical_devices(\"CPU\")"
   ]
  },
  {
   "cell_type": "code",
   "execution_count": 5,
   "metadata": {
    "colab": {
     "base_uri": "https://localhost:8080/"
    },
    "id": "BzQV7xH70AE-",
    "outputId": "2cbf1d5e-8407-4fb6-d1b9-977522b51e44"
   },
   "outputs": [
    {
     "name": "stdout",
     "output_type": "stream",
     "text": [
      "GPU isn't available!\n",
      "CPU is available!\n",
      "Details >> [PhysicalDevice(name='/physical_device:CPU:0', device_type='CPU')]\n"
     ]
    }
   ],
   "source": [
    "check_list = ['GPU','CPU']\n",
    "\n",
    "for device in check_list:\n",
    "  out = tf.config.list_physical_devices(device)\n",
    "  if len(out) > 0:\n",
    "    print(f\"{device} is available!\")\n",
    "    print(f\"Details >> {out}\")\n",
    "  else:\n",
    "    print(f\"{device} isn't available!\")"
   ]
  },
  {
   "cell_type": "markdown",
   "metadata": {
    "id": "gYt1wtqx0H0g"
   },
   "source": [
    "# Creating a simple classifier using keras on MNIST data"
   ]
  },
  {
   "cell_type": "code",
   "execution_count": 6,
   "metadata": {
    "colab": {
     "base_uri": "https://localhost:8080/"
    },
    "id": "lA3Jiupu0Ck1",
    "outputId": "572a673c-6e51-45d7-ca1e-a223def3b9fb"
   },
   "outputs": [],
   "source": [
    "mnist = tf.keras.datasets.mnist\n",
    "(X_train_full, y_train_full), (X_test, y_test) = mnist.load_data()"
   ]
  },
  {
   "cell_type": "code",
   "execution_count": 7,
   "metadata": {
    "colab": {
     "base_uri": "https://localhost:8080/"
    },
    "id": "Ij9IgzYL0Nl1",
    "outputId": "878ab33b-9df0-4737-cbe7-8e1b7f28fdd1"
   },
   "outputs": [
    {
     "name": "stdout",
     "output_type": "stream",
     "text": [
      "data type of X_train_full: uint8,\n",
      " shape of X_train_full: (60000, 28, 28)\n"
     ]
    }
   ],
   "source": [
    "print(f\"data type of X_train_full: {X_train_full.dtype},\\n shape of X_train_full: {X_train_full.shape}\")"
   ]
  },
  {
   "cell_type": "code",
   "execution_count": 8,
   "metadata": {
    "colab": {
     "base_uri": "https://localhost:8080/"
    },
    "id": "sTmnrnXX0Rv4",
    "outputId": "0c3add0f-090b-4ccb-9de6-2dfb997e1c6d"
   },
   "outputs": [
    {
     "data": {
      "text/plain": [
       "(10000, 28, 28)"
      ]
     },
     "execution_count": 8,
     "metadata": {},
     "output_type": "execute_result"
    }
   ],
   "source": [
    "X_test.shape"
   ]
  },
  {
   "cell_type": "code",
   "execution_count": 9,
   "metadata": {
    "colab": {
     "base_uri": "https://localhost:8080/"
    },
    "id": "HVFEv8wJ0Txm",
    "outputId": "361acf32-116f-4c7e-a1e0-affff38272c8"
   },
   "outputs": [
    {
     "data": {
      "text/plain": [
       "28"
      ]
     },
     "execution_count": 9,
     "metadata": {},
     "output_type": "execute_result"
    }
   ],
   "source": [
    "len(X_test[1][0])"
   ]
  },
  {
   "cell_type": "code",
   "execution_count": 10,
   "metadata": {
    "id": "enACwUkT0aIA"
   },
   "outputs": [],
   "source": [
    "# create a validation data set from the full training data \n",
    "# Scale the data between 0 to 1 by dividing it by 255. as its an unsigned data between 0-255 range\n",
    "X_valid, X_train = X_train_full[:5000] / 255., X_train_full[5000:] / 255.\n",
    "y_valid, y_train = y_train_full[:5000], y_train_full[5000:]\n",
    "\n",
    "# scale the test set as well\n",
    "X_test = X_test / 255.\n"
   ]
  },
  {
   "cell_type": "code",
   "execution_count": 11,
   "metadata": {
    "colab": {
     "base_uri": "https://localhost:8080/"
    },
    "id": "kry0b-Gr0d5P",
    "outputId": "b2183142-fa57-411c-d14b-14125c903a05"
   },
   "outputs": [
    {
     "data": {
      "text/plain": [
       "55000"
      ]
     },
     "execution_count": 11,
     "metadata": {},
     "output_type": "execute_result"
    }
   ],
   "source": [
    "len(X_train_full[5000:] )"
   ]
  },
  {
   "cell_type": "code",
   "execution_count": 12,
   "metadata": {
    "colab": {
     "base_uri": "https://localhost:8080/",
     "height": 265
    },
    "id": "7ndtCwll0f-X",
    "outputId": "ed410059-f931-41a9-fa94-27b0c568934a"
   },
   "outputs": [
    {
     "data": {
      "image/png": "[encoded data removed]",
      "text/plain": [
       "<Figure size 640x480 with 1 Axes>"
      ]
     },
     "metadata": {},
     "output_type": "display_data"
    }
   ],
   "source": [
    "# Lets view some data \n",
    "plt.imshow(X_train[0], cmap=\"binary\")\n",
    "plt.show()"
   ]
  },
  {
   "cell_type": "code",
   "execution_count": 13,
   "metadata": {
    "colab": {
     "base_uri": "https://localhost:8080/",
     "height": 881
    },
    "id": "bIX_tQ3T0iRD",
    "outputId": "6175107e-1787-4e0a-d1b1-617a291bd49a"
   },
   "outputs": [
    {
     "data": {
      "text/plain": [
       "<AxesSubplot: >"
      ]
     },
     "execution_count": 13,
     "metadata": {},
     "output_type": "execute_result"
    },
    {
     "data": {
      "image/png": "[encoded data removed]",
      "text/plain": [
       "<Figure size 1500x1500 with 2 Axes>"
      ]
     },
     "metadata": {},
     "output_type": "display_data"
    }
   ],
   "source": [
    "plt.figure(figsize=(15,15))\n",
    "sns.heatmap(X_train[0], annot=True, cmap=\"binary\")"
   ]
  },
  {
   "cell_type": "markdown",
   "metadata": {
    "id": "gWaRi78i-Wvb"
   },
   "source": [
    "# Architecture Used:\n",
    "<img src=\"https://github.com/entbappy/Branching-tutorial/blob/master/9.png?raw=true\"\n",
    "width=\"500\" \n",
    "height=\"300\">"
   ]
  },
  {
   "cell_type": "code",
   "execution_count": 14,
   "metadata": {
    "id": "sGvWSfqY0keJ"
   },
   "outputs": [],
   "source": [
    "# Creating layers of ANN\n",
    "LAYERS = [tf.keras.layers.Flatten(input_shape=[28, 28], name=\"inputLayer\"),\n",
    "          tf.keras.layers.Dense(300, activation=\"relu\", name=\"hiddenLayer1\"),\n",
    "          tf.keras.layers.Dense(100, activation=\"relu\", name=\"hiddenLayer2\"),\n",
    "          tf.keras.layers.Dense(10, activation=\"softmax\", name=\"outputLayer\")]\n",
    "\n",
    "model_clf = tf.keras.models.Sequential(LAYERS)"
   ]
  },
  {
   "cell_type": "code",
   "execution_count": 15,
   "metadata": {
    "colab": {
     "base_uri": "https://localhost:8080/"
    },
    "id": "IkSRjh7m0vmm",
    "outputId": "7643b9c6-a9d7-439a-ac04-ee9824fad6de"
   },
   "outputs": [
    {
     "data": {
      "text/plain": [
       "[<keras.src.layers.reshaping.flatten.Flatten at 0x7fe2adc928f0>,\n",
       " <keras.src.layers.core.dense.Dense at 0x7fe2d0f18340>,\n",
       " <keras.src.layers.core.dense.Dense at 0x7fe2d0f18100>,\n",
       " <keras.src.layers.core.dense.Dense at 0x7fe2adc93640>]"
      ]
     },
     "execution_count": 15,
     "metadata": {},
     "output_type": "execute_result"
    }
   ],
   "source": [
    "model_clf.layers"
   ]
  },
  {
   "cell_type": "code",
   "execution_count": 16,
   "metadata": {
    "colab": {
     "base_uri": "https://localhost:8080/"
    },
    "id": "tsRtHRha0z-X",
    "outputId": "c455fa61-9d06-426e-8f21-8dd11bbb0f8c"
   },
   "outputs": [
    {
     "name": "stdout",
     "output_type": "stream",
     "text": [
      "Model: \"sequential\"\n",
      "_________________________________________________________________\n",
      " Layer (type)                Output Shape              Param #   \n",
      "=================================================================\n",
      " inputLayer (Flatten)        (None, 784)               0         \n",
      "                                                                 \n",
      " hiddenLayer1 (Dense)        (None, 300)               235500    \n",
      "                                                                 \n",
      " hiddenLayer2 (Dense)        (None, 100)               30100     \n",
      "                                                                 \n",
      " outputLayer (Dense)         (None, 10)                1010      \n",
      "                                                                 \n",
      "=================================================================\n",
      "Total params: 266610 (1.02 MB)\n",
      "Trainable params: 266610 (1.02 MB)\n",
      "Non-trainable params: 0 (0.00 Byte)\n",
      "_________________________________________________________________\n"
     ]
    }
   ],
   "source": [
    "model_clf.summary()"
   ]
  },
  {
   "cell_type": "code",
   "execution_count": 20,
   "metadata": {
    "colab": {
     "base_uri": "https://localhost:8080/"
    },
    "id": "kEB0echJ02F1",
    "outputId": "177a075b-151a-4741-cc52-b2f15d45c38b"
   },
   "outputs": [
    {
     "data": {
      "text/plain": [
       "(235500, 30100, 1010)"
      ]
     },
     "execution_count": 20,
     "metadata": {},
     "output_type": "execute_result"
    }
   ],
   "source": [
    "# first Layer * second Layer + bias\n",
    "784*300 + 300, 300*100+100, 100*10+10"
   ]
  },
  {
   "cell_type": "code",
   "execution_count": 21,
   "metadata": {
    "colab": {
     "base_uri": "https://localhost:8080/"
    },
    "id": "wnYO-DOB05gq",
    "outputId": "681e6e67-c508-46ff-d086-1257f62306e4"
   },
   "outputs": [
    {
     "data": {
      "text/plain": [
       "266610"
      ]
     },
     "execution_count": 21,
     "metadata": {},
     "output_type": "execute_result"
    }
   ],
   "source": [
    "# Total parameters to be trained \n",
    "sum((235500, 30100, 1010))"
   ]
  },
  {
   "cell_type": "code",
   "execution_count": 17,
   "metadata": {
    "colab": {
     "base_uri": "https://localhost:8080/",
     "height": 35
    },
    "id": "1GIEme5n08wL",
    "outputId": "50de5f52-3efc-41db-b562-d412a0a1e97a"
   },
   "outputs": [
    {
     "data": {
      "text/plain": [
       "'hiddenLayer1'"
      ]
     },
     "execution_count": 17,
     "metadata": {},
     "output_type": "execute_result"
    }
   ],
   "source": [
    "hidden1 = model_clf.layers[1]\n",
    "hidden1.name"
   ]
  },
  {
   "cell_type": "code",
   "execution_count": 18,
   "metadata": {
    "colab": {
     "base_uri": "https://localhost:8080/"
    },
    "id": "RWNnIcjd0_jj",
    "outputId": "6365beb5-eacd-4b0d-c083-37191e900696"
   },
   "outputs": [
    {
     "data": {
      "text/plain": [
       "300"
      ]
     },
     "execution_count": 18,
     "metadata": {},
     "output_type": "execute_result"
    }
   ],
   "source": [
    "len(hidden1.get_weights()[1])"
   ]
  },
  {
   "cell_type": "code",
   "execution_count": 24,
   "metadata": {
    "colab": {
     "base_uri": "https://localhost:8080/"
    },
    "id": "U15nIfVC1DQh",
    "outputId": "59205201-cd3c-4a55-a990-34799eb5d147"
   },
   "outputs": [
    {
     "data": {
      "text/plain": [
       "[array([[ 0.03750367,  0.06491207,  0.02933396, ..., -0.02531018,\n",
       "          0.05174646,  0.04900768],\n",
       "        [-0.02894534,  0.02800845, -0.0447536 , ...,  0.04736418,\n",
       "         -0.02508461, -0.07183427],\n",
       "        [-0.05741644,  0.02283589, -0.07099003, ..., -0.0507988 ,\n",
       "         -0.02526534,  0.04779205],\n",
       "        ...,\n",
       "        [ 0.07079244,  0.06014341,  0.01531522, ..., -0.0015648 ,\n",
       "         -0.04388212, -0.03051789],\n",
       "        [-0.06217705, -0.02747106,  0.07390051, ...,  0.07127495,\n",
       "         -0.05906173,  0.02531339],\n",
       "        [ 0.02868768, -0.01921659,  0.05620699, ..., -0.01035192,\n",
       "          0.01285078,  0.05918336]], dtype=float32),\n",
       " array([0., 0., 0., 0., 0., 0., 0., 0., 0., 0., 0., 0., 0., 0., 0., 0., 0.,\n",
       "        0., 0., 0., 0., 0., 0., 0., 0., 0., 0., 0., 0., 0., 0., 0., 0., 0.,\n",
       "        0., 0., 0., 0., 0., 0., 0., 0., 0., 0., 0., 0., 0., 0., 0., 0., 0.,\n",
       "        0., 0., 0., 0., 0., 0., 0., 0., 0., 0., 0., 0., 0., 0., 0., 0., 0.,\n",
       "        0., 0., 0., 0., 0., 0., 0., 0., 0., 0., 0., 0., 0., 0., 0., 0., 0.,\n",
       "        0., 0., 0., 0., 0., 0., 0., 0., 0., 0., 0., 0., 0., 0., 0., 0., 0.,\n",
       "        0., 0., 0., 0., 0., 0., 0., 0., 0., 0., 0., 0., 0., 0., 0., 0., 0.,\n",
       "        0., 0., 0., 0., 0., 0., 0., 0., 0., 0., 0., 0., 0., 0., 0., 0., 0.,\n",
       "        0., 0., 0., 0., 0., 0., 0., 0., 0., 0., 0., 0., 0., 0., 0., 0., 0.,\n",
       "        0., 0., 0., 0., 0., 0., 0., 0., 0., 0., 0., 0., 0., 0., 0., 0., 0.,\n",
       "        0., 0., 0., 0., 0., 0., 0., 0., 0., 0., 0., 0., 0., 0., 0., 0., 0.,\n",
       "        0., 0., 0., 0., 0., 0., 0., 0., 0., 0., 0., 0., 0., 0., 0., 0., 0.,\n",
       "        0., 0., 0., 0., 0., 0., 0., 0., 0., 0., 0., 0., 0., 0., 0., 0., 0.,\n",
       "        0., 0., 0., 0., 0., 0., 0., 0., 0., 0., 0., 0., 0., 0., 0., 0., 0.,\n",
       "        0., 0., 0., 0., 0., 0., 0., 0., 0., 0., 0., 0., 0., 0., 0., 0., 0.,\n",
       "        0., 0., 0., 0., 0., 0., 0., 0., 0., 0., 0., 0., 0., 0., 0., 0., 0.,\n",
       "        0., 0., 0., 0., 0., 0., 0., 0., 0., 0., 0., 0., 0., 0., 0., 0., 0.,\n",
       "        0., 0., 0., 0., 0., 0., 0., 0., 0., 0., 0.], dtype=float32)]"
      ]
     },
     "execution_count": 24,
     "metadata": {},
     "output_type": "execute_result"
    }
   ],
   "source": [
    "hidden1.get_weights()"
   ]
  },
  {
   "cell_type": "code",
   "execution_count": 25,
   "metadata": {
    "id": "EiK1lO1D1hMt"
   },
   "outputs": [],
   "source": [
    "weights, biases = hidden1.get_weights()"
   ]
  },
  {
   "cell_type": "code",
   "execution_count": 26,
   "metadata": {
    "colab": {
     "base_uri": "https://localhost:8080/"
    },
    "id": "uwaadY4M1j9-",
    "outputId": "34ac60d1-ba8f-4644-ac51-7de2771c63aa"
   },
   "outputs": [
    {
     "name": "stdout",
     "output_type": "stream",
     "text": [
      "shape\n",
      " (784, 300) \n",
      "\n"
     ]
    },
    {
     "data": {
      "text/plain": [
       "array([[ 0.03750367,  0.06491207,  0.02933396, ..., -0.02531018,\n",
       "         0.05174646,  0.04900768],\n",
       "       [-0.02894534,  0.02800845, -0.0447536 , ...,  0.04736418,\n",
       "        -0.02508461, -0.07183427],\n",
       "       [-0.05741644,  0.02283589, -0.07099003, ..., -0.0507988 ,\n",
       "        -0.02526534,  0.04779205],\n",
       "       ...,\n",
       "       [ 0.07079244,  0.06014341,  0.01531522, ..., -0.0015648 ,\n",
       "        -0.04388212, -0.03051789],\n",
       "       [-0.06217705, -0.02747106,  0.07390051, ...,  0.07127495,\n",
       "        -0.05906173,  0.02531339],\n",
       "       [ 0.02868768, -0.01921659,  0.05620699, ..., -0.01035192,\n",
       "         0.01285078,  0.05918336]], dtype=float32)"
      ]
     },
     "execution_count": 26,
     "metadata": {},
     "output_type": "execute_result"
    }
   ],
   "source": [
    "print(\"shape\\n\",weights.shape, \"\\n\")\n",
    "weights"
   ]
  },
  {
   "cell_type": "code",
   "execution_count": 27,
   "metadata": {
    "colab": {
     "base_uri": "https://localhost:8080/"
    },
    "id": "ExppLUqR1mFG",
    "outputId": "89884a0e-34dd-42dc-ca4c-f5a894607266"
   },
   "outputs": [
    {
     "name": "stdout",
     "output_type": "stream",
     "text": [
      "shape\n",
      " (300,)\n"
     ]
    }
   ],
   "source": [
    "print(\"shape\\n\", biases.shape)"
   ]
  },
  {
   "cell_type": "code",
   "execution_count": 28,
   "metadata": {
    "id": "MRj-5WMP1poj"
   },
   "outputs": [],
   "source": [
    "LOSS_FUNCTION = \"sparse_categorical_crossentropy\" # use => tf.losses.sparse_categorical_crossentropy\n",
    "OPTIMIZER = \"SGD\" # or use with custom learning rate=> tf.keras.optimizers.SGD(0.02)\n",
    "METRICS = [\"accuracy\"]\n",
    "\n",
    "model_clf.compile(loss=LOSS_FUNCTION,\n",
    "              optimizer=OPTIMIZER,\n",
    "              metrics=METRICS)\n"
   ]
  },
  {
   "cell_type": "code",
   "execution_count": 29,
   "metadata": {
    "colab": {
     "base_uri": "https://localhost:8080/"
    },
    "id": "kXY9Zk511xVX",
    "outputId": "424df7e3-6c54-4935-cc66-9d24d7b652fc"
   },
   "outputs": [
    {
     "name": "stdout",
     "output_type": "stream",
     "text": [
      "Epoch 1/30\n",
      "1719/1719 [==============================] - 8s 3ms/step - loss: 0.6007 - accuracy: 0.8449 - val_loss: 0.3054 - val_accuracy: 0.9172\n",
      "Epoch 2/30\n",
      "1719/1719 [==============================] - 4s 2ms/step - loss: 0.2855 - accuracy: 0.9194 - val_loss: 0.2381 - val_accuracy: 0.9360\n",
      "Epoch 3/30\n",
      "1719/1719 [==============================] - 4s 2ms/step - loss: 0.2330 - accuracy: 0.9344 - val_loss: 0.2065 - val_accuracy: 0.9426\n",
      "Epoch 4/30\n",
      "1719/1719 [==============================] - 4s 2ms/step - loss: 0.1994 - accuracy: 0.9436 - val_loss: 0.1766 - val_accuracy: 0.9506\n",
      "Epoch 5/30\n",
      "1719/1719 [==============================] - 4s 2ms/step - loss: 0.1739 - accuracy: 0.9500 - val_loss: 0.1598 - val_accuracy: 0.9566\n",
      "Epoch 6/30\n",
      "1719/1719 [==============================] - 4s 2ms/step - loss: 0.1536 - accuracy: 0.9557 - val_loss: 0.1453 - val_accuracy: 0.9608\n",
      "Epoch 7/30\n",
      "1719/1719 [==============================] - 4s 2ms/step - loss: 0.1377 - accuracy: 0.9608 - val_loss: 0.1334 - val_accuracy: 0.9644\n",
      "Epoch 8/30\n",
      "1719/1719 [==============================] - 4s 2ms/step - loss: 0.1248 - accuracy: 0.9640 - val_loss: 0.1218 - val_accuracy: 0.9680\n",
      "Epoch 9/30\n",
      "1719/1719 [==============================] - 4s 2ms/step - loss: 0.1133 - accuracy: 0.9675 - val_loss: 0.1160 - val_accuracy: 0.9694\n",
      "Epoch 10/30\n",
      "1719/1719 [==============================] - 4s 2ms/step - loss: 0.1035 - accuracy: 0.9710 - val_loss: 0.1083 - val_accuracy: 0.9716\n",
      "Epoch 11/30\n",
      "1719/1719 [==============================] - 4s 2ms/step - loss: 0.0953 - accuracy: 0.9730 - val_loss: 0.1034 - val_accuracy: 0.9722\n",
      "Epoch 12/30\n",
      "1719/1719 [==============================] - 4s 2ms/step - loss: 0.0876 - accuracy: 0.9752 - val_loss: 0.0997 - val_accuracy: 0.9702\n",
      "Epoch 13/30\n",
      "1719/1719 [==============================] - 4s 2ms/step - loss: 0.0811 - accuracy: 0.9773 - val_loss: 0.0987 - val_accuracy: 0.9734\n",
      "Epoch 14/30\n",
      "1719/1719 [==============================] - 4s 2ms/step - loss: 0.0751 - accuracy: 0.9791 - val_loss: 0.0885 - val_accuracy: 0.9766\n",
      "Epoch 15/30\n",
      "1719/1719 [==============================] - 4s 2ms/step - loss: 0.0703 - accuracy: 0.9804 - val_loss: 0.0867 - val_accuracy: 0.9764\n",
      "Epoch 16/30\n",
      "1719/1719 [==============================] - 4s 2ms/step - loss: 0.0653 - accuracy: 0.9820 - val_loss: 0.0833 - val_accuracy: 0.9776\n",
      "Epoch 17/30\n",
      "1719/1719 [==============================] - 4s 2ms/step - loss: 0.0611 - accuracy: 0.9835 - val_loss: 0.0843 - val_accuracy: 0.9766\n",
      "Epoch 18/30\n",
      "1719/1719 [==============================] - 4s 2ms/step - loss: 0.0571 - accuracy: 0.9847 - val_loss: 0.0803 - val_accuracy: 0.9770\n",
      "Epoch 19/30\n",
      "1719/1719 [==============================] - 4s 2ms/step - loss: 0.0532 - accuracy: 0.9861 - val_loss: 0.0784 - val_accuracy: 0.9788\n",
      "Epoch 20/30\n",
      "1719/1719 [==============================] - 4s 2ms/step - loss: 0.0502 - accuracy: 0.9868 - val_loss: 0.0765 - val_accuracy: 0.9774\n",
      "Epoch 21/30\n",
      "1719/1719 [==============================] - 4s 2ms/step - loss: 0.0470 - accuracy: 0.9876 - val_loss: 0.0763 - val_accuracy: 0.9780\n",
      "Epoch 22/30\n",
      "1719/1719 [==============================] - 4s 2ms/step - loss: 0.0444 - accuracy: 0.9884 - val_loss: 0.0740 - val_accuracy: 0.9792\n",
      "Epoch 23/30\n",
      "1719/1719 [==============================] - 4s 2ms/step - loss: 0.0418 - accuracy: 0.9895 - val_loss: 0.0733 - val_accuracy: 0.9780\n",
      "Epoch 24/30\n",
      "1719/1719 [==============================] - 4s 2ms/step - loss: 0.0394 - accuracy: 0.9899 - val_loss: 0.0732 - val_accuracy: 0.9798\n",
      "Epoch 25/30\n",
      "1719/1719 [==============================] - 4s 2ms/step - loss: 0.0370 - accuracy: 0.9909 - val_loss: 0.0785 - val_accuracy: 0.9776\n",
      "Epoch 26/30\n",
      "1719/1719 [==============================] - 4s 2ms/step - loss: 0.0349 - accuracy: 0.9914 - val_loss: 0.0697 - val_accuracy: 0.9812\n",
      "Epoch 27/30\n",
      "1719/1719 [==============================] - 4s 2ms/step - loss: 0.0331 - accuracy: 0.9918 - val_loss: 0.0684 - val_accuracy: 0.9798\n",
      "Epoch 28/30\n",
      "1719/1719 [==============================] - 4s 2ms/step - loss: 0.0311 - accuracy: 0.9926 - val_loss: 0.0695 - val_accuracy: 0.9806\n",
      "Epoch 29/30\n",
      "1719/1719 [==============================] - 4s 2ms/step - loss: 0.0293 - accuracy: 0.9933 - val_loss: 0.0688 - val_accuracy: 0.9802\n",
      "Epoch 30/30\n",
      "1719/1719 [==============================] - 4s 2ms/step - loss: 0.0276 - accuracy: 0.9935 - val_loss: 0.0670 - val_accuracy: 0.9814\n"
     ]
    }
   ],
   "source": [
    "# training\n",
    "\n",
    "EPOCHS = 30\n",
    "VALIDATION_SET = (X_valid, y_valid)\n",
    "\n",
    "history = model_clf.fit(X_train, y_train, epochs=EPOCHS,\n",
    "                    validation_data=VALIDATION_SET, batch_size=32)\n"
   ]
  },
  {
   "cell_type": "code",
   "execution_count": 30,
   "metadata": {
    "colab": {
     "base_uri": "https://localhost:8080/"
    },
    "id": "EKq756Wr2Nhq",
    "outputId": "9bcaa1cc-142e-4409-956c-46ab7f6525c7"
   },
   "outputs": [
    {
     "data": {
      "text/plain": [
       "{'verbose': 1, 'epochs': 30, 'steps': 1719}"
      ]
     },
     "execution_count": 30,
     "metadata": {},
     "output_type": "execute_result"
    }
   ],
   "source": [
    "history.params"
   ]
  },
  {
   "cell_type": "code",
   "execution_count": 31,
   "metadata": {
    "colab": {
     "base_uri": "https://localhost:8080/",
     "height": 986
    },
    "id": "le6Tw9LR20IP",
    "outputId": "ad8c5b55-09fa-4971-d9c1-196c2730950d"
   },
   "outputs": [
    {
     "data": {
      "text/html": [
       "<div>\n",
       "<style scoped>\n",
       "    .dataframe tbody tr th:only-of-type {\n",
       "        vertical-align: middle;\n",
       "    }\n",
       "\n",
       "    .dataframe tbody tr th {\n",
       "        vertical-align: top;\n",
       "    }\n",
       "\n",
       "    .dataframe thead th {\n",
       "        text-align: right;\n",
       "    }\n",
       "</style>\n",
       "<table border=\"1\" class=\"dataframe\">\n",
       "  <thead>\n",
       "    <tr style=\"text-align: right;\">\n",
       "      <th></th>\n",
       "      <th>loss</th>\n",
       "      <th>accuracy</th>\n",
       "      <th>val_loss</th>\n",
       "      <th>val_accuracy</th>\n",
       "    </tr>\n",
       "  </thead>\n",
       "  <tbody>\n",
       "    <tr>\n",
       "      <th>0</th>\n",
       "      <td>0.600723</td>\n",
       "      <td>0.844855</td>\n",
       "      <td>0.305409</td>\n",
       "      <td>0.9172</td>\n",
       "    </tr>\n",
       "    <tr>\n",
       "      <th>1</th>\n",
       "      <td>0.285483</td>\n",
       "      <td>0.919400</td>\n",
       "      <td>0.238128</td>\n",
       "      <td>0.9360</td>\n",
       "    </tr>\n",
       "    <tr>\n",
       "      <th>2</th>\n",
       "      <td>0.233048</td>\n",
       "      <td>0.934436</td>\n",
       "      <td>0.206538</td>\n",
       "      <td>0.9426</td>\n",
       "    </tr>\n",
       "    <tr>\n",
       "      <th>3</th>\n",
       "      <td>0.199406</td>\n",
       "      <td>0.943636</td>\n",
       "      <td>0.176622</td>\n",
       "      <td>0.9506</td>\n",
       "    </tr>\n",
       "    <tr>\n",
       "      <th>4</th>\n",
       "      <td>0.173944</td>\n",
       "      <td>0.950018</td>\n",
       "      <td>0.159757</td>\n",
       "      <td>0.9566</td>\n",
       "    </tr>\n",
       "    <tr>\n",
       "      <th>5</th>\n",
       "      <td>0.153641</td>\n",
       "      <td>0.955745</td>\n",
       "      <td>0.145343</td>\n",
       "      <td>0.9608</td>\n",
       "    </tr>\n",
       "    <tr>\n",
       "      <th>6</th>\n",
       "      <td>0.137689</td>\n",
       "      <td>0.960800</td>\n",
       "      <td>0.133372</td>\n",
       "      <td>0.9644</td>\n",
       "    </tr>\n",
       "    <tr>\n",
       "      <th>7</th>\n",
       "      <td>0.124764</td>\n",
       "      <td>0.964000</td>\n",
       "      <td>0.121799</td>\n",
       "      <td>0.9680</td>\n",
       "    </tr>\n",
       "    <tr>\n",
       "      <th>8</th>\n",
       "      <td>0.113270</td>\n",
       "      <td>0.967473</td>\n",
       "      <td>0.115981</td>\n",
       "      <td>0.9694</td>\n",
       "    </tr>\n",
       "    <tr>\n",
       "      <th>9</th>\n",
       "      <td>0.103472</td>\n",
       "      <td>0.971036</td>\n",
       "      <td>0.108277</td>\n",
       "      <td>0.9716</td>\n",
       "    </tr>\n",
       "    <tr>\n",
       "      <th>10</th>\n",
       "      <td>0.095289</td>\n",
       "      <td>0.973036</td>\n",
       "      <td>0.103379</td>\n",
       "      <td>0.9722</td>\n",
       "    </tr>\n",
       "    <tr>\n",
       "      <th>11</th>\n",
       "      <td>0.087625</td>\n",
       "      <td>0.975182</td>\n",
       "      <td>0.099717</td>\n",
       "      <td>0.9702</td>\n",
       "    </tr>\n",
       "    <tr>\n",
       "      <th>12</th>\n",
       "      <td>0.081088</td>\n",
       "      <td>0.977291</td>\n",
       "      <td>0.098661</td>\n",
       "      <td>0.9734</td>\n",
       "    </tr>\n",
       "    <tr>\n",
       "      <th>13</th>\n",
       "      <td>0.075129</td>\n",
       "      <td>0.979109</td>\n",
       "      <td>0.088523</td>\n",
       "      <td>0.9766</td>\n",
       "    </tr>\n",
       "    <tr>\n",
       "      <th>14</th>\n",
       "      <td>0.070344</td>\n",
       "      <td>0.980418</td>\n",
       "      <td>0.086668</td>\n",
       "      <td>0.9764</td>\n",
       "    </tr>\n",
       "    <tr>\n",
       "      <th>15</th>\n",
       "      <td>0.065338</td>\n",
       "      <td>0.982036</td>\n",
       "      <td>0.083341</td>\n",
       "      <td>0.9776</td>\n",
       "    </tr>\n",
       "    <tr>\n",
       "      <th>16</th>\n",
       "      <td>0.061119</td>\n",
       "      <td>0.983527</td>\n",
       "      <td>0.084332</td>\n",
       "      <td>0.9766</td>\n",
       "    </tr>\n",
       "    <tr>\n",
       "      <th>17</th>\n",
       "      <td>0.057092</td>\n",
       "      <td>0.984673</td>\n",
       "      <td>0.080350</td>\n",
       "      <td>0.9770</td>\n",
       "    </tr>\n",
       "    <tr>\n",
       "      <th>18</th>\n",
       "      <td>0.053248</td>\n",
       "      <td>0.986055</td>\n",
       "      <td>0.078352</td>\n",
       "      <td>0.9788</td>\n",
       "    </tr>\n",
       "    <tr>\n",
       "      <th>19</th>\n",
       "      <td>0.050190</td>\n",
       "      <td>0.986782</td>\n",
       "      <td>0.076505</td>\n",
       "      <td>0.9774</td>\n",
       "    </tr>\n",
       "    <tr>\n",
       "      <th>20</th>\n",
       "      <td>0.046989</td>\n",
       "      <td>0.987600</td>\n",
       "      <td>0.076269</td>\n",
       "      <td>0.9780</td>\n",
       "    </tr>\n",
       "    <tr>\n",
       "      <th>21</th>\n",
       "      <td>0.044374</td>\n",
       "      <td>0.988400</td>\n",
       "      <td>0.073950</td>\n",
       "      <td>0.9792</td>\n",
       "    </tr>\n",
       "    <tr>\n",
       "      <th>22</th>\n",
       "      <td>0.041837</td>\n",
       "      <td>0.989455</td>\n",
       "      <td>0.073323</td>\n",
       "      <td>0.9780</td>\n",
       "    </tr>\n",
       "    <tr>\n",
       "      <th>23</th>\n",
       "      <td>0.039435</td>\n",
       "      <td>0.989927</td>\n",
       "      <td>0.073196</td>\n",
       "      <td>0.9798</td>\n",
       "    </tr>\n",
       "    <tr>\n",
       "      <th>24</th>\n",
       "      <td>0.037014</td>\n",
       "      <td>0.990855</td>\n",
       "      <td>0.078461</td>\n",
       "      <td>0.9776</td>\n",
       "    </tr>\n",
       "    <tr>\n",
       "      <th>25</th>\n",
       "      <td>0.034934</td>\n",
       "      <td>0.991382</td>\n",
       "      <td>0.069730</td>\n",
       "      <td>0.9812</td>\n",
       "    </tr>\n",
       "    <tr>\n",
       "      <th>26</th>\n",
       "      <td>0.033056</td>\n",
       "      <td>0.991800</td>\n",
       "      <td>0.068418</td>\n",
       "      <td>0.9798</td>\n",
       "    </tr>\n",
       "    <tr>\n",
       "      <th>27</th>\n",
       "      <td>0.031130</td>\n",
       "      <td>0.992564</td>\n",
       "      <td>0.069529</td>\n",
       "      <td>0.9806</td>\n",
       "    </tr>\n",
       "    <tr>\n",
       "      <th>28</th>\n",
       "      <td>0.029297</td>\n",
       "      <td>0.993255</td>\n",
       "      <td>0.068782</td>\n",
       "      <td>0.9802</td>\n",
       "    </tr>\n",
       "    <tr>\n",
       "      <th>29</th>\n",
       "      <td>0.027582</td>\n",
       "      <td>0.993527</td>\n",
       "      <td>0.066965</td>\n",
       "      <td>0.9814</td>\n",
       "    </tr>\n",
       "  </tbody>\n",
       "</table>\n",
       "</div>"
      ],
      "text/plain": [
       "        loss  accuracy  val_loss  val_accuracy\n",
       "0   0.600723  0.844855  0.305409        0.9172\n",
       "1   0.285483  0.919400  0.238128        0.9360\n",
       "2   0.233048  0.934436  0.206538        0.9426\n",
       "3   0.199406  0.943636  0.176622        0.9506\n",
       "4   0.173944  0.950018  0.159757        0.9566\n",
       "5   0.153641  0.955745  0.145343        0.9608\n",
       "6   0.137689  0.960800  0.133372        0.9644\n",
       "7   0.124764  0.964000  0.121799        0.9680\n",
       "8   0.113270  0.967473  0.115981        0.9694\n",
       "9   0.103472  0.971036  0.108277        0.9716\n",
       "10  0.095289  0.973036  0.103379        0.9722\n",
       "11  0.087625  0.975182  0.099717        0.9702\n",
       "12  0.081088  0.977291  0.098661        0.9734\n",
       "13  0.075129  0.979109  0.088523        0.9766\n",
       "14  0.070344  0.980418  0.086668        0.9764\n",
       "15  0.065338  0.982036  0.083341        0.9776\n",
       "16  0.061119  0.983527  0.084332        0.9766\n",
       "17  0.057092  0.984673  0.080350        0.9770\n",
       "18  0.053248  0.986055  0.078352        0.9788\n",
       "19  0.050190  0.986782  0.076505        0.9774\n",
       "20  0.046989  0.987600  0.076269        0.9780\n",
       "21  0.044374  0.988400  0.073950        0.9792\n",
       "22  0.041837  0.989455  0.073323        0.9780\n",
       "23  0.039435  0.989927  0.073196        0.9798\n",
       "24  0.037014  0.990855  0.078461        0.9776\n",
       "25  0.034934  0.991382  0.069730        0.9812\n",
       "26  0.033056  0.991800  0.068418        0.9798\n",
       "27  0.031130  0.992564  0.069529        0.9806\n",
       "28  0.029297  0.993255  0.068782        0.9802\n",
       "29  0.027582  0.993527  0.066965        0.9814"
      ]
     },
     "execution_count": 31,
     "metadata": {},
     "output_type": "execute_result"
    }
   ],
   "source": [
    "pd.DataFrame(history.history)"
   ]
  },
  {
   "cell_type": "code",
   "execution_count": 32,
   "metadata": {
    "colab": {
     "base_uri": "https://localhost:8080/",
     "height": 283
    },
    "id": "LxQHr9ra236P",
    "outputId": "da869e11-86c7-4230-e82b-e1a4103098fc"
   },
   "outputs": [
    {
     "data": {
      "text/plain": [
       "<AxesSubplot:>"
      ]
     },
     "execution_count": 32,
     "metadata": {},
     "output_type": "execute_result"
    },
    {
     "data": {
      "image/png": "[encoded data removed]",
      "text/plain": [
       "<Figure size 640x480 with 1 Axes>"
      ]
     },
     "metadata": {},
     "output_type": "display_data"
    }
   ],
   "source": [
    "pd.DataFrame(history.history).plot()"
   ]
  },
  {
   "cell_type": "code",
   "execution_count": 33,
   "metadata": {
    "colab": {
     "base_uri": "https://localhost:8080/"
    },
    "id": "qI9hBbze26iJ",
    "outputId": "8b047139-7f60-47c0-f4b6-e5462ce67c79"
   },
   "outputs": [
    {
     "name": "stdout",
     "output_type": "stream",
     "text": [
      "313/313 [==============================] - 1s 3ms/step - loss: 0.0717 - accuracy: 0.9779\n"
     ]
    },
    {
     "data": {
      "text/plain": [
       "[0.07165803015232086, 0.9779000282287598]"
      ]
     },
     "execution_count": 33,
     "metadata": {},
     "output_type": "execute_result"
    }
   ],
   "source": [
    "model_clf.evaluate(X_test, y_test)"
   ]
  },
  {
   "cell_type": "code",
   "execution_count": 34,
   "metadata": {
    "id": "AeGDSES629TB"
   },
   "outputs": [],
   "source": [
    "x_new = X_test[:3]\n",
    "# x_new"
   ]
  },
  {
   "cell_type": "code",
   "execution_count": 35,
   "metadata": {
    "colab": {
     "base_uri": "https://localhost:8080/"
    },
    "id": "RpIuW5e43AFv",
    "outputId": "c85b9668-3256-43d6-d63a-3b4868952551"
   },
   "outputs": [
    {
     "data": {
      "text/plain": [
       "array([7, 2, 1], dtype=uint8)"
      ]
     },
     "execution_count": 35,
     "metadata": {},
     "output_type": "execute_result"
    }
   ],
   "source": [
    "actual = y_test[:3]\n",
    "actual"
   ]
  },
  {
   "cell_type": "code",
   "execution_count": 36,
   "metadata": {
    "colab": {
     "base_uri": "https://localhost:8080/"
    },
    "id": "BzDXCMrZ3FeN",
    "outputId": "e0cef512-1c06-4dd0-b3b0-3d2a8a9996bc"
   },
   "outputs": [
    {
     "name": "stdout",
     "output_type": "stream",
     "text": [
      "1/1 [==============================] - 0s 79ms/step\n"
     ]
    },
    {
     "data": {
      "text/plain": [
       "array([[0.   , 0.   , 0.   , 0.002, 0.   , 0.   , 0.   , 0.998, 0.   ,\n",
       "        0.   ],\n",
       "       [0.   , 0.   , 1.   , 0.   , 0.   , 0.   , 0.   , 0.   , 0.   ,\n",
       "        0.   ],\n",
       "       [0.   , 0.998, 0.   , 0.   , 0.   , 0.   , 0.   , 0.001, 0.   ,\n",
       "        0.   ]], dtype=float32)"
      ]
     },
     "execution_count": 36,
     "metadata": {},
     "output_type": "execute_result"
    }
   ],
   "source": [
    "y_prob = model_clf.predict(x_new)\n",
    "y_prob.round(3)"
   ]
  },
  {
   "cell_type": "code",
   "execution_count": 37,
   "metadata": {
    "colab": {
     "base_uri": "https://localhost:8080/"
    },
    "id": "Ls3-bY-c3ICH",
    "outputId": "6cefcea6-a294-4392-b8b9-9ef243c3bada"
   },
   "outputs": [
    {
     "data": {
      "text/plain": [
       "array([[5.3592157e-06, 2.3178265e-07, 6.2573745e-05, 1.7957839e-03,\n",
       "        1.0781459e-08, 4.0396926e-06, 9.9719705e-11, 9.9800509e-01,\n",
       "        2.1803151e-06, 1.2480000e-04],\n",
       "       [8.0929858e-08, 6.0684752e-06, 9.9997747e-01, 8.9091563e-06,\n",
       "        3.1358965e-13, 2.4030509e-09, 9.5582848e-08, 4.2017900e-12,\n",
       "        7.2760204e-06, 1.1126842e-12],\n",
       "       [1.8683105e-06, 9.9813396e-01, 2.8154958e-04, 2.9770694e-05,\n",
       "        1.6891098e-04, 2.7771233e-05, 3.4308199e-05, 8.9827937e-04,\n",
       "        3.8801631e-04, 3.5572419e-05]], dtype=float32)"
      ]
     },
     "execution_count": 37,
     "metadata": {},
     "output_type": "execute_result"
    }
   ],
   "source": [
    "y_prob"
   ]
  },
  {
   "cell_type": "code",
   "execution_count": 38,
   "metadata": {
    "id": "R9Z_1Jjb3LJK"
   },
   "outputs": [],
   "source": [
    "y_pred = np.argmax(y_prob, axis = -1)"
   ]
  },
  {
   "cell_type": "code",
   "execution_count": 39,
   "metadata": {
    "colab": {
     "base_uri": "https://localhost:8080/"
    },
    "id": "slkhjxIM3OdH",
    "outputId": "98627e34-3d71-4c22-b708-170258b0a4bd"
   },
   "outputs": [
    {
     "data": {
      "text/plain": [
       "array([7, 2, 1], dtype=int64)"
      ]
     },
     "execution_count": 39,
     "metadata": {},
     "output_type": "execute_result"
    }
   ],
   "source": [
    "y_pred"
   ]
  },
  {
   "cell_type": "code",
   "execution_count": 40,
   "metadata": {
    "colab": {
     "base_uri": "https://localhost:8080/"
    },
    "id": "QaKF_MPo3QvD",
    "outputId": "3c31b56d-1435-47b6-9e58-e41d517985bc"
   },
   "outputs": [
    {
     "data": {
      "text/plain": [
       "array([7, 2, 1], dtype=uint8)"
      ]
     },
     "execution_count": 40,
     "metadata": {},
     "output_type": "execute_result"
    }
   ],
   "source": [
    "actual"
   ]
  },
  {
   "cell_type": "code",
   "execution_count": 41,
   "metadata": {
    "colab": {
     "base_uri": "https://localhost:8080/",
     "height": 813
    },
    "id": "ER_8dhBT3R20",
    "outputId": "a36d4d20-41e1-47c1-9584-0580643e50a3"
   },
   "outputs": [
    {
     "data": {
      "image/png": "[encoded data removed]",
      "text/plain": [
       "<Figure size 640x480 with 1 Axes>"
      ]
     },
     "metadata": {},
     "output_type": "display_data"
    },
    {
     "name": "stdout",
     "output_type": "stream",
     "text": [
      "######################\n"
     ]
    },
    {
     "data": {
      "image/png": "[encoded data removed]",
      "text/plain": [
       "<Figure size 640x480 with 1 Axes>"
      ]
     },
     "metadata": {},
     "output_type": "display_data"
    },
    {
     "name": "stdout",
     "output_type": "stream",
     "text": [
      "######################\n"
     ]
    },
    {
     "data": {
      "image/png": "[encoded data removed]",
      "text/plain": [
       "<Figure size 640x480 with 1 Axes>"
      ]
     },
     "metadata": {},
     "output_type": "display_data"
    },
    {
     "name": "stdout",
     "output_type": "stream",
     "text": [
      "######################\n"
     ]
    }
   ],
   "source": [
    "# plot\n",
    "for data, pred, actual_data in zip(x_new, y_pred, actual):\n",
    "  plt.imshow(data, cmap=\"binary\")\n",
    "  plt.title(f\"Predicted {pred} and Actual {actual_data}\")\n",
    "  plt.axis(\"off\")\n",
    "  plt.show() \n",
    "  print(\"######################\")"
   ]
  }
 ],
 "metadata": {
  "accelerator": "GPU",
  "colab": {
   "provenance": []
  },
  "kernelspec": {
   "display_name": "Python 3 (ipykernel)",
   "language": "python",
   "name": "python3"
  },
  "language_info": {
   "codemirror_mode": {
    "name": "ipython",
    "version": 3
   },
   "file_extension": ".py",
   "mimetype": "text/x-python",
   "name": "python",
   "nbconvert_exporter": "python",
   "pygments_lexer": "ipython3",
   "version": "3.10.8"
  }
 },
 "nbformat": 4,
 "nbformat_minor": 4
}
