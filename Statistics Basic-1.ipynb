{
 "cells": [
  {
   "cell_type": "markdown",
   "id": "172a45a7-ef62-43d4-827a-ebb29ff3a810",
   "metadata": {},
   "source": [
    "# Q1. What is Statistics?"
   ]
  },
  {
   "cell_type": "markdown",
   "id": "42640364-83fd-4db7-8280-708d09819fce",
   "metadata": {},
   "source": [
    "It a science of collection, organising and  analysising the data."
   ]
  },
  {
   "cell_type": "markdown",
   "id": "060457b4-514c-4031-a0e4-edc74eeb5d3a",
   "metadata": {},
   "source": [
    "# Q2. Define the different types of statistics and give an example of when each type might be used?"
   ]
  },
  {
   "cell_type": "markdown",
   "id": "01e01ca0-b463-44f8-b5da-667410ddc11a",
   "metadata": {},
   "source": [
    "Descriptive Statistics :\n",
    "1. organising and summarising whole data\n",
    "2. sample size is equal to population\n",
    "\n",
    "Inferential Statistics :\n",
    "1. using measure data on sample data to draw conclusions for the whole population\n",
    "2. sample size less than the population"
   ]
  },
  {
   "cell_type": "markdown",
   "id": "cbeff4ae-da58-4a97-adba-4031345c2d07",
   "metadata": {},
   "source": [
    "# Q3. What are the different types of data and how do they differ from each other? Provide an example of each type of data."
   ]
  },
  {
   "cell_type": "markdown",
   "id": "ea11727d-9a59-4cfd-8f57-9a306f2c830d",
   "metadata": {},
   "source": [
    "Data Types:\n",
    "\n",
    "    1. Quantitative: Represented by numbers\n",
    "        1.1 Discrate: any particular whole number (e.g. no. of children, bank account)\n",
    "        1.2 Continous: ant numerical number (e.g. weight, height speed)\n",
    "        \n",
    "    2. Qualitative: Categorical data\n",
    "        2.1 Nominal: Nominal data means Named data (eg. gender, blood group)\n",
    "        2.2 Ordinal: Ordinal = order: Where names were ranked or ordered (e.g. good, bad ugly)\n",
    "        "
   ]
  },
  {
   "cell_type": "markdown",
   "id": "e75554bf-96eb-4465-8703-5adf95909949",
   "metadata": {},
   "source": [
    "# Q4. Categorise the following datasets with respect to quantitative and qualitative data types: \n",
    "(i) Grading in exam: A+, A, B+, B, C+, C, D, E\n",
    "\n",
    "(ii) Colour of mangoes: yellow, green, orange, red\n",
    "\n",
    "(iii) Height data of a class: [178.9, 179, 179.5, 176, 177.2, 178.3, 175.8,...]\n",
    "\n",
    "(iv) Number of mangoes exported by a farm: [500, 600, 478, 672, ...]\n"
   ]
  },
  {
   "cell_type": "markdown",
   "id": "ef9078c1-8a0c-4367-8d17-08c7d1884b74",
   "metadata": {},
   "source": [
    "Ans:\n",
    "1. qualitative\n",
    "2. quantitative\n",
    "3. quantitative\n",
    "4. quantitative"
   ]
  },
  {
   "cell_type": "markdown",
   "id": "23a03e5d-00ea-4b1d-9c1d-24cdaea5f492",
   "metadata": {},
   "source": [
    "# Q5. Explain the concept of levels of measurement and give an example of a variable for each level."
   ]
  },
  {
   "cell_type": "code",
   "execution_count": null,
   "id": "19d4f957-ac01-4b09-ab04-b7c728208728",
   "metadata": {},
   "outputs": [],
   "source": []
  }
 ],
 "metadata": {
  "kernelspec": {
   "display_name": "Python 3 (ipykernel)",
   "language": "python",
   "name": "python3"
  },
  "language_info": {
   "codemirror_mode": {
    "name": "ipython",
    "version": 3
   },
   "file_extension": ".py",
   "mimetype": "text/x-python",
   "name": "python",
   "nbconvert_exporter": "python",
   "pygments_lexer": "ipython3",
   "version": "3.10.8"
  }
 },
 "nbformat": 4,
 "nbformat_minor": 5
}
