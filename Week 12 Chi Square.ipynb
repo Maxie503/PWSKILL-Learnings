{
 "cells": [
  {
   "cell_type": "markdown",
   "id": "8fb6c6fc-66c1-4c3f-acab-97ed196fe930",
   "metadata": {},
   "source": [
    "# Chi Square with Python"
   ]
  },
  {
   "cell_type": "code",
   "execution_count": 9,
   "id": "fc16b34e-492b-4107-92de-82d13de5ae2c",
   "metadata": {},
   "outputs": [],
   "source": [
    "import numpy as np"
   ]
  },
  {
   "cell_type": "code",
   "execution_count": 10,
   "id": "b7ecc051-f8fe-47b6-8350-08b5734ee401",
   "metadata": {},
   "outputs": [],
   "source": [
    "import scipy.stats as stat"
   ]
  },
  {
   "cell_type": "code",
   "execution_count": 11,
   "id": "854b6bca-8496-457c-9e20-721cf8732fd6",
   "metadata": {},
   "outputs": [],
   "source": [
    "exp_data = [8,6,7,9,6,9,7]\n",
    "o_data = [7,8,6,9,9,6,7]"
   ]
  },
  {
   "cell_type": "code",
   "execution_count": 12,
   "id": "1018afbc-8eb5-48fa-9037-586333048c29",
   "metadata": {},
   "outputs": [
    {
     "data": {
      "text/plain": [
       "(52, 52)"
      ]
     },
     "execution_count": 12,
     "metadata": {},
     "output_type": "execute_result"
    }
   ],
   "source": [
    "sum(exp_data), sum(o_data)"
   ]
  },
  {
   "cell_type": "code",
   "execution_count": 13,
   "id": "f86c85db-4968-40df-acb0-8942871a557a",
   "metadata": {},
   "outputs": [],
   "source": [
    "chi_t, p_value = stat.chisquare(exp_data,o_data)"
   ]
  },
  {
   "cell_type": "code",
   "execution_count": 14,
   "id": "28ced622-71d5-449c-87d0-7077d8c42f2f",
   "metadata": {},
   "outputs": [
    {
     "data": {
      "text/plain": [
       "(3.3095238095238093, 0.769114675518927)"
      ]
     },
     "execution_count": 14,
     "metadata": {},
     "output_type": "execute_result"
    }
   ],
   "source": [
    "chi_t,p_value"
   ]
  },
  {
   "cell_type": "code",
   "execution_count": 15,
   "id": "369eec09-6cc4-44a1-bb67-61a3e1fed99a",
   "metadata": {},
   "outputs": [],
   "source": [
    "significance = 0.05\n",
    "dof=len(o_data)-1"
   ]
  },
  {
   "cell_type": "code",
   "execution_count": 18,
   "id": "864a37cb-fa5b-4a8f-95c9-37b71cc1e0c0",
   "metadata": {},
   "outputs": [
    {
     "data": {
      "text/plain": [
       "12.591587243743977"
      ]
     },
     "execution_count": 18,
     "metadata": {},
     "output_type": "execute_result"
    }
   ],
   "source": [
    "critical_value = stat.chi2.ppf(1-significance,dof)\n",
    "critical_value"
   ]
  },
  {
   "cell_type": "code",
   "execution_count": null,
   "id": "6c1e1eff-19df-45ba-8c99-147be277c9ad",
   "metadata": {},
   "outputs": [],
   "source": []
  }
 ],
 "metadata": {
  "kernelspec": {
   "display_name": "Python 3 (ipykernel)",
   "language": "python",
   "name": "python3"
  },
  "language_info": {
   "codemirror_mode": {
    "name": "ipython",
    "version": 3
   },
   "file_extension": ".py",
   "mimetype": "text/x-python",
   "name": "python",
   "nbconvert_exporter": "python",
   "pygments_lexer": "ipython3",
   "version": "3.10.8"
  }
 },
 "nbformat": 4,
 "nbformat_minor": 5
}
