{
 "cells": [
  {
   "cell_type": "code",
   "execution_count": 1,
   "id": "af5894cc-7ab2-4f02-bfd8-4556f96298bd",
   "metadata": {},
   "outputs": [],
   "source": [
    "import requests\n",
    "from bs4 import BeautifulSoup as bs\n",
    "from urllib.request import urlopen\n",
    "import logging"
   ]
  },
  {
   "cell_type": "code",
   "execution_count": 2,
   "id": "f8591b8f-ef0c-41f0-8d68-53b509b14cab",
   "metadata": {},
   "outputs": [],
   "source": [
    "query = 'tv'\n",
    "url = f'https://www.flipkart.com/search?q={query}'"
   ]
  },
  {
   "cell_type": "code",
   "execution_count": 3,
   "id": "6548f351-48fe-4072-8e41-b0a866a5099d",
   "metadata": {},
   "outputs": [
    {
     "data": {
      "text/plain": [
       "'https://www.flipkart.com/search?q=tv'"
      ]
     },
     "execution_count": 3,
     "metadata": {},
     "output_type": "execute_result"
    }
   ],
   "source": [
    "url"
   ]
  },
  {
   "cell_type": "code",
   "execution_count": 4,
   "id": "ee7fb830-aef1-4725-bac9-2b2610f468d0",
   "metadata": {},
   "outputs": [],
   "source": [
    "open_url = urlopen(url)"
   ]
  },
  {
   "cell_type": "code",
   "execution_count": 5,
   "id": "3d9b8f38-c5fb-424c-992f-7367f68d5f6d",
   "metadata": {},
   "outputs": [],
   "source": [
    "read_open_url = open_url.read()"
   ]
  },
  {
   "cell_type": "code",
   "execution_count": 6,
   "id": "473e6a38-8afa-4044-8f5c-400c71614c44",
   "metadata": {},
   "outputs": [],
   "source": [
    "bs_read_open_url = bs(read_open_url,'html.parser')"
   ]
  },
  {
   "cell_type": "code",
   "execution_count": 7,
   "id": "2d3b0922-cef3-49af-9c5a-c011100f6375",
   "metadata": {},
   "outputs": [],
   "source": [
    "big_box = bs_read_open_url.find_all('div',{'class':'_1AtVbE col-12-12'})"
   ]
  },
  {
   "cell_type": "code",
   "execution_count": 8,
   "id": "e0a5232e-e18d-4842-a08d-d4da2cb51089",
   "metadata": {},
   "outputs": [
    {
     "data": {
      "text/plain": [
       "30"
      ]
     },
     "execution_count": 8,
     "metadata": {},
     "output_type": "execute_result"
    }
   ],
   "source": [
    "len(big_box)"
   ]
  },
  {
   "cell_type": "code",
   "execution_count": 9,
   "id": "68c2a91f-f144-4d59-ab30-b67ee416b0cc",
   "metadata": {},
   "outputs": [],
   "source": [
    "clean_box= big_box[2:29]"
   ]
  },
  {
   "cell_type": "code",
   "execution_count": 10,
   "id": "062d3ec1-0357-430d-81d1-ebfb19fb8220",
   "metadata": {},
   "outputs": [
    {
     "data": {
      "text/plain": [
       "27"
      ]
     },
     "execution_count": 10,
     "metadata": {},
     "output_type": "execute_result"
    }
   ],
   "source": [
    "len(clean_box)"
   ]
  },
  {
   "cell_type": "code",
   "execution_count": 13,
   "id": "09212239-6874-402a-ad8f-ef113bd01076",
   "metadata": {},
   "outputs": [],
   "source": [
    "single_product_link = 'https://www.flipkart.com'+ clean_box[1].div.div.div.a['href']"
   ]
  },
  {
   "cell_type": "code",
   "execution_count": 25,
   "id": "1c179c02-7273-489a-9b38-d132bb39882a",
   "metadata": {},
   "outputs": [
    {
     "name": "stdout",
     "output_type": "stream",
     "text": [
      "https://www.flipkart.com/vu-108-cm-43-inch-ultra-hd-4k-led-smart-google-tv/p/itmd98cbdb233ae6?pid=TVSGN3ZYZJUYCZAD&lid=LSTTVSGN3ZYZJUYCZADADDLJV&marketplace=FLIPKART&q=tv&store=ckf%2Fczl&srno=s_1_1&otracker=search&fm=organic&iid=en_n6tGVXlq2ld4%2Bkxz7tdHszbDzJfGRkRUKLkvBRJ3EzdazfADgyasj4ULZs%2BFb%2FPGO1HpvxKIqwPFA4HDjYMghg%3D%3D&ppt=None&ppn=None&ssid=jyn7d9ex5c0000001687635143678&qH=c9a1fdac6e082dd8\n",
      "https://www.flipkart.com/lg-uq7500-108-cm-43-inch-ultra-hd-4k-led-smart-webos-tv-2022/p/itm39fd5782b27ed?pid=TVSGFGYS5TJRUJNV&lid=LSTTVSGFGYS5TJRUJNVLCTYNB&marketplace=FLIPKART&q=tv&store=ckf%2Fczl&srno=s_1_2&otracker=search&fm=organic&iid=en_n6tGVXlq2ld4%2Bkxz7tdHszbDzJfGRkRUKLkvBRJ3Ezcq8QFFsf6UepEmipKP1XGsi81s9HZ%2Ftqb7HeTjQadHZw%3D%3D&ppt=None&ppn=None&ssid=jyn7d9ex5c0000001687635143678&qH=c9a1fdac6e082dd8\n",
      "https://www.flipkart.com/mi-5a-80-cm-32-inch-hd-ready-led-smart-android-tv-dolby-audio-2022-model/p/itm98501ffa297ba?pid=TVSGD5CS2SDUUZGN&lid=LSTTVSGD5CS2SDUUZGNPVJDFV&marketplace=FLIPKART&q=tv&store=ckf%2Fczl&spotlightTagId=BestsellerId_ckf%2Fczl&srno=s_1_3&otracker=search&fm=organic&iid=8590cd87-3872-430f-99c5-517bc69bc3be.TVSGD5CS2SDUUZGN.SEARCH&ppt=None&ppn=None&ssid=jyn7d9ex5c0000001687635143678&qH=c9a1fdac6e082dd8\n",
      "https://www.flipkart.com/infinix-y1-80-cm-32-inch-hd-ready-led-smart-linux-tv-wall-mount/p/itme5476ca89d1b0?pid=TVSGFGF34GMTB9KF&lid=LSTTVSGFGF34GMTB9KFNOEUDG&marketplace=FLIPKART&q=tv&store=ckf%2Fczl&spotlightTagId=BestsellerId_ckf%2Fczl&srno=s_1_4&otracker=search&fm=organic&iid=8590cd87-3872-430f-99c5-517bc69bc3be.TVSGFGF34GMTB9KF.SEARCH&ppt=None&ppn=None&ssid=jyn7d9ex5c0000001687635143678&qH=c9a1fdac6e082dd8\n",
      "https://www.flipkart.com/lg-80-cm-32-inch-hd-ready-led-smart-webos-tv/p/itm6207e6d122567?pid=TVSFTW4CSRW8PGDQ&lid=LSTTVSFTW4CSRW8PGDQSZQIO6&marketplace=FLIPKART&q=tv&store=ckf%2Fczl&spotlightTagId=FkPickId_ckf%2Fczl&srno=s_1_5&otracker=search&fm=organic&iid=8590cd87-3872-430f-99c5-517bc69bc3be.TVSFTW4CSRW8PGDQ.SEARCH&ppt=None&ppn=None&ssid=jyn7d9ex5c0000001687635143678&qH=c9a1fdac6e082dd8\n",
      "https://www.flipkart.com/oneplus-y1s-108-cm-43-inch-full-hd-led-smart-android-tv-11-bezel-less-frame/p/itm178846d2e1567?pid=TVSGAXEVSNT3HBQA&lid=LSTTVSGAXEVSNT3HBQADHUARX&marketplace=FLIPKART&q=tv&store=ckf%2Fczl&srno=s_1_6&otracker=search&fm=organic&iid=8590cd87-3872-430f-99c5-517bc69bc3be.TVSGAXEVSNT3HBQA.SEARCH&ppt=None&ppn=None&ssid=jyn7d9ex5c0000001687635143678&qH=c9a1fdac6e082dd8\n",
      "https://www.flipkart.com/acer-series-80-cm-32-inch-hd-ready-led-smart-android-tv-11-1-5gb-ram-2022-model/p/itm5767c4e3d5359?pid=TVSGEYD98YRZGSRU&lid=LSTTVSGEYD98YRZGSRUPETPT6&marketplace=FLIPKART&q=tv&store=ckf%2Fczl&srno=s_1_7&otracker=search&fm=organic&iid=8590cd87-3872-430f-99c5-517bc69bc3be.TVSGEYD98YRZGSRU.SEARCH&ppt=None&ppn=None&ssid=jyn7d9ex5c0000001687635143678&qH=c9a1fdac6e082dd8\n",
      "https://www.flipkart.com/mi-x-series-108-cm-43-inch-ultra-hd-4k-led-smart-android-tv-dolby-vision-30w-audio-2022-model/p/itm39b39b602f81a?pid=TVSGHEQVGZVTSEBT&lid=LSTTVSGHEQVGZVTSEBT6BSNVA&marketplace=FLIPKART&q=tv&store=ckf%2Fczl&srno=s_1_8&otracker=search&fm=organic&iid=en_n6tGVXlq2ld4%2Bkxz7tdHszbDzJfGRkRUKLkvBRJ3EzfBQzpuVdCdXc3t40Zz1nLUFdZ5ROXx9dZDdn4vhBFOoA%3D%3D&ppt=None&ppn=None&ssid=jyn7d9ex5c0000001687635143678&qH=c9a1fdac6e082dd8\n",
      "https://www.flipkart.com/thomson-alpha-80-cm-32-inch-hd-ready-led-smart-linux-tv-30-w-sound-output-bezel-less-design/p/itm0e90bcdadb9c9?pid=TVSGEMQV7R4CMTGA&lid=LSTTVSGEMQV7R4CMTGAODWDFI&marketplace=FLIPKART&q=tv&store=ckf%2Fczl&srno=s_1_9&otracker=search&fm=organic&iid=8590cd87-3872-430f-99c5-517bc69bc3be.TVSGEMQV7R4CMTGA.SEARCH&ppt=None&ppn=None&ssid=jyn7d9ex5c0000001687635143678&qH=c9a1fdac6e082dd8\n",
      "https://www.flipkart.com/samsung-80-cm-32-inch-hd-ready-led-smart-tizen-tv-bezel-free-design/p/itm3c07ddc2dd25d?pid=TVSGHY2UZA9YHWQN&lid=LSTTVSGHY2UZA9YHWQNCPAW6M&marketplace=FLIPKART&q=tv&store=ckf%2Fczl&spotlightTagId=BestsellerId_ckf%2Fczl&srno=s_1_10&otracker=search&fm=organic&iid=8590cd87-3872-430f-99c5-517bc69bc3be.TVSGHY2UZA9YHWQN.SEARCH&ppt=None&ppn=None&ssid=jyn7d9ex5c0000001687635143678&qH=c9a1fdac6e082dd8\n",
      "https://www.flipkart.com/mi-x-pro-125-cm-50-inch-ultra-hd-4k-led-smart-google-tv-dolby-vision-iq-40w-atmos/p/itmf783b3dcf1a1c?pid=TVSGZF5YTHEXXJNT&lid=LSTTVSGZF5YTHEXXJNTAOGORW&marketplace=FLIPKART&q=tv&store=ckf%2Fczl&srno=s_1_11&otracker=search&fm=organic&iid=en_n6tGVXlq2ld4%2Bkxz7tdHszbDzJfGRkRUKLkvBRJ3EzclS%2Fgy6e5fXquOmL2FvMOvo8TT2vW0%2F%2FurSFfKJDn%2FkA%3D%3D&ppt=None&ppn=None&ssid=jyn7d9ex5c0000001687635143678&qH=c9a1fdac6e082dd8\n",
      "https://www.flipkart.com/lg-uq7500-164-cm-65-inch-ultra-hd-4k-led-smart-webos-tv-2022/p/itmff263c1bc44af?pid=TVSGFGYSWB7FNMWF&lid=LSTTVSGFGYSWB7FNMWFQ5JRZY&marketplace=FLIPKART&q=tv&store=ckf%2Fczl&srno=s_1_12&otracker=search&fm=organic&iid=en_n6tGVXlq2ld4%2Bkxz7tdHszbDzJfGRkRUKLkvBRJ3EzceHHE%2B0%2B3eeK2uOIs7ddx96qH0%2FlW4cLgy%2BGMhXgWzww%3D%3D&ppt=None&ppn=None&ssid=jyn7d9ex5c0000001687635143678&qH=c9a1fdac6e082dd8\n",
      "https://www.flipkart.com/oneplus-y1s-80-cm-32-inch-hd-ready-led-smart-android-tv-11-bezel-less-frame/p/itm0a39edd7df236?pid=TVSGAXEVXNG9YBUM&lid=LSTTVSGAXEVXNG9YBUMNFXTWO&marketplace=FLIPKART&q=tv&store=ckf%2Fczl&srno=s_1_13&otracker=search&fm=organic&iid=8590cd87-3872-430f-99c5-517bc69bc3be.TVSGAXEVXNG9YBUM.SEARCH&ppt=None&ppn=None&ssid=jyn7d9ex5c0000001687635143678&qH=c9a1fdac6e082dd8\n",
      "https://www.flipkart.com/mi-5a-108-cm-43-inch-full-hd-led-smart-android-tv-dolby-audio-2022-model/p/itm2d5967449cb9b?pid=TVSGD5CS3CXNF2DF&lid=LSTTVSGD5CS3CXNF2DFVCD74U&marketplace=FLIPKART&q=tv&store=ckf%2Fczl&srno=s_1_14&otracker=search&fm=organic&iid=8590cd87-3872-430f-99c5-517bc69bc3be.TVSGD5CS3CXNF2DF.SEARCH&ppt=None&ppn=None&ssid=jyn7d9ex5c0000001687635143678&qH=c9a1fdac6e082dd8\n",
      "https://www.flipkart.com/realme-80-cm-32-inch-hd-ready-led-smart-android-tv/p/itm56d1cf16da75b?pid=TVSFRTJQTZVKTF6Y&lid=LSTTVSFRTJQTZVKTF6YTYQNP6&marketplace=FLIPKART&q=tv&store=ckf%2Fczl&srno=s_1_15&otracker=search&fm=organic&iid=8590cd87-3872-430f-99c5-517bc69bc3be.TVSFRTJQTZVKTF6Y.SEARCH&ppt=None&ppn=None&ssid=jyn7d9ex5c0000001687635143678&qH=c9a1fdac6e082dd8\n",
      "https://www.flipkart.com/mi-5a-100-cm-40-inch-full-hd-led-smart-android-tv-dolby-audio-2022-model/p/itm6be60be56f52d?pid=TVSGD5CS4N7NWFZD&lid=LSTTVSGD5CS4N7NWFZDCMWLRV&marketplace=FLIPKART&q=tv&store=ckf%2Fczl&srno=s_1_16&otracker=search&fm=organic&iid=8590cd87-3872-430f-99c5-517bc69bc3be.TVSGD5CS4N7NWFZD.SEARCH&ppt=None&ppn=None&ssid=jyn7d9ex5c0000001687635143678&qH=c9a1fdac6e082dd8\n",
      "https://www.flipkart.com/samsung-crystal-4k-ismart-series-108-cm-43-inch-ultra-hd-4k-led-smart-tizen-tv-black-2023-model/p/itm81838563cf20a?pid=TVSGZF57QGYKHGNS&lid=LSTTVSGZF57QGYKHGNSWCWTOY&marketplace=FLIPKART&q=tv&store=ckf%2Fczl&srno=s_1_17&otracker=search&fm=organic&iid=en_n6tGVXlq2ld4%2Bkxz7tdHszbDzJfGRkRUKLkvBRJ3EzcY%2F1LI1CsPb63BifQOEkjp%2BpMaW6WA5IUoYCFss2LC6A%3D%3D&ppt=None&ppn=None&ssid=jyn7d9ex5c0000001687635143678&qH=c9a1fdac6e082dd8\n",
      "https://www.flipkart.com/mi-x-series-125-cm-50-inch-ultra-hd-4k-led-smart-android-tv-dolby-vision-30w-audio-2022-model/p/itm85c3a9fbf7ed0?pid=TVSGHEQV4NQPS6EH&lid=LSTTVSGHEQV4NQPS6EHSZR7FS&marketplace=FLIPKART&q=tv&store=ckf%2Fczl&srno=s_1_18&otracker=search&fm=organic&iid=en_n6tGVXlq2ld4%2Bkxz7tdHszbDzJfGRkRUKLkvBRJ3Eze%2BSMfFaiaIJsLNAA%2BtYjMmhfwEdee4i9Q2w3pFTIeY%2Fg%3D%3D&ppt=None&ppn=None&ssid=jyn7d9ex5c0000001687635143678&qH=c9a1fdac6e082dd8\n",
      "https://www.flipkart.com/infinix-x3in-80-cm-32-cm-hd-ready-led-smart-android-tv/p/itmc3e5d996d0aa3?pid=TVSGZZY4MHBSP9VD&lid=LSTTVSGZZY4MHBSP9VDVQ1L7Z&marketplace=FLIPKART&q=tv&store=ckf%2Fczl&srno=s_1_19&otracker=search&fm=organic&iid=8590cd87-3872-430f-99c5-517bc69bc3be.TVSGZZY4MHBSP9VD.SEARCH&ppt=None&ppn=None&ssid=jyn7d9ex5c0000001687635143678&qH=c9a1fdac6e082dd8\n",
      "https://www.flipkart.com/tcl-80-04-cm-32-inch-hd-ready-led-smart-android-tv-bezel-less-extra-brightness/p/itm1f6df5a8ab267?pid=TVSGKNZGMFPRKQJZ&lid=LSTTVSGKNZGMFPRKQJZS5GUN6&marketplace=FLIPKART&q=tv&store=ckf%2Fczl&srno=s_1_20&otracker=search&fm=organic&iid=8590cd87-3872-430f-99c5-517bc69bc3be.TVSGKNZGMFPRKQJZ.SEARCH&ppt=None&ppn=None&ssid=jyn7d9ex5c0000001687635143678&qH=c9a1fdac6e082dd8\n",
      "https://www.flipkart.com/mi-x-pro-138-cm-55-inch-ultra-hd-4k-led-smart-google-tv-dolby-vision-iq-40w-atmos/p/itm40a24934d04df?pid=TVSGZF5YCYNCRYN8&lid=LSTTVSGZF5YCYNCRYN8NMDU73&marketplace=FLIPKART&q=tv&store=ckf%2Fczl&srno=s_1_21&otracker=search&fm=organic&iid=en_n6tGVXlq2ld4%2Bkxz7tdHszbDzJfGRkRUKLkvBRJ3Eze4NfhfDxYHHKy2YBbqxYIBzzTDRdXZvV9iwQnPrD3CjQ%3D%3D&ppt=None&ppn=None&ssid=jyn7d9ex5c0000001687635143678&qH=c9a1fdac6e082dd8\n",
      "https://www.flipkart.com/samsung-crystal-4k-108-cm-43-inch-ultra-hd-4k-led-smart-tizen-tv/p/itm7dcfb3cc69fbb?pid=TVSG2CG7F2Y9YUJ3&lid=LSTTVSG2CG7F2Y9YUJ38041NS&marketplace=FLIPKART&q=tv&store=ckf%2Fczl&srno=s_1_22&otracker=search&fm=organic&iid=en_n6tGVXlq2ld4%2Bkxz7tdHszbDzJfGRkRUKLkvBRJ3EzfHWdUp78986sBa6MpEMtjLG1ZHx%2BV4pfa8kDetfgN%2FpQ%3D%3D&ppt=None&ppn=None&ssid=jyn7d9ex5c0000001687635143678&qH=c9a1fdac6e082dd8\n",
      "https://www.flipkart.com/iffalcon-tcl-80-04-cm-32-inch-hd-ready-led-smart-android-tv-bezel-less-design-24w-speaker/p/itm82d22461c3761?pid=TVSGKNZGHCZRNEDW&lid=LSTTVSGKNZGHCZRNEDWPKDF2X&marketplace=FLIPKART&q=tv&store=ckf%2Fczl&srno=s_1_23&otracker=search&fm=organic&iid=8590cd87-3872-430f-99c5-517bc69bc3be.TVSGKNZGHCZRNEDW.SEARCH&ppt=None&ppn=None&ssid=jyn7d9ex5c0000001687635143678&qH=c9a1fdac6e082dd8\n",
      "https://www.flipkart.com/oneplus-y1s-pro-138-cm-55-inch-ultra-hd-4k-led-smart-android-tv/p/itm5db9783099cbb?pid=TVSGJUFY5QMMWSU7&lid=LSTTVSGJUFY5QMMWSU74NPW2B&marketplace=FLIPKART&q=tv&store=ckf%2Fczl&spotlightTagId=TrendingId_ckf%2Fczl&srno=s_1_24&otracker=search&fm=organic&iid=8590cd87-3872-430f-99c5-517bc69bc3be.TVSGJUFY5QMMWSU7.SEARCH&ppt=None&ppn=None&ssid=jyn7d9ex5c0000001687635143678&qH=c9a1fdac6e082dd8\n"
     ]
    },
    {
     "ename": "AttributeError",
     "evalue": "'NoneType' object has no attribute 'a'",
     "output_type": "error",
     "traceback": [
      "\u001b[0;31m---------------------------------------------------------------------------\u001b[0m",
      "\u001b[0;31mAttributeError\u001b[0m                            Traceback (most recent call last)",
      "Cell \u001b[0;32mIn[25], line 2\u001b[0m\n\u001b[1;32m      1\u001b[0m \u001b[38;5;28;01mfor\u001b[39;00m i \u001b[38;5;129;01min\u001b[39;00m clean_box:\n\u001b[0;32m----> 2\u001b[0m     \u001b[38;5;28mprint\u001b[39m(\u001b[38;5;124m'\u001b[39m\u001b[38;5;124mhttps://www.flipkart.com\u001b[39m\u001b[38;5;124m'\u001b[39m\u001b[38;5;241m+\u001b[39m \u001b[43mi\u001b[49m\u001b[38;5;241;43m.\u001b[39;49m\u001b[43mdiv\u001b[49m\u001b[38;5;241;43m.\u001b[39;49m\u001b[43mdiv\u001b[49m\u001b[38;5;241;43m.\u001b[39;49m\u001b[43mdiv\u001b[49m\u001b[38;5;241;43m.\u001b[39;49m\u001b[43ma\u001b[49m[\u001b[38;5;124m'\u001b[39m\u001b[38;5;124mhref\u001b[39m\u001b[38;5;124m'\u001b[39m])\n",
      "\u001b[0;31mAttributeError\u001b[0m: 'NoneType' object has no attribute 'a'"
     ]
    }
   ],
   "source": [
    "for i in clean_box:\n",
    "    print('https://www.flipkart.com'+ i.div.div.div.a['href'])"
   ]
  },
  {
   "cell_type": "code",
   "execution_count": 18,
   "id": "7f94f933-a671-4d1f-b41e-0977e3a06c2f",
   "metadata": {},
   "outputs": [],
   "source": [
    "product_page = requests.get(single_product_link)"
   ]
  },
  {
   "cell_type": "code",
   "execution_count": 19,
   "id": "318d8004-f375-4ffd-b8f2-3a77b4b4cb96",
   "metadata": {},
   "outputs": [],
   "source": [
    "bs_product= bs(product_page.text,'html.parser')"
   ]
  },
  {
   "cell_type": "code",
   "execution_count": 20,
   "id": "8c2da56d-f8c0-487a-95d3-ba849b180147",
   "metadata": {},
   "outputs": [],
   "source": [
    "review_bigbox= bs_product.find_all('div',{'class':'_16PBlm'})"
   ]
  },
  {
   "cell_type": "code",
   "execution_count": 21,
   "id": "6fd99d22-b4ab-4262-b8c4-a4c7287d0b76",
   "metadata": {},
   "outputs": [
    {
     "data": {
      "text/plain": [
       "11"
      ]
     },
     "execution_count": 21,
     "metadata": {},
     "output_type": "execute_result"
    }
   ],
   "source": [
    "len(review_bigbox)"
   ]
  },
  {
   "cell_type": "code",
   "execution_count": 22,
   "id": "48270aad-ed6f-49d1-afca-0f0f0fc47280",
   "metadata": {},
   "outputs": [
    {
     "data": {
      "text/plain": [
       "'Jayaraman Desingou'"
      ]
     },
     "execution_count": 22,
     "metadata": {},
     "output_type": "execute_result"
    }
   ],
   "source": [
    "review_bigbox[0].div.div.find_all('p',{'class': '_2sc7ZR _2V5EHH'})[0].text"
   ]
  },
  {
   "cell_type": "code",
   "execution_count": 24,
   "id": "7e793193-3f5e-47d6-b848-b1b069aaaebd",
   "metadata": {},
   "outputs": [
    {
     "name": "stdout",
     "output_type": "stream",
     "text": [
      "Jayaraman Desingou\n",
      "Lijil Lakshmanan\n",
      "sachin patel\n",
      "Jidesh C\n",
      "LIONUMA\n",
      "Mahesh\n",
      "Amalendu  Maity\n",
      "Rahul Patil\n",
      "Pratik Jondhale\n",
      "Shakeel Khan\n"
     ]
    },
    {
     "ename": "AttributeError",
     "evalue": "'NoneType' object has no attribute 'div'",
     "output_type": "error",
     "traceback": [
      "\u001b[0;31m---------------------------------------------------------------------------\u001b[0m",
      "\u001b[0;31mAttributeError\u001b[0m                            Traceback (most recent call last)",
      "Cell \u001b[0;32mIn[24], line 2\u001b[0m\n\u001b[1;32m      1\u001b[0m \u001b[38;5;28;01mfor\u001b[39;00m i \u001b[38;5;129;01min\u001b[39;00m review_bigbox:\n\u001b[0;32m----> 2\u001b[0m     \u001b[38;5;28mprint\u001b[39m(\u001b[43mi\u001b[49m\u001b[38;5;241;43m.\u001b[39;49m\u001b[43mdiv\u001b[49m\u001b[38;5;241;43m.\u001b[39;49m\u001b[43mdiv\u001b[49m\u001b[38;5;241m.\u001b[39mfind_all(\u001b[38;5;124m'\u001b[39m\u001b[38;5;124mp\u001b[39m\u001b[38;5;124m'\u001b[39m,{\u001b[38;5;124m'\u001b[39m\u001b[38;5;124mclass\u001b[39m\u001b[38;5;124m'\u001b[39m: \u001b[38;5;124m'\u001b[39m\u001b[38;5;124m_2sc7ZR _2V5EHH\u001b[39m\u001b[38;5;124m'\u001b[39m})[\u001b[38;5;241m0\u001b[39m]\u001b[38;5;241m.\u001b[39mtext)\n",
      "\u001b[0;31mAttributeError\u001b[0m: 'NoneType' object has no attribute 'div'"
     ]
    }
   ],
   "source": [
    "for i in review_bigbox:\n",
    "    print(i.div.div.find_all('p',{'class': '_2sc7ZR _2V5EHH'})[0].text)"
   ]
  },
  {
   "cell_type": "code",
   "execution_count": 26,
   "id": "aa451cad-824c-4168-bd6e-47537ba71411",
   "metadata": {},
   "outputs": [
    {
     "ename": "KeyError",
     "evalue": "0",
     "output_type": "error",
     "traceback": [
      "\u001b[0;31m---------------------------------------------------------------------------\u001b[0m",
      "\u001b[0;31mKeyError\u001b[0m                                  Traceback (most recent call last)",
      "Cell \u001b[0;32mIn[26], line 1\u001b[0m\n\u001b[0;32m----> 1\u001b[0m \u001b[43mreview_bigbox\u001b[49m\u001b[43m[\u001b[49m\u001b[38;5;241;43m0\u001b[39;49m\u001b[43m]\u001b[49m\u001b[38;5;241;43m.\u001b[39;49m\u001b[43mdiv\u001b[49m\u001b[38;5;241;43m.\u001b[39;49m\u001b[43mdiv\u001b[49m\u001b[38;5;241;43m.\u001b[39;49m\u001b[43mdiv\u001b[49m\u001b[43m[\u001b[49m\u001b[38;5;241;43m0\u001b[39;49m\u001b[43m]\u001b[49m\u001b[38;5;241m.\u001b[39mtext\n",
      "File \u001b[0;32m/opt/conda/lib/python3.10/site-packages/bs4/element.py:1519\u001b[0m, in \u001b[0;36mTag.__getitem__\u001b[0;34m(self, key)\u001b[0m\n\u001b[1;32m   1516\u001b[0m \u001b[38;5;28;01mdef\u001b[39;00m \u001b[38;5;21m__getitem__\u001b[39m(\u001b[38;5;28mself\u001b[39m, key):\n\u001b[1;32m   1517\u001b[0m     \u001b[38;5;124;03m\"\"\"tag[key] returns the value of the 'key' attribute for the Tag,\u001b[39;00m\n\u001b[1;32m   1518\u001b[0m \u001b[38;5;124;03m    and throws an exception if it's not there.\"\"\"\u001b[39;00m\n\u001b[0;32m-> 1519\u001b[0m     \u001b[38;5;28;01mreturn\u001b[39;00m \u001b[38;5;28;43mself\u001b[39;49m\u001b[38;5;241;43m.\u001b[39;49m\u001b[43mattrs\u001b[49m\u001b[43m[\u001b[49m\u001b[43mkey\u001b[49m\u001b[43m]\u001b[49m\n",
      "\u001b[0;31mKeyError\u001b[0m: 0"
     ]
    }
   ],
   "source": [
    "review_bigbox[0].div.div.div[0].text"
   ]
  },
  {
   "cell_type": "code",
   "execution_count": 30,
   "id": "32b790c8-60f7-426c-ade4-5d604568ac8c",
   "metadata": {},
   "outputs": [],
   "source": [
    "dc"
   ]
  },
  {
   "cell_type": "code",
   "execution_count": 28,
   "id": "816efa20-e661-4bdd-8cc4-b1eee4afad2f",
   "metadata": {},
   "outputs": [
    {
     "ename": "SyntaxError",
     "evalue": "invalid syntax (1015499630.py, line 1)",
     "output_type": "error",
     "traceback": [
      "\u001b[0;36m  Cell \u001b[0;32mIn[28], line 1\u001b[0;36m\u001b[0m\n\u001b[0;31m    x++\u001b[0m\n\u001b[0m       ^\u001b[0m\n\u001b[0;31mSyntaxError\u001b[0m\u001b[0;31m:\u001b[0m invalid syntax\n"
     ]
    }
   ],
   "source": [
    "x++"
   ]
  },
  {
   "cell_type": "code",
   "execution_count": 31,
   "id": "ca2c893f-397f-481f-b5d7-2c0651e8624a",
   "metadata": {},
   "outputs": [
    {
     "name": "stdout",
     "output_type": "stream",
     "text": [
      "dc\n"
     ]
    }
   ],
   "source": [
    " print ( s[ 2 : -1 ])"
   ]
  },
  {
   "cell_type": "code",
   "execution_count": 34,
   "id": "4e73c5fa-702d-46db-b31d-e6797f83eaa5",
   "metadata": {},
   "outputs": [
    {
     "name": "stdout",
     "output_type": "stream",
     "text": [
      "2IA\n"
     ]
    }
   ],
   "source": [
    " def func(s):\n",
    "\n",
    "        if len(s) <= 1:\n",
    "            return s\n",
    "\n",
    "        return func(s[ 2 : ]) + s[0]\n",
    "print( func( \"AeI123\") )   "
   ]
  },
  {
   "cell_type": "code",
   "execution_count": 36,
   "id": "bb571ff0-e7f5-4ffc-842c-3ca3427667ac",
   "metadata": {},
   "outputs": [
    {
     "ename": "IndentationError",
     "evalue": "unindent does not match any outer indentation level (<tokenize>, line 7)",
     "output_type": "error",
     "traceback": [
      "\u001b[0;36m  File \u001b[0;32m<tokenize>:7\u001b[0;36m\u001b[0m\n\u001b[0;31m    return;\u001b[0m\n\u001b[0m    ^\u001b[0m\n\u001b[0;31mIndentationError\u001b[0m\u001b[0;31m:\u001b[0m unindent does not match any outer indentation level\n"
     ]
    }
   ],
   "source": [
    "\n",
    " def func(arr , start, end) :\n",
    "\n",
    "                  if start == end :\n",
    "\n",
    "                        print( arr[ start ] );\n",
    "\n",
    "                       return;\n",
    "\n",
    "        mid = (start + end)//2;\n",
    "\n",
    "        print( arr[mid] );\n",
    "\n",
    "        func(arr, start, mid - 1 );\n",
    " \n",
    "       func( arr, mid + 1, end );  "
   ]
  },
  {
   "cell_type": "code",
   "execution_count": 52,
   "id": "07a90b78-ec25-432c-a991-b06069b29e3f",
   "metadata": {},
   "outputs": [],
   "source": [
    "nums = [0,1,0,3,12]"
   ]
  },
  {
   "cell_type": "code",
   "execution_count": 53,
   "id": "13d01532-9174-48ce-98c3-b262ec23e448",
   "metadata": {},
   "outputs": [
    {
     "ename": "IndexError",
     "evalue": "list index out of range",
     "output_type": "error",
     "traceback": [
      "\u001b[0;31m---------------------------------------------------------------------------\u001b[0m",
      "\u001b[0;31mIndexError\u001b[0m                                Traceback (most recent call last)",
      "Cell \u001b[0;32mIn[53], line 5\u001b[0m\n\u001b[1;32m      3\u001b[0m \u001b[38;5;28;01mfor\u001b[39;00m j \u001b[38;5;129;01min\u001b[39;00m \u001b[38;5;28mrange\u001b[39m(\u001b[38;5;28mlen\u001b[39m(nums),\u001b[38;5;241m0\u001b[39m,\u001b[38;5;241m-\u001b[39m\u001b[38;5;241m1\u001b[39m):\n\u001b[1;32m      4\u001b[0m     \u001b[38;5;28;01mif\u001b[39;00m i \u001b[38;5;241m==\u001b[39m \u001b[38;5;241m0\u001b[39m:\n\u001b[0;32m----> 5\u001b[0m         \u001b[43mls\u001b[49m\u001b[43m[\u001b[49m\u001b[43mj\u001b[49m\u001b[43m]\u001b[49m\u001b[38;5;241m.\u001b[39mappend(i)\n\u001b[1;32m      6\u001b[0m     \u001b[38;5;28;01melse\u001b[39;00m:\n\u001b[1;32m      7\u001b[0m         ls\u001b[38;5;241m.\u001b[39mappend(i)\n",
      "\u001b[0;31mIndexError\u001b[0m: list index out of range"
     ]
    }
   ],
   "source": [
    "ls=[]*len(nums)\n",
    "for i in nums:\n",
    "    for j in range(len(nums),0,-1):\n",
    "        if i == 0:\n",
    "            ls[j].append(i)\n",
    "        else:\n",
    "            ls.append(i)\n",
    "        \n",
    "\n",
    "print(ls)       "
   ]
  },
  {
   "cell_type": "code",
   "execution_count": 44,
   "id": "a5afc4b8-e305-4529-87f6-16eadacf7fec",
   "metadata": {},
   "outputs": [
    {
     "data": {
      "text/plain": [
       "[None, None, None, None, 22, None, None, None, None, None]"
      ]
     },
     "execution_count": 44,
     "metadata": {},
     "output_type": "execute_result"
    }
   ],
   "source": [
    "ls=[None]*10\n",
    "ls[len(nums)-1]=22\n",
    "ls"
   ]
  },
  {
   "cell_type": "code",
   "execution_count": 50,
   "id": "b0e31cb4-6b18-41b6-954a-de9dcaf1b4c4",
   "metadata": {},
   "outputs": [
    {
     "data": {
      "text/plain": [
       "[0, 0, 0, 0, 0]"
      ]
     },
     "execution_count": 50,
     "metadata": {},
     "output_type": "execute_result"
    }
   ],
   "source": [
    "def movezero(ls):\n",
    "    count=0\n",
    "    for i in range(len(ls)):\n",
    "        if ls[count] != 0:\n",
    "            ls[count]=ls[i]\n",
    "            count += 1\n",
    "    while count< len(ls):\n",
    "        ls[count] = 0\n",
    "        count += 1\n",
    "    return ls\n",
    "\n",
    "movezero(nums)"
   ]
  },
  {
   "cell_type": "code",
   "execution_count": 9,
   "id": "ef190f8b-d71f-44e5-a7e3-eddb56ea4e78",
   "metadata": {},
   "outputs": [],
   "source": [
    "nums = [0,1,0,3,12]"
   ]
  },
  {
   "cell_type": "code",
   "execution_count": 11,
   "id": "272a54f9-511f-4d05-9c28-f9640cb0b6e6",
   "metadata": {
    "tags": []
   },
   "outputs": [
    {
     "name": "stdout",
     "output_type": "stream",
     "text": [
      "2\n",
      "[1, 3, 12, 0, 0]\n"
     ]
    }
   ],
   "source": [
    "ls=[]\n",
    "count =0\n",
    "n = len(nums)\n",
    "for i in nums:\n",
    "    if i!=0:\n",
    "        ls.append(i)\n",
    "    else:\n",
    "        count +=1\n",
    "for j in range(count):\n",
    "    ls.append(0)\n",
    "\n",
    "\n",
    "print(ls)\n",
    "    \n",
    "        "
   ]
  },
  {
   "cell_type": "code",
   "execution_count": null,
   "id": "d39d8d48-441c-4510-916c-02deae06d71c",
   "metadata": {},
   "outputs": [],
   "source": []
  },
  {
   "cell_type": "code",
   "execution_count": null,
   "id": "36e3ac92-8901-450f-a735-4e8af5691eeb",
   "metadata": {},
   "outputs": [],
   "source": []
  }
 ],
 "metadata": {
  "kernelspec": {
   "display_name": "Python 3 (ipykernel)",
   "language": "python",
   "name": "python3"
  },
  "language_info": {
   "codemirror_mode": {
    "name": "ipython",
    "version": 3
   },
   "file_extension": ".py",
   "mimetype": "text/x-python",
   "name": "python",
   "nbconvert_exporter": "python",
   "pygments_lexer": "ipython3",
   "version": "3.10.8"
  }
 },
 "nbformat": 4,
 "nbformat_minor": 5
}
