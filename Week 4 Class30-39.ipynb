{
 "cells": [
  {
   "cell_type": "markdown",
   "id": "75805a2e-0024-447c-8946-276fd2f3244c",
   "metadata": {},
   "source": [
    "# Class 30 OOps"
   ]
  },
  {
   "cell_type": "code",
   "execution_count": 2,
   "id": "8ab0dfa9-e72e-4983-b452-6cf414a70742",
   "metadata": {},
   "outputs": [],
   "source": [
    "class test:\n",
    "    pass"
   ]
  },
  {
   "cell_type": "code",
   "execution_count": 3,
   "id": "0b0d2adf-8177-4dc1-bd6d-99ce4e2e364b",
   "metadata": {},
   "outputs": [],
   "source": [
    "a=test()"
   ]
  },
  {
   "cell_type": "code",
   "execution_count": 9,
   "id": "182fbead-a96e-4468-831a-92609fd2d70e",
   "metadata": {},
   "outputs": [],
   "source": [
    "class pwskill:\n",
    "    \n",
    "    def welcome(self):\n",
    "        print('welcome to PW')"
   ]
  },
  {
   "cell_type": "code",
   "execution_count": 10,
   "id": "f3a773f1-8809-417f-9e9e-58eff487c907",
   "metadata": {},
   "outputs": [],
   "source": [
    "rohan =pwskill()"
   ]
  },
  {
   "cell_type": "code",
   "execution_count": 11,
   "id": "bc5400bf-3a55-4de5-a6ff-5335331e5f56",
   "metadata": {},
   "outputs": [
    {
     "name": "stdout",
     "output_type": "stream",
     "text": [
      "welcome to PW\n"
     ]
    }
   ],
   "source": [
    "rohan.welcome()"
   ]
  },
  {
   "cell_type": "code",
   "execution_count": 12,
   "id": "126dbd51-90be-4f8a-ae0f-20723fd534d8",
   "metadata": {},
   "outputs": [],
   "source": [
    "sohan =pwskill()"
   ]
  },
  {
   "cell_type": "code",
   "execution_count": 13,
   "id": "26f5a12a-9c5e-49c0-b86f-e09d74a8d407",
   "metadata": {},
   "outputs": [
    {
     "name": "stdout",
     "output_type": "stream",
     "text": [
      "welcome to PW\n"
     ]
    }
   ],
   "source": [
    "sohan.welcome()"
   ]
  },
  {
   "cell_type": "code",
   "execution_count": 1,
   "id": "3c28156c-8e1a-4f13-9407-7854e6046dad",
   "metadata": {},
   "outputs": [],
   "source": [
    "class pwskills:\n",
    "    def __init__(self, pnumber,eid,stid):\n",
    "        self.phone_number = pnumber \n",
    "        self.email_id = eid \n",
    "        self.student_id = stid \n",
    "    \n",
    "    def return_details(self):\n",
    "        return self.phone_number, self.email_id, self.student_id"
   ]
  },
  {
   "cell_type": "code",
   "execution_count": 2,
   "id": "e014c133-d74f-4f1f-8800-81a59c7ea027",
   "metadata": {},
   "outputs": [],
   "source": [
    "rohan1 = pwskills(9811,'rohan@gmail','e123456')"
   ]
  },
  {
   "cell_type": "code",
   "execution_count": 3,
   "id": "2b9a9c4f-9def-4549-8cb8-7791ec2580cb",
   "metadata": {},
   "outputs": [
    {
     "data": {
      "text/plain": [
       "(9811, 'rohan@gmail', 'e123456')"
      ]
     },
     "execution_count": 3,
     "metadata": {},
     "output_type": "execute_result"
    }
   ],
   "source": [
    "rohan1.return_details()"
   ]
  },
  {
   "cell_type": "code",
   "execution_count": 10,
   "id": "b3c6a232-bad2-4619-8caa-455008da7522",
   "metadata": {},
   "outputs": [
    {
     "data": {
      "text/plain": [
       "9811"
      ]
     },
     "execution_count": 10,
     "metadata": {},
     "output_type": "execute_result"
    }
   ],
   "source": [
    "rohan1.phone_number"
   ]
  },
  {
   "cell_type": "code",
   "execution_count": 5,
   "id": "1b0192ca-1bdc-470e-8662-1f38fa1b4a1a",
   "metadata": {},
   "outputs": [
    {
     "data": {
      "text/plain": [
       "'rohan@gmail'"
      ]
     },
     "execution_count": 5,
     "metadata": {},
     "output_type": "execute_result"
    }
   ],
   "source": [
    "rohan1.email_id"
   ]
  },
  {
   "cell_type": "code",
   "execution_count": 13,
   "id": "2d804d80-c700-4fe9-b391-b800e8c64e0c",
   "metadata": {},
   "outputs": [
    {
     "data": {
      "text/plain": [
       "'e123456'"
      ]
     },
     "execution_count": 13,
     "metadata": {},
     "output_type": "execute_result"
    }
   ],
   "source": [
    "rohan1.student_id"
   ]
  },
  {
   "cell_type": "code",
   "execution_count": 12,
   "id": "ce173b17-54ac-4671-bc66-c8dbc9c9daff",
   "metadata": {},
   "outputs": [
    {
     "data": {
      "text/plain": [
       "'e123456'"
      ]
     },
     "execution_count": 12,
     "metadata": {},
     "output_type": "execute_result"
    }
   ],
   "source": []
  },
  {
   "cell_type": "code",
   "execution_count": 14,
   "id": "0a744a06-e6ce-4588-b9e5-5bef25951a07",
   "metadata": {},
   "outputs": [],
   "source": [
    "class pwskills2:\n",
    "    def __init__(uf, pnumber,eid,stid):\n",
    "        uf.phone_number = pnumber \n",
    "        uf.email_id = eid \n",
    "        uf.student_id = stid \n",
    "    \n",
    "    def return_details(self):\n",
    "        return uf.phone_number, uf.email_id, uf.student_id"
   ]
  },
  {
   "cell_type": "code",
   "execution_count": 15,
   "id": "c0ed662d-1b47-4419-9b0b-6f026c9e6293",
   "metadata": {},
   "outputs": [],
   "source": [
    "sohan1 = pwskills(6140,'sohan@gmail','ef123456')"
   ]
  },
  {
   "cell_type": "code",
   "execution_count": 17,
   "id": "0341d511-97fc-4462-9e39-35c94b73180e",
   "metadata": {},
   "outputs": [
    {
     "data": {
      "text/plain": [
       "(6140, 'sohan@gmail', 'ef123456')"
      ]
     },
     "execution_count": 17,
     "metadata": {},
     "output_type": "execute_result"
    }
   ],
   "source": [
    "sohan1.return_details()"
   ]
  },
  {
   "cell_type": "code",
   "execution_count": null,
   "id": "1a1d8230-49ef-4f7d-babe-88f99033b1b4",
   "metadata": {},
   "outputs": [],
   "source": []
  },
  {
   "cell_type": "markdown",
   "id": "c571d6d2-7691-4bc1-9ef6-099f06212167",
   "metadata": {},
   "source": [
    "# Class 31 Polymorphism:"
   ]
  },
  {
   "cell_type": "code",
   "execution_count": 26,
   "id": "0564b47f-e974-4ac5-ae0f-dd59eef17080",
   "metadata": {},
   "outputs": [],
   "source": [
    "class poly1:\n",
    "    def sylb(self):\n",
    "        print('Print data Sylb')"
   ]
  },
  {
   "cell_type": "code",
   "execution_count": 27,
   "id": "42db156f-f81a-4240-b081-8a8e88e57fe9",
   "metadata": {},
   "outputs": [],
   "source": [
    "class poly2:\n",
    "    def sylb(self):\n",
    "        print('print web sylb')"
   ]
  },
  {
   "cell_type": "code",
   "execution_count": 28,
   "id": "81be55c7-6898-4918-a15f-6ee7604962ec",
   "metadata": {},
   "outputs": [],
   "source": [
    "def parsh(fna):\n",
    "    for i in fna:\n",
    "        i.sylb()"
   ]
  },
  {
   "cell_type": "code",
   "execution_count": 29,
   "id": "4172b72d-3575-4d19-9c0d-404b4be42954",
   "metadata": {},
   "outputs": [],
   "source": [
    "a=poly1()\n",
    "b=poly2()"
   ]
  },
  {
   "cell_type": "code",
   "execution_count": 30,
   "id": "aa9aabb7-e7ef-4bf1-9d49-d93bc38feccd",
   "metadata": {},
   "outputs": [],
   "source": [
    "c = [a,b]"
   ]
  },
  {
   "cell_type": "code",
   "execution_count": 31,
   "id": "9d5c3a02-7b24-46eb-9e96-0714d1b1b300",
   "metadata": {},
   "outputs": [
    {
     "name": "stdout",
     "output_type": "stream",
     "text": [
      "Print data Sylb\n",
      "print web sylb\n"
     ]
    }
   ],
   "source": [
    "parsh(c)"
   ]
  },
  {
   "cell_type": "markdown",
   "id": "c3aca06e-5c48-4c35-ab43-e54dab3c8428",
   "metadata": {},
   "source": [
    "# Class 32 Encapsulation:"
   ]
  },
  {
   "cell_type": "code",
   "execution_count": 2,
   "id": "dd37f52b-ed92-41d9-a68d-30d050510a5d",
   "metadata": {},
   "outputs": [],
   "source": [
    "class test:\n",
    "    def __init__(self,a,b):\n",
    "        self.a=a\n",
    "        self.b=b"
   ]
  },
  {
   "cell_type": "code",
   "execution_count": 5,
   "id": "05bdeaa2-7c12-4240-89c6-7def61623f8f",
   "metadata": {},
   "outputs": [],
   "source": [
    "t=test(14,20)"
   ]
  },
  {
   "cell_type": "code",
   "execution_count": 6,
   "id": "da24d2be-82aa-4934-8aab-2e837c1ccf81",
   "metadata": {},
   "outputs": [
    {
     "data": {
      "text/plain": [
       "14"
      ]
     },
     "execution_count": 6,
     "metadata": {},
     "output_type": "execute_result"
    }
   ],
   "source": [
    "t.a"
   ]
  },
  {
   "cell_type": "code",
   "execution_count": 7,
   "id": "e7928b8c-5c10-417a-b156-7210cbb9eb7f",
   "metadata": {},
   "outputs": [
    {
     "data": {
      "text/plain": [
       "20"
      ]
     },
     "execution_count": 7,
     "metadata": {},
     "output_type": "execute_result"
    }
   ],
   "source": [
    "t.b"
   ]
  },
  {
   "cell_type": "code",
   "execution_count": 10,
   "id": "d28cd618-94d7-4b3d-8afd-27ef61afd8a1",
   "metadata": {},
   "outputs": [],
   "source": [
    "t.a=12 # prevent direct modification >> Encapsulation"
   ]
  },
  {
   "cell_type": "code",
   "execution_count": 9,
   "id": "3a818a45-215a-4c31-8c46-e9747aa40b33",
   "metadata": {},
   "outputs": [
    {
     "data": {
      "text/plain": [
       "12"
      ]
     },
     "execution_count": 9,
     "metadata": {},
     "output_type": "execute_result"
    }
   ],
   "source": [
    "t.a"
   ]
  },
  {
   "cell_type": "code",
   "execution_count": 58,
   "id": "0e2d8532-6ac8-448f-a24b-9ef91da5b651",
   "metadata": {},
   "outputs": [],
   "source": [
    "class car:\n",
    "    def __init__(self, yr,mk,mod,speed):\n",
    "        self.__yr=yr\n",
    "        self.__mk=mk\n",
    "        self.__mod=mod\n",
    "        self.__speed=0\n",
    "        \n",
    "    def set_speed(self,speed):\n",
    "        self.__speed = 0 if speed < 0 else speed\n",
    "        \n",
    "    def get_speed(self):\n",
    "        return self.__speed"
   ]
  },
  {
   "cell_type": "code",
   "execution_count": 59,
   "id": "521b0d26-13ab-4514-b044-8a3ba25b73e2",
   "metadata": {},
   "outputs": [],
   "source": [
    "mycar =car(2022,'honda','wrv',200)"
   ]
  },
  {
   "cell_type": "code",
   "execution_count": 60,
   "id": "a00155ed-5c4a-4aa4-a99e-7645266d2deb",
   "metadata": {},
   "outputs": [
    {
     "ename": "AttributeError",
     "evalue": "'car' object has no attribute 'yr'",
     "output_type": "error",
     "traceback": [
      "\u001b[0;31m---------------------------------------------------------------------------\u001b[0m",
      "\u001b[0;31mAttributeError\u001b[0m                            Traceback (most recent call last)",
      "Cell \u001b[0;32mIn[60], line 1\u001b[0m\n\u001b[0;32m----> 1\u001b[0m \u001b[43mmycar\u001b[49m\u001b[38;5;241;43m.\u001b[39;49m\u001b[43myr\u001b[49m \u001b[38;5;66;03m# >> this is called hiding class variables>> Encapsulation\u001b[39;00m\n",
      "\u001b[0;31mAttributeError\u001b[0m: 'car' object has no attribute 'yr'"
     ]
    }
   ],
   "source": [
    "mycar.yr # >> this is called hiding class variables>> Encapsulation"
   ]
  },
  {
   "cell_type": "code",
   "execution_count": 61,
   "id": "2e9fa9de-027a-478a-936b-41cd95d2607c",
   "metadata": {},
   "outputs": [
    {
     "data": {
      "text/plain": [
       "0"
      ]
     },
     "execution_count": 61,
     "metadata": {},
     "output_type": "execute_result"
    }
   ],
   "source": [
    "mycar._car__speed # variable can be acesss like this"
   ]
  },
  {
   "cell_type": "code",
   "execution_count": 62,
   "id": "f12fbbca-c087-4daa-8f0e-3a0fcae129a5",
   "metadata": {},
   "outputs": [
    {
     "data": {
      "text/plain": [
       "2022"
      ]
     },
     "execution_count": 62,
     "metadata": {},
     "output_type": "execute_result"
    }
   ],
   "source": [
    "mycar._car__yr # variable can be acesss like this"
   ]
  },
  {
   "cell_type": "code",
   "execution_count": 63,
   "id": "e86e69c0-6108-4f11-899d-6b83e1665cb2",
   "metadata": {},
   "outputs": [],
   "source": [
    "mycar._car__yr = 2023 # variable can be modified like this"
   ]
  },
  {
   "cell_type": "code",
   "execution_count": 64,
   "id": "098678a1-f6c6-4341-bb8f-559e3016b681",
   "metadata": {},
   "outputs": [
    {
     "data": {
      "text/plain": [
       "2023"
      ]
     },
     "execution_count": 64,
     "metadata": {},
     "output_type": "execute_result"
    }
   ],
   "source": [
    "mycar._car__yr"
   ]
  },
  {
   "cell_type": "code",
   "execution_count": 79,
   "id": "1bd17d55-1c05-45e4-9260-9822a086c824",
   "metadata": {},
   "outputs": [],
   "source": [
    "mycar2 =car(2022,'maruti','sx4',-1)"
   ]
  },
  {
   "cell_type": "code",
   "execution_count": 80,
   "id": "5ef25b95-8c26-4dde-a2ba-88d36a02c780",
   "metadata": {},
   "outputs": [
    {
     "data": {
      "text/plain": [
       "0"
      ]
     },
     "execution_count": 80,
     "metadata": {},
     "output_type": "execute_result"
    }
   ],
   "source": [
    "mycar2.get_speed()"
   ]
  },
  {
   "cell_type": "code",
   "execution_count": 82,
   "id": "57c5aec5-f2da-439c-a714-60751ececb73",
   "metadata": {},
   "outputs": [],
   "source": [
    "mycar2.set_speed(2)"
   ]
  },
  {
   "cell_type": "code",
   "execution_count": 83,
   "id": "93ca80f5-8e45-47de-ba92-91e2a2f214ad",
   "metadata": {},
   "outputs": [
    {
     "data": {
      "text/plain": [
       "2"
      ]
     },
     "execution_count": 83,
     "metadata": {},
     "output_type": "execute_result"
    }
   ],
   "source": [
    "mycar2.get_speed()"
   ]
  },
  {
   "cell_type": "code",
   "execution_count": 89,
   "id": "03837b12-f509-41a6-84bc-3d1430f3dbfd",
   "metadata": {},
   "outputs": [],
   "source": [
    "class bank:\n",
    "    def __init__(self, bal):\n",
    "        self.__bal=bal\n",
    "        \n",
    "    def deposit(self,dmt):\n",
    "        self.__bal += dmt\n",
    "        \n",
    "    def withdrew(self, wmt):\n",
    "        if wmt<self.__bal:\n",
    "            self.__bal-=wmt\n",
    "            True\n",
    "        else:\n",
    "            print('demand > balance')\n",
    "            \n",
    "    def checkbal(self):\n",
    "        return self.__bal\n",
    "        "
   ]
  },
  {
   "cell_type": "code",
   "execution_count": 90,
   "id": "6f96ec0c-5bb3-4edb-ae6e-4fd42cf72e43",
   "metadata": {},
   "outputs": [],
   "source": [
    "myaccount = bank(10000)"
   ]
  },
  {
   "cell_type": "code",
   "execution_count": 93,
   "id": "2228a4e8-c4c0-4d10-abe8-93b3f161abe7",
   "metadata": {},
   "outputs": [],
   "source": [
    "myaccount.deposit(100)"
   ]
  },
  {
   "cell_type": "code",
   "execution_count": 94,
   "id": "93ed8340-87b0-4f2a-af35-3ac0330bf416",
   "metadata": {},
   "outputs": [
    {
     "name": "stdout",
     "output_type": "stream",
     "text": [
      "demand > balance\n"
     ]
    }
   ],
   "source": [
    "myaccount.withdrew(100000)"
   ]
  },
  {
   "cell_type": "markdown",
   "id": "f49f6ac7-577c-4a5c-8d3a-f75dd87b0443",
   "metadata": {},
   "source": [
    "# Class 33 Inheritance"
   ]
  },
  {
   "cell_type": "code",
   "execution_count": 1,
   "id": "3dcc60ab-aa7d-496f-a538-c1d91ab1e1bc",
   "metadata": {},
   "outputs": [],
   "source": [
    "class parent:\n",
    "    def ptest(self):\n",
    "        print('Parent class fn')\n",
    "class child(parent):\n",
    "    pass"
   ]
  },
  {
   "cell_type": "code",
   "execution_count": 2,
   "id": "5c62e7c1-78d7-49ce-a7a3-d7cd85dc7d89",
   "metadata": {},
   "outputs": [],
   "source": [
    "a = child()"
   ]
  },
  {
   "cell_type": "code",
   "execution_count": 5,
   "id": "2d135c51-0e97-4fc5-b023-2a4bb0a2c206",
   "metadata": {},
   "outputs": [
    {
     "name": "stdout",
     "output_type": "stream",
     "text": [
      "Parent class fn\n"
     ]
    }
   ],
   "source": [
    "a.ptest()"
   ]
  },
  {
   "cell_type": "code",
   "execution_count": 7,
   "id": "cdb9e9e9-2925-4ee5-a1af-fad9fcd76313",
   "metadata": {},
   "outputs": [],
   "source": [
    "class class1:\n",
    "    def tclass1(self):\n",
    "        print('This is class 1')\n",
    "\n",
    "class class2(class1):\n",
    "    def tclass2(self):\n",
    "        print('This is class 2')\n",
    "        \n",
    "class class3(class2):\n",
    "    def tclass3(self):\n",
    "        print('This is class 3')"
   ]
  },
  {
   "cell_type": "code",
   "execution_count": 8,
   "id": "d92b4522-34f4-47ec-924e-1f51c3eedaa7",
   "metadata": {},
   "outputs": [],
   "source": [
    "multi = class3()"
   ]
  },
  {
   "cell_type": "code",
   "execution_count": 9,
   "id": "73c59e7d-13e3-4051-99d5-71aea3d878cc",
   "metadata": {},
   "outputs": [
    {
     "name": "stdout",
     "output_type": "stream",
     "text": [
      "This is class 1\n"
     ]
    }
   ],
   "source": [
    "multi.tclass1()"
   ]
  },
  {
   "cell_type": "code",
   "execution_count": 10,
   "id": "c8f6f5fa-2962-4b2b-bbff-36a25f7b07c2",
   "metadata": {},
   "outputs": [
    {
     "name": "stdout",
     "output_type": "stream",
     "text": [
      "This is class 2\n"
     ]
    }
   ],
   "source": [
    "multi.tclass2()"
   ]
  },
  {
   "cell_type": "code",
   "execution_count": 11,
   "id": "a6e2650a-6abd-4a41-a527-2e040350aca0",
   "metadata": {},
   "outputs": [
    {
     "name": "stdout",
     "output_type": "stream",
     "text": [
      "This is class 3\n"
     ]
    }
   ],
   "source": [
    "multi.tclass3()"
   ]
  },
  {
   "cell_type": "code",
   "execution_count": 14,
   "id": "7160f872-adbc-430e-be62-38402238ec79",
   "metadata": {},
   "outputs": [],
   "source": [
    "class mclass1:\n",
    "    def tclass1(self):\n",
    "        print('This is class 1')\n",
    "\n",
    "class mclass2:\n",
    "    def tclass2(self):\n",
    "        print('This is class 2')\n",
    "        \n",
    "class mclass3(mclass1,mclass2):\n",
    "    def tclass3(self):\n",
    "        print('This is class 3')"
   ]
  },
  {
   "cell_type": "code",
   "execution_count": 16,
   "id": "389f600b-461c-4060-aee0-768a69102f64",
   "metadata": {},
   "outputs": [],
   "source": [
    "d= mclass2()"
   ]
  },
  {
   "cell_type": "code",
   "execution_count": 17,
   "id": "4794ddda-3ff2-4494-9336-fba1ac8c4937",
   "metadata": {},
   "outputs": [
    {
     "name": "stdout",
     "output_type": "stream",
     "text": [
      "This is class 2\n"
     ]
    }
   ],
   "source": [
    "d.tclass2()"
   ]
  },
  {
   "cell_type": "markdown",
   "id": "7b32398d-0ce9-4c6e-a43b-07569dc8a084",
   "metadata": {},
   "source": [
    "# Class 33 Abstraction:"
   ]
  },
  {
   "cell_type": "code",
   "execution_count": 4,
   "id": "5059385c-6b6c-412d-9545-90fde8218c0b",
   "metadata": {},
   "outputs": [],
   "source": [
    "import abc\n",
    "class pwskills:\n",
    "    abc.abstractmethod\n",
    "    def std_detail(self):\n",
    "        pass\n",
    "    \n",
    "    abc.abstractclassmethod\n",
    "    def std_assg(self):\n",
    "        pass\n",
    "    \n",
    "    abc.abstractclassmethod\n",
    "    def std_marks(self):\n",
    "        pass"
   ]
  },
  {
   "cell_type": "code",
   "execution_count": 5,
   "id": "3eadc047-69fc-41b4-9c9f-bc1be0052fd7",
   "metadata": {},
   "outputs": [],
   "source": [
    "class data_sci(pwskills):\n",
    "    def std_detail(self):\n",
    "        return 'details of DS masters'\n",
    "    \n",
    "    def std_assg(self):\n",
    "        return 'details of assinment'\n",
    "    "
   ]
  },
  {
   "cell_type": "code",
   "execution_count": 6,
   "id": "3be12471-dd76-4260-9c01-b6d260ee1330",
   "metadata": {},
   "outputs": [],
   "source": [
    "class wed_dev(pwskills):\n",
    "    def std_detail (self):\n",
    "        return 'details of WD masters'\n",
    "    \n",
    "    def std_marks(self):\n",
    "        return 'details of wd marks'\n",
    "    "
   ]
  },
  {
   "cell_type": "code",
   "execution_count": 7,
   "id": "7510ce9b-7d4d-484b-ad93-2721758c8f57",
   "metadata": {},
   "outputs": [],
   "source": [
    "ds= data_sci()"
   ]
  },
  {
   "cell_type": "code",
   "execution_count": 9,
   "id": "41d076b6-2d96-440a-b9f4-12b2b5ebf5ac",
   "metadata": {},
   "outputs": [
    {
     "data": {
      "text/plain": [
       "'details of DS masters'"
      ]
     },
     "execution_count": 9,
     "metadata": {},
     "output_type": "execute_result"
    }
   ],
   "source": [
    "ds.std_detail()"
   ]
  },
  {
   "cell_type": "code",
   "execution_count": 10,
   "id": "6a9c4240-9c57-415b-b33a-d599bcffb3a5",
   "metadata": {},
   "outputs": [],
   "source": [
    "wd= wed_dev()"
   ]
  },
  {
   "cell_type": "code",
   "execution_count": 12,
   "id": "85cb17b8-1d73-4ebd-9b43-f5c89c179537",
   "metadata": {},
   "outputs": [
    {
     "data": {
      "text/plain": [
       "'details of WD masters'"
      ]
     },
     "execution_count": 12,
     "metadata": {},
     "output_type": "execute_result"
    }
   ],
   "source": [
    "wd.std_detail()"
   ]
  },
  {
   "cell_type": "code",
   "execution_count": 14,
   "id": "b436d84a-e1ed-486d-af79-5b8b5859f352",
   "metadata": {},
   "outputs": [],
   "source": [
    "pw= pwskills()"
   ]
  },
  {
   "cell_type": "code",
   "execution_count": 15,
   "id": "4c17d2ee-c92a-4e54-8d79-af056bd77285",
   "metadata": {},
   "outputs": [],
   "source": [
    "pw.std_assg()"
   ]
  },
  {
   "cell_type": "markdown",
   "id": "7cb48f26-aa18-4246-8987-4da64f4d1a29",
   "metadata": {},
   "source": [
    "# Class 34 Decorators:"
   ]
  },
  {
   "cell_type": "code",
   "execution_count": 14,
   "id": "e034d701-cbad-4890-8abe-42ecf479606a",
   "metadata": {},
   "outputs": [],
   "source": [
    "import time\n",
    "\n",
    "def timmer_test(fn):\n",
    "    def timeit_inner():\n",
    "        start= time.time()\n",
    "        fn()\n",
    "        end = time.time()\n",
    "        print(end-start)\n",
    "    return timeit_inner"
   ]
  },
  {
   "cell_type": "code",
   "execution_count": 21,
   "id": "ab46b23b-5150-4406-bf15-cf839bb3ab5a",
   "metadata": {},
   "outputs": [],
   "source": [
    "@timmer_test\n",
    "def million():\n",
    "        for i in range(1000000000):\n",
    "            count=i\n",
    "        pass"
   ]
  },
  {
   "cell_type": "code",
   "execution_count": 22,
   "id": "371414ec-cd1b-48d1-aa98-7e9f40306b5a",
   "metadata": {},
   "outputs": [
    {
     "name": "stdout",
     "output_type": "stream",
     "text": [
      "28.426731824874878\n"
     ]
    }
   ],
   "source": [
    "million()"
   ]
  },
  {
   "cell_type": "markdown",
   "id": "cf8f0e13-2ad7-493d-9147-17a2508f5adf",
   "metadata": {},
   "source": [
    "# Class 35 Class Methods:"
   ]
  },
  {
   "cell_type": "code",
   "execution_count": 1,
   "id": "ef2623fd-33c8-4f02-9650-cefe0a2bf291",
   "metadata": {},
   "outputs": [],
   "source": [
    "class pwskills:\n",
    "    def __init__(self, name, email):\n",
    "        self.name = name\n",
    "        self.email = email\n",
    "    \n",
    "    def std_details(self):\n",
    "        print (self.name,self.email)\n",
    "    "
   ]
  },
  {
   "cell_type": "code",
   "execution_count": 4,
   "id": "152b9c89-b680-40c7-be95-1f96c95a314e",
   "metadata": {},
   "outputs": [],
   "source": [
    "a= pwskills('rohan', 'rohan@gmail')"
   ]
  },
  {
   "cell_type": "code",
   "execution_count": 5,
   "id": "47cae0ea-0ba5-4a2b-9cff-d36982be2ef1",
   "metadata": {},
   "outputs": [
    {
     "name": "stdout",
     "output_type": "stream",
     "text": [
      "rohan rohan@gmail\n"
     ]
    }
   ],
   "source": [
    "a.std_details()"
   ]
  },
  {
   "cell_type": "code",
   "execution_count": 15,
   "id": "aacde5df-b975-4683-9b26-d789d6553520",
   "metadata": {},
   "outputs": [
    {
     "data": {
      "text/plain": [
       "'mohan'"
      ]
     },
     "execution_count": 15,
     "metadata": {},
     "output_type": "execute_result"
    }
   ],
   "source": [
    "a.name"
   ]
  },
  {
   "cell_type": "code",
   "execution_count": 87,
   "id": "7169b7ad-5473-4bd1-8e5a-77d9c6d3cc50",
   "metadata": {},
   "outputs": [],
   "source": [
    "\n",
    "class pwskills1:\n",
    "    def __init__(self, name, email):\n",
    "        self.name = name\n",
    "        self.email = email\n",
    "    \n",
    "    @classmethod\n",
    "    def details(cls,name1, email1):\n",
    "        return cls(name1,email1)\n",
    "        \n",
    "    def std_details(self):\n",
    "        print (self.name,self.email)\n",
    "    "
   ]
  },
  {
   "cell_type": "code",
   "execution_count": 88,
   "id": "7b8c4ec1-e3aa-40f7-b3f9-60fdaf378ec7",
   "metadata": {},
   "outputs": [],
   "source": [
    "a =pwskills1('mohan', 'mohan@gmail.com')"
   ]
  },
  {
   "cell_type": "code",
   "execution_count": 89,
   "id": "2797514c-cca8-4f38-a2e3-b73943e030c7",
   "metadata": {},
   "outputs": [],
   "source": [
    "b=pwskills1.details('mohan', 'mohan@gmail.com')"
   ]
  },
  {
   "cell_type": "code",
   "execution_count": 90,
   "id": "92a283a8-4e1d-4c1c-8ba2-5e93a250e062",
   "metadata": {},
   "outputs": [
    {
     "name": "stdout",
     "output_type": "stream",
     "text": [
      "mohan mohan@gmail.com\n"
     ]
    }
   ],
   "source": [
    "a.std_details()"
   ]
  },
  {
   "cell_type": "code",
   "execution_count": 91,
   "id": "a8e233cb-711c-4608-8ddf-6439c9f16697",
   "metadata": {},
   "outputs": [
    {
     "name": "stdout",
     "output_type": "stream",
     "text": [
      "mohan mohan@gmail.com\n"
     ]
    }
   ],
   "source": [
    "b.std_details()"
   ]
  },
  {
   "cell_type": "code",
   "execution_count": 96,
   "id": "8e6f10e8-678d-476c-a988-b983a3a87f5d",
   "metadata": {},
   "outputs": [],
   "source": [
    "class pwskills2:\n",
    "    mnumber = 98774563321\n",
    "    def __init__(self, name, email):\n",
    "        self.name = name\n",
    "        self.email = email\n",
    "    \n",
    "    @classmethod\n",
    "    def details(cls,name1, email1):\n",
    "        return cls(name1,email1)\n",
    "        \n",
    "    def std_details(self):\n",
    "        print (self.name,self.email,pwskills2.mnumber)\n",
    "    "
   ]
  },
  {
   "cell_type": "code",
   "execution_count": 95,
   "id": "3f387caa-73dc-456f-b204-5d60fa64e768",
   "metadata": {},
   "outputs": [
    {
     "data": {
      "text/plain": [
       "98774563321"
      ]
     },
     "execution_count": 95,
     "metadata": {},
     "output_type": "execute_result"
    }
   ],
   "source": [
    "pwskills2.mnumber"
   ]
  },
  {
   "cell_type": "code",
   "execution_count": 97,
   "id": "28b8564e-7272-4a0a-8d67-2a83f3842fe6",
   "metadata": {},
   "outputs": [],
   "source": [
    "class Student:\n",
    "    # class variables\n",
    "    school_name = 'ABC School'\n",
    "\n",
    "    # constructor\n",
    "    def __init__(self, name, age):\n",
    "        # instance variables\n",
    "        self.name = name\n",
    "        self.age = age\n",
    "\n",
    "    # instance variables\n",
    "    def show(self):\n",
    "        print(self.name, self.age, Student.school_name)\n",
    "\n",
    "    @classmethod\n",
    "    def change_School(cls, name):\n",
    "        cls.school_name = name\n",
    "\n",
    "    @staticmethod\n",
    "    def find_notes(subject_name):\n",
    "        return ['chapter 1', 'chapter 2', 'chapter 3']"
   ]
  },
  {
   "cell_type": "code",
   "execution_count": 98,
   "id": "849d7f73-5320-46a9-8926-4f9b96ffd18d",
   "metadata": {},
   "outputs": [
    {
     "name": "stdout",
     "output_type": "stream",
     "text": [
      "Jessa 12 ABC School\n"
     ]
    },
    {
     "data": {
      "text/plain": [
       "['chapter 1', 'chapter 2', 'chapter 3']"
      ]
     },
     "execution_count": 98,
     "metadata": {},
     "output_type": "execute_result"
    }
   ],
   "source": [
    "# create object\n",
    "jessa = Student('Jessa', 12)\n",
    "# call instance method\n",
    "jessa.show()\n",
    "\n",
    "# call class method using the class\n",
    "Student.change_School('XYZ School')\n",
    "\n",
    "# call class method using the object\n",
    "jessa.change_School('PQR School')\n",
    "\n",
    "# call static method using the class\n",
    "Student.find_notes('Math')\n",
    "# call class method using the object\n",
    "jessa.find_notes('Math')"
   ]
  },
  {
   "cell_type": "code",
   "execution_count": 100,
   "id": "c20dd06b-5038-4d32-8231-4185f24e07cc",
   "metadata": {},
   "outputs": [],
   "source": [
    "def newfn(cls, gender):\n",
    "    print('The gebder is', gender)"
   ]
  },
  {
   "cell_type": "code",
   "execution_count": 101,
   "id": "143080f2-7212-4b10-b167-e22dfeffa1db",
   "metadata": {},
   "outputs": [],
   "source": [
    "Student.newaddFn = classmethod(newfn)"
   ]
  },
  {
   "cell_type": "code",
   "execution_count": 108,
   "id": "7319ad15-5c74-475a-ba8f-a82de7fa2a16",
   "metadata": {},
   "outputs": [],
   "source": [
    "std1 = Student('rohan', 5)"
   ]
  },
  {
   "cell_type": "code",
   "execution_count": 109,
   "id": "6e324bdc-585b-47d4-a6f9-51e06e183092",
   "metadata": {},
   "outputs": [
    {
     "name": "stdout",
     "output_type": "stream",
     "text": [
      "rohan 5 PQR School\n"
     ]
    }
   ],
   "source": [
    "std1.show()"
   ]
  },
  {
   "cell_type": "code",
   "execution_count": 110,
   "id": "16e830ac-a4c7-489a-9015-448318f047b0",
   "metadata": {},
   "outputs": [
    {
     "name": "stdout",
     "output_type": "stream",
     "text": [
      "The gebder is M\n"
     ]
    }
   ],
   "source": [
    "std1.newaddFn('M')"
   ]
  },
  {
   "cell_type": "markdown",
   "id": "14c6e3fe-4b04-458a-bb65-15e0c86b9e0d",
   "metadata": {},
   "source": [
    "# Deletring class instance and functions"
   ]
  },
  {
   "cell_type": "code",
   "execution_count": 111,
   "id": "1ea66878-78cd-4ba1-af0d-fa3ac6085619",
   "metadata": {},
   "outputs": [],
   "source": [
    "# 1 Method deleting from class objects:\n",
    "\n",
    "del std1.age"
   ]
  },
  {
   "cell_type": "code",
   "execution_count": 113,
   "id": "1fc5b1cb-56fb-4b59-8bcf-97c2d9360dad",
   "metadata": {},
   "outputs": [],
   "source": [
    "# 2 Method deleting from class itself:\n",
    "delattr(Student,'show')"
   ]
  },
  {
   "cell_type": "code",
   "execution_count": 114,
   "id": "adb94705-bee1-4b3f-9252-d6145ec84981",
   "metadata": {},
   "outputs": [],
   "source": [
    "std2 = Student('sohan', 8)"
   ]
  },
  {
   "cell_type": "markdown",
   "id": "0519d5a5-14a6-46b4-8531-40795773ef23",
   "metadata": {},
   "source": []
  },
  {
   "cell_type": "markdown",
   "id": "acba8579-3fc2-4391-9aa8-fe072ee8a6e0",
   "metadata": {},
   "source": [
    "# youtube vide link https://www.youtube.com/watch?v=BPV9sxlQ2Jc&ab_channel=GKTechFlex"
   ]
  },
  {
   "cell_type": "markdown",
   "id": "a7b2a9df-e0b7-4275-aa20-4f5a439472b5",
   "metadata": {},
   "source": [
    "# Classmethod and staticmetyhod not done completely"
   ]
  },
  {
   "cell_type": "markdown",
   "id": "9ad6fc2b-e576-447b-b0a5-3791243b05b7",
   "metadata": {},
   "source": [
    "# Class 38  Special (Magic Dunder) Methods __abc__"
   ]
  },
  {
   "cell_type": "code",
   "execution_count": 1,
   "id": "06a27535-667a-4883-a9ed-ef87bc194a1c",
   "metadata": {},
   "outputs": [
    {
     "data": {
      "text/plain": [
       "['__add__',\n",
       " '__class__',\n",
       " '__class_getitem__',\n",
       " '__contains__',\n",
       " '__delattr__',\n",
       " '__dir__',\n",
       " '__doc__',\n",
       " '__eq__',\n",
       " '__format__',\n",
       " '__ge__',\n",
       " '__getattribute__',\n",
       " '__getitem__',\n",
       " '__getnewargs__',\n",
       " '__gt__',\n",
       " '__hash__',\n",
       " '__init__',\n",
       " '__init_subclass__',\n",
       " '__iter__',\n",
       " '__le__',\n",
       " '__len__',\n",
       " '__lt__',\n",
       " '__mul__',\n",
       " '__ne__',\n",
       " '__new__',\n",
       " '__reduce__',\n",
       " '__reduce_ex__',\n",
       " '__repr__',\n",
       " '__rmul__',\n",
       " '__setattr__',\n",
       " '__sizeof__',\n",
       " '__str__',\n",
       " '__subclasshook__',\n",
       " 'count',\n",
       " 'index']"
      ]
     },
     "execution_count": 1,
     "metadata": {},
     "output_type": "execute_result"
    }
   ],
   "source": [
    "dir(tuple)"
   ]
  },
  {
   "cell_type": "code",
   "execution_count": 2,
   "id": "415408d4-77ac-4c3d-99ed-2e18fe15ebed",
   "metadata": {},
   "outputs": [
    {
     "data": {
      "text/plain": [
       "['__add__',\n",
       " '__class__',\n",
       " '__contains__',\n",
       " '__delattr__',\n",
       " '__dir__',\n",
       " '__doc__',\n",
       " '__eq__',\n",
       " '__format__',\n",
       " '__ge__',\n",
       " '__getattribute__',\n",
       " '__getitem__',\n",
       " '__getnewargs__',\n",
       " '__gt__',\n",
       " '__hash__',\n",
       " '__init__',\n",
       " '__init_subclass__',\n",
       " '__iter__',\n",
       " '__le__',\n",
       " '__len__',\n",
       " '__lt__',\n",
       " '__mod__',\n",
       " '__mul__',\n",
       " '__ne__',\n",
       " '__new__',\n",
       " '__reduce__',\n",
       " '__reduce_ex__',\n",
       " '__repr__',\n",
       " '__rmod__',\n",
       " '__rmul__',\n",
       " '__setattr__',\n",
       " '__sizeof__',\n",
       " '__str__',\n",
       " '__subclasshook__',\n",
       " 'capitalize',\n",
       " 'casefold',\n",
       " 'center',\n",
       " 'count',\n",
       " 'encode',\n",
       " 'endswith',\n",
       " 'expandtabs',\n",
       " 'find',\n",
       " 'format',\n",
       " 'format_map',\n",
       " 'index',\n",
       " 'isalnum',\n",
       " 'isalpha',\n",
       " 'isascii',\n",
       " 'isdecimal',\n",
       " 'isdigit',\n",
       " 'isidentifier',\n",
       " 'islower',\n",
       " 'isnumeric',\n",
       " 'isprintable',\n",
       " 'isspace',\n",
       " 'istitle',\n",
       " 'isupper',\n",
       " 'join',\n",
       " 'ljust',\n",
       " 'lower',\n",
       " 'lstrip',\n",
       " 'maketrans',\n",
       " 'partition',\n",
       " 'removeprefix',\n",
       " 'removesuffix',\n",
       " 'replace',\n",
       " 'rfind',\n",
       " 'rindex',\n",
       " 'rjust',\n",
       " 'rpartition',\n",
       " 'rsplit',\n",
       " 'rstrip',\n",
       " 'split',\n",
       " 'splitlines',\n",
       " 'startswith',\n",
       " 'strip',\n",
       " 'swapcase',\n",
       " 'title',\n",
       " 'translate',\n",
       " 'upper',\n",
       " 'zfill']"
      ]
     },
     "execution_count": 2,
     "metadata": {},
     "output_type": "execute_result"
    }
   ],
   "source": [
    "dir(str)"
   ]
  },
  {
   "cell_type": "code",
   "execution_count": 3,
   "id": "a56560d3-d24d-4a2d-a4b9-0944716ae94d",
   "metadata": {},
   "outputs": [],
   "source": [
    "a='umais'"
   ]
  },
  {
   "cell_type": "code",
   "execution_count": 7,
   "id": "f290ae45-b7ca-4494-998a-78806a35a464",
   "metadata": {},
   "outputs": [
    {
     "data": {
      "text/plain": [
       "'umaisa'"
      ]
     },
     "execution_count": 7,
     "metadata": {},
     "output_type": "execute_result"
    }
   ],
   "source": [
    "a.__add__('a')"
   ]
  },
  {
   "cell_type": "code",
   "execution_count": 14,
   "id": "cb737de9-5cca-4802-915b-9e7243b3d11c",
   "metadata": {},
   "outputs": [
    {
     "data": {
      "text/plain": [
       "False"
      ]
     },
     "execution_count": 14,
     "metadata": {},
     "output_type": "execute_result"
    }
   ],
   "source": [
    "a.isnumeric()"
   ]
  },
  {
   "cell_type": "markdown",
   "id": "daf8bd33-c34e-44de-b9ed-7bfc65419a66",
   "metadata": {},
   "source": [
    "# Class 39 Property Decorators Getters, Setters, And Deletes"
   ]
  },
  {
   "cell_type": "code",
   "execution_count": 31,
   "id": "73a33026-47df-4196-9aa3-2e5dcc5eb08c",
   "metadata": {},
   "outputs": [],
   "source": [
    "class pwskill:\n",
    "    def __init__(self, cprice, cname):\n",
    "        self.__price=cprice\n",
    "        self.name=cname\n",
    "    \n",
    "    @property\n",
    "    def price_unhide(self):\n",
    "        return self.__price\n",
    "    \n",
    "    @price_unhide.setter\n",
    "    def set_price(self, cprice):\n",
    "        self.__price= cprice\n",
    "    "
   ]
  },
  {
   "cell_type": "code",
   "execution_count": 32,
   "id": "5510e3dd-d380-40bd-9f0d-2e10d30d6ceb",
   "metadata": {},
   "outputs": [],
   "source": [
    "std1 = pwskill(3500,'umais')"
   ]
  },
  {
   "cell_type": "code",
   "execution_count": 35,
   "id": "fb46d0fa-59a6-44d5-a596-542d54cdff73",
   "metadata": {},
   "outputs": [],
   "source": [
    "std1.set_price=12"
   ]
  },
  {
   "cell_type": "code",
   "execution_count": 36,
   "id": "e82aa40c-cacd-4c01-acf2-d1180a4ba1d3",
   "metadata": {},
   "outputs": [
    {
     "data": {
      "text/plain": [
       "12"
      ]
     },
     "execution_count": 36,
     "metadata": {},
     "output_type": "execute_result"
    }
   ],
   "source": [
    "std1.price_unhide"
   ]
  },
  {
   "cell_type": "code",
   "execution_count": null,
   "id": "d3675a52-8b70-499a-937b-a06a0b6e6507",
   "metadata": {},
   "outputs": [],
   "source": []
  }
 ],
 "metadata": {
  "kernelspec": {
   "display_name": "Python 3 (ipykernel)",
   "language": "python",
   "name": "python3"
  },
  "language_info": {
   "codemirror_mode": {
    "name": "ipython",
    "version": 3
   },
   "file_extension": ".py",
   "mimetype": "text/x-python",
   "name": "python",
   "nbconvert_exporter": "python",
   "pygments_lexer": "ipython3",
   "version": "3.10.8"
  }
 },
 "nbformat": 4,
 "nbformat_minor": 5
}
